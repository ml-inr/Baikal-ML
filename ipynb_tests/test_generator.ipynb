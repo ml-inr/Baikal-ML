{
 "cells": [
  {
   "cell_type": "code",
   "execution_count": 1,
   "metadata": {},
   "outputs": [],
   "source": [
    "import os\n",
    "import sys\n",
    "PROJECT_PATH = \"/home/albert/Baikal-ML/\" #insert your project path\n",
    "sys.path.append(f\"{PROJECT_PATH}\")\n",
    "from time import time\n",
    "\n",
    "import numpy as np\n",
    "import uproot as ur\n",
    "import polars as pl\n",
    "\n",
    "from data.settings import GeneratorConfig\n",
    "from data.generator import TrainGenerator\n"
   ]
  },
  {
   "cell_type": "code",
   "execution_count": 4,
   "metadata": {},
   "outputs": [],
   "source": [
    "path_mu = f'/net/62/home3/ivkhar/Baikal/data/initial_data/MC_2020/muatm/root/all/'\n",
    "path_nuatm = f'/net/62/home3/ivkhar/Baikal/data/initial_data/MC_2020/nuatm/root/all/'\n",
    "path_nu2 = f'/net/62/home3/ivkhar/Baikal/data/initial_data/MC_2020/nue2_100pev/root/all/'\n",
    "\n",
    "def explore_paths(p: str, start: int, stop: int):\n",
    "        files = os.listdir(f'{p}')[start:stop]\n",
    "        return sorted([f\"{p}{file}\" for file in files])\n",
    "    \n",
    "# best trainig dataset for standard settings\n",
    "mu_paths = explore_paths(path_mu, 0, 10)\n",
    "nuatm_paths = explore_paths(path_nuatm, 0, 10)\n",
    "nu2_paths = explore_paths(path_nu2, 0, 10)"
   ]
  },
  {
   "cell_type": "code",
   "execution_count": 5,
   "metadata": {},
   "outputs": [],
   "source": [
    "gen_sets = GeneratorConfig(mu_paths, nuatm_paths, nu2_paths, shuffle=False)"
   ]
  },
  {
   "cell_type": "code",
   "execution_count": 12,
   "metadata": {},
   "outputs": [],
   "source": [
    "gen = TrainGenerator(gen_sets, collect_stats=False)\n",
    "batches = gen.get_bathces(256)"
   ]
  },
  {
   "cell_type": "code",
   "execution_count": 13,
   "metadata": {},
   "outputs": [
    {
     "name": "stdout",
     "output_type": "stream",
     "text": [
      "0\n",
      "torch.Size([256, 5, 45]) torch.Size([256, 1])\n",
      "1\n",
      "torch.Size([256, 5, 57]) torch.Size([256, 1])\n",
      "2\n",
      "torch.Size([256, 5, 40]) torch.Size([256, 1])\n",
      "3\n",
      "torch.Size([256, 5, 53]) torch.Size([256, 1])\n",
      "4\n",
      "torch.Size([256, 5, 45]) torch.Size([256, 1])\n",
      "5\n",
      "torch.Size([256, 5, 59]) torch.Size([256, 1])\n",
      "6\n",
      "torch.Size([256, 5, 52]) torch.Size([256, 1])\n",
      "7\n",
      "torch.Size([256, 5, 41]) torch.Size([256, 1])\n",
      "8\n",
      "torch.Size([256, 5, 42]) torch.Size([256, 1])\n",
      "9\n",
      "torch.Size([256, 5, 61]) torch.Size([256, 1])\n",
      "10\n",
      "torch.Size([256, 5, 56]) torch.Size([256, 1])\n",
      "11\n",
      "torch.Size([256, 5, 61]) torch.Size([256, 1])\n",
      "12\n",
      "torch.Size([256, 5, 62]) torch.Size([256, 1])\n",
      "13\n",
      "torch.Size([256, 5, 42]) torch.Size([256, 1])\n",
      "14\n",
      "torch.Size([256, 5, 50]) torch.Size([256, 1])\n",
      "15\n",
      "torch.Size([256, 5, 76]) torch.Size([256, 1])\n",
      "16\n",
      "torch.Size([256, 5, 70]) torch.Size([256, 1])\n",
      "17\n",
      "torch.Size([256, 5, 56]) torch.Size([256, 1])\n",
      "18\n",
      "torch.Size([256, 5, 78]) torch.Size([256, 1])\n",
      "19\n",
      "torch.Size([256, 5, 52]) torch.Size([256, 1])\n",
      "20\n",
      "torch.Size([256, 5, 93]) torch.Size([256, 1])\n",
      "21\n",
      "torch.Size([256, 5, 63]) torch.Size([256, 1])\n",
      "22\n",
      "torch.Size([256, 5, 49]) torch.Size([256, 1])\n",
      "23\n",
      "torch.Size([256, 5, 60]) torch.Size([256, 1])\n",
      "24\n",
      "torch.Size([256, 5, 89]) torch.Size([256, 1])\n",
      "25\n",
      "torch.Size([256, 5, 46]) torch.Size([256, 1])\n",
      "26\n",
      "torch.Size([256, 5, 67]) torch.Size([256, 1])\n",
      "27\n",
      "torch.Size([256, 5, 58]) torch.Size([256, 1])\n",
      "28\n",
      "torch.Size([256, 5, 31]) torch.Size([256, 1])\n",
      "29\n",
      "torch.Size([256, 5, 41]) torch.Size([256, 1])\n",
      "30\n",
      "torch.Size([256, 5, 53]) torch.Size([256, 1])\n",
      "31\n",
      "torch.Size([256, 5, 59]) torch.Size([256, 1])\n",
      "32\n",
      "torch.Size([256, 5, 88]) torch.Size([256, 1])\n",
      "33\n",
      "torch.Size([256, 5, 39]) torch.Size([256, 1])\n",
      "34\n",
      "torch.Size([256, 5, 54]) torch.Size([256, 1])\n",
      "35\n",
      "torch.Size([256, 5, 53]) torch.Size([256, 1])\n",
      "36\n",
      "torch.Size([256, 5, 61]) torch.Size([256, 1])\n",
      "37\n",
      "torch.Size([256, 5, 69]) torch.Size([256, 1])\n",
      "38\n",
      "torch.Size([256, 5, 58]) torch.Size([256, 1])\n",
      "39\n",
      "torch.Size([256, 5, 51]) torch.Size([256, 1])\n",
      "40\n",
      "torch.Size([256, 5, 54]) torch.Size([256, 1])\n",
      "41\n",
      "torch.Size([256, 5, 69]) torch.Size([256, 1])\n",
      "42\n",
      "torch.Size([256, 5, 40]) torch.Size([256, 1])\n",
      "43\n",
      "torch.Size([256, 5, 40]) torch.Size([256, 1])\n",
      "44\n",
      "torch.Size([256, 5, 39]) torch.Size([256, 1])\n",
      "45\n",
      "torch.Size([256, 5, 89]) torch.Size([256, 1])\n",
      "46\n",
      "torch.Size([256, 5, 66]) torch.Size([256, 1])\n",
      "47\n",
      "torch.Size([256, 5, 80]) torch.Size([256, 1])\n",
      "48\n",
      "torch.Size([256, 5, 50]) torch.Size([256, 1])\n",
      "49\n",
      "torch.Size([256, 5, 50]) torch.Size([256, 1])\n",
      "50\n",
      "torch.Size([256, 5, 50]) torch.Size([256, 1])\n",
      "51\n",
      "torch.Size([256, 5, 63]) torch.Size([256, 1])\n",
      "52\n",
      "torch.Size([256, 5, 51]) torch.Size([256, 1])\n",
      "53\n",
      "torch.Size([256, 5, 55]) torch.Size([256, 1])\n",
      "54\n",
      "torch.Size([256, 5, 56]) torch.Size([256, 1])\n",
      "55\n",
      "torch.Size([256, 5, 51]) torch.Size([256, 1])\n",
      "56\n",
      "torch.Size([256, 5, 32]) torch.Size([256, 1])\n",
      "57\n",
      "torch.Size([256, 5, 45]) torch.Size([256, 1])\n",
      "58\n",
      "torch.Size([256, 5, 66]) torch.Size([256, 1])\n",
      "59\n",
      "torch.Size([256, 5, 68]) torch.Size([256, 1])\n",
      "60\n",
      "torch.Size([256, 5, 41]) torch.Size([256, 1])\n",
      "61\n",
      "torch.Size([256, 5, 55]) torch.Size([256, 1])\n",
      "62\n",
      "torch.Size([256, 5, 54]) torch.Size([256, 1])\n",
      "63\n",
      "torch.Size([256, 5, 61]) torch.Size([256, 1])\n",
      "64\n",
      "torch.Size([256, 5, 53]) torch.Size([256, 1])\n",
      "65\n",
      "torch.Size([256, 5, 58]) torch.Size([256, 1])\n",
      "66\n",
      "torch.Size([256, 5, 48]) torch.Size([256, 1])\n",
      "67\n",
      "torch.Size([256, 5, 70]) torch.Size([256, 1])\n",
      "68\n",
      "torch.Size([256, 5, 36]) torch.Size([256, 1])\n",
      "69\n",
      "torch.Size([256, 5, 49]) torch.Size([256, 1])\n",
      "70\n",
      "torch.Size([256, 5, 89]) torch.Size([256, 1])\n",
      "71\n",
      "torch.Size([256, 5, 45]) torch.Size([256, 1])\n",
      "72\n",
      "torch.Size([256, 5, 89]) torch.Size([256, 1])\n",
      "73\n",
      "torch.Size([256, 5, 36]) torch.Size([256, 1])\n",
      "74\n",
      "torch.Size([256, 5, 66]) torch.Size([256, 1])\n",
      "75\n",
      "torch.Size([256, 5, 47]) torch.Size([256, 1])\n",
      "76\n",
      "torch.Size([256, 5, 45]) torch.Size([256, 1])\n",
      "77\n",
      "torch.Size([256, 5, 61]) torch.Size([256, 1])\n",
      "78\n",
      "torch.Size([256, 5, 53]) torch.Size([256, 1])\n",
      "79\n",
      "torch.Size([256, 5, 41]) torch.Size([256, 1])\n",
      "80\n",
      "torch.Size([256, 5, 40]) torch.Size([256, 1])\n",
      "81\n",
      "torch.Size([256, 5, 47]) torch.Size([256, 1])\n",
      "82\n",
      "torch.Size([256, 5, 42]) torch.Size([256, 1])\n",
      "83\n",
      "torch.Size([256, 5, 54]) torch.Size([256, 1])\n",
      "84\n",
      "torch.Size([256, 5, 49]) torch.Size([256, 1])\n",
      "85\n",
      "torch.Size([256, 5, 37]) torch.Size([256, 1])\n",
      "86\n",
      "torch.Size([256, 5, 54]) torch.Size([256, 1])\n",
      "87\n",
      "torch.Size([256, 5, 50]) torch.Size([256, 1])\n",
      "88\n",
      "torch.Size([256, 5, 58]) torch.Size([256, 1])\n",
      "89\n",
      "torch.Size([256, 5, 58]) torch.Size([256, 1])\n",
      "90\n",
      "torch.Size([256, 5, 36]) torch.Size([256, 1])\n",
      "91\n",
      "torch.Size([256, 5, 38]) torch.Size([256, 1])\n",
      "92\n",
      "torch.Size([256, 5, 47]) torch.Size([256, 1])\n",
      "93\n",
      "torch.Size([256, 5, 30]) torch.Size([256, 1])\n",
      "94\n",
      "torch.Size([256, 5, 43]) torch.Size([256, 1])\n",
      "95\n",
      "torch.Size([256, 5, 56]) torch.Size([256, 1])\n",
      "96\n",
      "torch.Size([256, 5, 69]) torch.Size([256, 1])\n",
      "97\n",
      "torch.Size([256, 5, 43]) torch.Size([256, 1])\n",
      "98\n",
      "torch.Size([256, 5, 48]) torch.Size([256, 1])\n",
      "99\n",
      "torch.Size([256, 5, 41]) torch.Size([256, 1])\n",
      "100\n",
      "torch.Size([256, 5, 53]) torch.Size([256, 1])\n",
      "101\n"
     ]
    }
   ],
   "source": [
    "for i, (data, labels) in enumerate(batches):\n",
    "    print(i)\n",
    "    if i>100:\n",
    "        break\n",
    "    print(data.shape, labels.shape)"
   ]
  },
  {
   "cell_type": "code",
   "execution_count": 9,
   "metadata": {},
   "outputs": [],
   "source": [
    "ch_gen = gen.generate_chunk()"
   ]
  },
  {
   "cell_type": "code",
   "execution_count": 10,
   "metadata": {},
   "outputs": [],
   "source": [
    "df = next(ch_gen)"
   ]
  },
  {
   "cell_type": "code",
   "execution_count": 10,
   "metadata": {},
   "outputs": [
    {
     "ename": "StopIteration",
     "evalue": "",
     "output_type": "error",
     "traceback": [
      "\u001b[0;31m---------------------------------------------------------------------------\u001b[0m",
      "\u001b[0;31mStopIteration\u001b[0m                             Traceback (most recent call last)",
      "Cell \u001b[0;32mIn[10], line 1\u001b[0m\n\u001b[0;32m----> 1\u001b[0m df2 \u001b[38;5;241m=\u001b[39m \u001b[38;5;28;43mnext\u001b[39;49m\u001b[43m(\u001b[49m\u001b[43mch_gen\u001b[49m\u001b[43m)\u001b[49m\n",
      "\u001b[0;31mStopIteration\u001b[0m: "
     ]
    }
   ],
   "source": [
    "df2 = next(ch_gen)"
   ]
  },
  {
   "cell_type": "code",
   "execution_count": 14,
   "metadata": {},
   "outputs": [
    {
     "data": {
      "text/plain": [
       "(474942, 6)"
      ]
     },
     "execution_count": 14,
     "metadata": {},
     "output_type": "execute_result"
    }
   ],
   "source": [
    "df[0:1_000_000].shape"
   ]
  },
  {
   "cell_type": "code",
   "execution_count": 19,
   "metadata": {},
   "outputs": [
    {
     "name": "stdout",
     "output_type": "stream",
     "text": [
      "(474942, 6)\n",
      "(473918, 6)\n"
     ]
    },
    {
     "data": {
      "text/html": [
       "<div><style>\n",
       ".dataframe > thead > tr,\n",
       ".dataframe > tbody > tr {\n",
       "  text-align: right;\n",
       "  white-space: pre-wrap;\n",
       "}\n",
       "</style>\n",
       "<small>shape: (1_024, 6)</small><table border=\"1\" class=\"dataframe\"><thead><tr><th>PulsesAmpl</th><th>PulsesTime</th><th>Xrel</th><th>Yrel</th><th>Zrel</th><th>nu_induced</th></tr><tr><td>list[f32]</td><td>list[f32]</td><td>list[f64]</td><td>list[f64]</td><td>list[f64]</td><td>bool</td></tr></thead><tbody><tr><td>[10.406323, 0.94605, … 0.9295]</td><td>[-108.01355, -88.571899, … 123.314697]</td><td>[50.538114, 50.538114, … 57.154129]</td><td>[31.67837, 31.67837, … -20.892614]</td><td>[-112.543993, -82.504991, … -143.006998]</td><td>false</td></tr><tr><td>[4.204237, 1.222921, … 1.403362]</td><td>[-605.974365, -534.967468, … 639.805542]</td><td>[-33.253271, -33.253271, … 10.497736]</td><td>[-49.427752, -49.427752, … 58.085256]</td><td>[247.92538, 232.905468, … -112.42857]</td><td>false</td></tr><tr><td>[1.250957, 0.893708, … 0.591232]</td><td>[-163.276367, -115.437012, … 193.798584]</td><td>[19.418756, 1.208765, … 53.101755]</td><td>[-57.282748, -0.88174, … -21.413745]</td><td>[217.583431, 232.467372, … 157.725383]</td><td>false</td></tr><tr><td>[2.024481, 1.200175, … 1.051478]</td><td>[-990.317383, -952.729004, … 543.626221]</td><td>[52.391874, 52.391874, … -0.395121]</td><td>[31.345537, 31.345537, … -1.683516]</td><td>[217.512529, 202.5105, … -247.825468]</td><td>false</td></tr><tr><td>[12.922216, 5.618103, … 1.294124]</td><td>[-128.456299, -74.570923, … 108.805786]</td><td>[60.010254, 60.010254, … 43.581249]</td><td>[7.91311, 7.91311, … -42.654858]</td><td>[141.331396, 126.312415, … 157.997366]</td><td>false</td></tr><tr><td>&hellip;</td><td>&hellip;</td><td>&hellip;</td><td>&hellip;</td><td>&hellip;</td><td>&hellip;</td></tr><tr><td>[1.5048, 0.730799, … 14.079969]</td><td>[-595.140503, -497.373535, … 439.685425]</td><td>[-58.110868, -58.110868, … 57.154129]</td><td>[-4.861609, -4.861609, … -20.892614]</td><td>[-37.578001, -7.555988, … 261.821982]</td><td>true</td></tr><tr><td>[1.228545, 0.886074, … 0.859673]</td><td>[-154.320312, -102.418884, … 232.969238]</td><td>[-40.992133, -40.992133, … -30.486136]</td><td>[42.604509, 42.604509, … -49.970472]</td><td>[-37.322485, -22.302506, … 7.394525]</td><td>true</td></tr><tr><td>[0.839333, 0.737236, … 1.402275]</td><td>[-301.444702, -265.007812, … 533.715576]</td><td>[60.158501, 60.158501, … 60.158501]</td><td>[-2.030605, -2.030605, … -2.030605]</td><td>[187.670474, 172.666522, … -82.646497]</td><td>false</td></tr><tr><td>[0.72291, 1.262256, … 1.111854]</td><td>[-581.161377, -566.828613, … 359.265381]</td><td>[2.177528, 34.699516, … 36.679482]</td><td>[-0.764629, -46.808651, … 44.715374]</td><td>[172.379458, 127.587466, … -202.626508]</td><td>false</td></tr><tr><td>[17.694906, 4.621929, … 0.845328]</td><td>[-322.086304, 12.813354, … 219.792969]</td><td>[57.154129, 17.135126, … -31.008856]</td><td>[-20.892614, -56.806616, … -49.470633]</td><td>[66.972998, -7.468019, … -37.715986]</td><td>false</td></tr></tbody></table></div>"
      ],
      "text/plain": [
       "shape: (1_024, 6)\n",
       "┌─────────────┬─────────────────┬─────────────────┬─────────────────┬─────────────────┬────────────┐\n",
       "│ PulsesAmpl  ┆ PulsesTime      ┆ Xrel            ┆ Yrel            ┆ Zrel            ┆ nu_induced │\n",
       "│ ---         ┆ ---             ┆ ---             ┆ ---             ┆ ---             ┆ ---        │\n",
       "│ list[f32]   ┆ list[f32]       ┆ list[f64]       ┆ list[f64]       ┆ list[f64]       ┆ bool       │\n",
       "╞═════════════╪═════════════════╪═════════════════╪═════════════════╪═════════════════╪════════════╡\n",
       "│ [10.406323, ┆ [-108.01355,    ┆ [50.538114,     ┆ [31.67837,      ┆ [-112.543993,   ┆ false      │\n",
       "│ 0.94605, …  ┆ -88.571899, …   ┆ 50.538114, …    ┆ 31.67837, …     ┆ -82.504991, …   ┆            │\n",
       "│ 0.9295]     ┆ 123…            ┆ 57.15…          ┆ -20.892…        ┆ -1…             ┆            │\n",
       "│ [4.204237,  ┆ [-605.974365,   ┆ [-33.253271,    ┆ [-49.427752,    ┆ [247.92538,     ┆ false      │\n",
       "│ 1.222921, … ┆ -534.967468, …  ┆ -33.253271, …   ┆ -49.427752, …   ┆ 232.905468, …   ┆            │\n",
       "│ 1.40336…    ┆ 6…              ┆ 10.…            ┆ 58.…            ┆ -112…           ┆            │\n",
       "│ [1.250957,  ┆ [-163.276367,   ┆ [19.418756,     ┆ [-57.282748,    ┆ [217.583431,    ┆ false      │\n",
       "│ 0.893708, … ┆ -115.437012, …  ┆ 1.208765, …     ┆ -0.88174, …     ┆ 232.467372, …   ┆            │\n",
       "│ 0.59123…    ┆ 1…              ┆ 53.101…         ┆ -21.4…          ┆ 157…            ┆            │\n",
       "│ [2.024481,  ┆ [-990.317383,   ┆ [52.391874,     ┆ [31.345537,     ┆ [217.512529,    ┆ false      │\n",
       "│ 1.200175, … ┆ -952.729004, …  ┆ 52.391874, …    ┆ 31.345537, …    ┆ 202.5105, …     ┆            │\n",
       "│ 1.05147…    ┆ 5…              ┆ -0.39…          ┆ -1.68…          ┆ -247.…          ┆            │\n",
       "│ [12.922216, ┆ [-128.456299,   ┆ [60.010254,     ┆ [7.91311,       ┆ [141.331396,    ┆ false      │\n",
       "│ 5.618103, … ┆ -74.570923, …   ┆ 60.010254, …    ┆ 7.91311, …      ┆ 126.312415, …   ┆            │\n",
       "│ 1.2941…     ┆ 10…             ┆ 43.58…          ┆ -42.65485…      ┆ 157…            ┆            │\n",
       "│ …           ┆ …               ┆ …               ┆ …               ┆ …               ┆ …          │\n",
       "│ [1.5048,    ┆ [-595.140503,   ┆ [-58.110868,    ┆ [-4.861609,     ┆ [-37.578001,    ┆ true       │\n",
       "│ 0.730799, … ┆ -497.373535, …  ┆ -58.110868, …   ┆ -4.861609, …    ┆ -7.555988, …    ┆            │\n",
       "│ 14.079969…  ┆ 4…              ┆ 57.…            ┆ -20.8…          ┆ 261.…           ┆            │\n",
       "│ [1.228545,  ┆ [-154.320312,   ┆ [-40.992133,    ┆ [42.604509,     ┆ [-37.322485,    ┆ true       │\n",
       "│ 0.886074, … ┆ -102.418884, …  ┆ -40.992133, …   ┆ 42.604509, …    ┆ -22.302506, …   ┆            │\n",
       "│ 0.85967…    ┆ 2…              ┆ -30…            ┆ -49.9…          ┆ 7.3…            ┆            │\n",
       "│ [0.839333,  ┆ [-301.444702,   ┆ [60.158501,     ┆ [-2.030605,     ┆ [187.670474,    ┆ false      │\n",
       "│ 0.737236, … ┆ -265.007812, …  ┆ 60.158501, …    ┆ -2.030605, …    ┆ 172.666522, …   ┆            │\n",
       "│ 1.40227…    ┆ 5…              ┆ 60.15…          ┆ -2.03…          ┆ -82…            ┆            │\n",
       "│ [0.72291,   ┆ [-581.161377,   ┆ [2.177528,      ┆ [-0.764629,     ┆ [172.379458,    ┆ false      │\n",
       "│ 1.262256, … ┆ -566.828613, …  ┆ 34.699516, …    ┆ -46.808651, …   ┆ 127.587466, …   ┆            │\n",
       "│ 1.111854…   ┆ 3…              ┆ 36.679…         ┆ 44.7…           ┆ -20…            ┆            │\n",
       "│ [17.694906, ┆ [-322.086304,   ┆ [57.154129,     ┆ [-20.892614,    ┆ [66.972998,     ┆ false      │\n",
       "│ 4.621929, … ┆ 12.813354, …    ┆ 17.135126, …    ┆ -56.806616, …   ┆ -7.468019, …    ┆            │\n",
       "│ 0.8453…     ┆ 219…            ┆ -31.0…          ┆ -49…            ┆ -37.7…          ┆            │\n",
       "└─────────────┴─────────────────┴─────────────────┴─────────────────┴─────────────────┴────────────┘"
      ]
     },
     "execution_count": 19,
     "metadata": {},
     "output_type": "execute_result"
    }
   ],
   "source": [
    "print(df.shape)\n",
    "batch = df[0:1024]\n",
    "df = df[1024:]\n",
    "print(df.shape)\n",
    "batch"
   ]
  },
  {
   "cell_type": "code",
   "execution_count": null,
   "metadata": {},
   "outputs": [],
   "source": []
  },
  {
   "cell_type": "code",
   "execution_count": 9,
   "metadata": {},
   "outputs": [],
   "source": [
    "ch_gen_100 = gen.generate_chunk(100)\n",
    "df_100 = next(ch_gen_100)"
   ]
  },
  {
   "cell_type": "code",
   "execution_count": 23,
   "metadata": {},
   "outputs": [
    {
     "data": {
      "text/html": [
       "<div><style>\n",
       ".dataframe > thead > tr,\n",
       ".dataframe > tbody > tr {\n",
       "  text-align: right;\n",
       "  white-space: pre-wrap;\n",
       "}\n",
       "</style>\n",
       "<small>shape: (0, 6)</small><table border=\"1\" class=\"dataframe\"><thead><tr><th>PulsesAmpl</th><th>PulsesTime</th><th>Xrel</th><th>Yrel</th><th>Zrel</th><th>nu_induced</th></tr><tr><td>list[f32]</td><td>list[f32]</td><td>list[f64]</td><td>list[f64]</td><td>list[f64]</td><td>bool</td></tr></thead><tbody></tbody></table></div>"
      ],
      "text/plain": [
       "shape: (0, 6)\n",
       "┌────────────┬────────────┬───────────┬───────────┬───────────┬────────────┐\n",
       "│ PulsesAmpl ┆ PulsesTime ┆ Xrel      ┆ Yrel      ┆ Zrel      ┆ nu_induced │\n",
       "│ ---        ┆ ---        ┆ ---       ┆ ---       ┆ ---       ┆ ---        │\n",
       "│ list[f32]  ┆ list[f32]  ┆ list[f64] ┆ list[f64] ┆ list[f64] ┆ bool       │\n",
       "╞════════════╪════════════╪═══════════╪═══════════╪═══════════╪════════════╡\n",
       "└────────────┴────────────┴───────────┴───────────┴───────────┴────────────┘"
      ]
     },
     "execution_count": 23,
     "metadata": {},
     "output_type": "execute_result"
    }
   ],
   "source": [
    "df[485879:]"
   ]
  },
  {
   "cell_type": "code",
   "execution_count": 34,
   "metadata": {},
   "outputs": [],
   "source": [
    "import polars as pl\n",
    "import numpy as np"
   ]
  },
  {
   "cell_type": "code",
   "execution_count": 38,
   "metadata": {},
   "outputs": [
    {
     "data": {
      "text/html": [
       "<div><style>\n",
       ".dataframe > thead > tr,\n",
       ".dataframe > tbody > tr {\n",
       "  text-align: right;\n",
       "  white-space: pre-wrap;\n",
       "}\n",
       "</style>\n",
       "<small>shape: (30_000, 3)</small><table border=\"1\" class=\"dataframe\"><thead><tr><th>PulsesTime</th><th>PulsesTime2</th><th>t_i</th></tr><tr><td>list[f64]</td><td>list[f64]</td><td>list[i32]</td></tr></thead><tbody><tr><td>[-0.036778, 0.202579, … 1.04253]</td><td>[0.448563, 2.453963, … 1.486307]</td><td>[3, 2, … 0]</td></tr><tr><td>[0.185864, 0.864206, 1.605232]</td><td>[0.217728, 0.970618, 1.657983]</td><td>[0, 1, 2]</td></tr><tr><td>[0.527827, 1.799293, … 5.232489]</td><td>[0.829346, 1.902565, … 5.39608]</td><td>[0, 1, … 4]</td></tr><tr><td>[-0.357189, 0.106172, … 0.880761]</td><td>[1.004367, -0.001711, … 1.366104]</td><td>[0, 1, … 3]</td></tr><tr><td>[-0.178946, 1.198947, 1.434644]</td><td>[0.288751, 1.408366, 1.63054]</td><td>[0, 1, 2]</td></tr><tr><td>&hellip;</td><td>&hellip;</td><td>&hellip;</td></tr><tr><td>[0.913815, 0.93063, 2.116824]</td><td>[1.038749, 1.701404, 2.375949]</td><td>[0, 1, 2]</td></tr><tr><td>[1.128988, 2.763135, … 5.083061]</td><td>[2.529959, 2.308033, … 3.991059]</td><td>[0, 1, … 4]</td></tr><tr><td>[-0.697218, -0.162167, … 0.652149]</td><td>[0.226984, 2.611929, … -0.055803]</td><td>[2, 3, … 1]</td></tr><tr><td>[0.547795, 0.860288, 0.996253]</td><td>[0.130269, 0.902305, 2.170373]</td><td>[0, 1, 2]</td></tr><tr><td>[1.3666, 1.572208, … 4.288482]</td><td>[2.238457, 0.736154, … 5.706379]</td><td>[0, 1, … 4]</td></tr></tbody></table></div>"
      ],
      "text/plain": [
       "shape: (30_000, 3)\n",
       "┌─────────────────────────────────┬─────────────────────────────────┬─────────────┐\n",
       "│ PulsesTime                      ┆ PulsesTime2                     ┆ t_i         │\n",
       "│ ---                             ┆ ---                             ┆ ---         │\n",
       "│ list[f64]                       ┆ list[f64]                       ┆ list[i32]   │\n",
       "╞═════════════════════════════════╪═════════════════════════════════╪═════════════╡\n",
       "│ [-0.036778, 0.202579, … 1.0425… ┆ [0.448563, 2.453963, … 1.48630… ┆ [3, 2, … 0] │\n",
       "│ [0.185864, 0.864206, 1.605232]  ┆ [0.217728, 0.970618, 1.657983]  ┆ [0, 1, 2]   │\n",
       "│ [0.527827, 1.799293, … 5.23248… ┆ [0.829346, 1.902565, … 5.39608… ┆ [0, 1, … 4] │\n",
       "│ [-0.357189, 0.106172, … 0.8807… ┆ [1.004367, -0.001711, … 1.3661… ┆ [0, 1, … 3] │\n",
       "│ [-0.178946, 1.198947, 1.434644… ┆ [0.288751, 1.408366, 1.63054]   ┆ [0, 1, 2]   │\n",
       "│ …                               ┆ …                               ┆ …           │\n",
       "│ [0.913815, 0.93063, 2.116824]   ┆ [1.038749, 1.701404, 2.375949]  ┆ [0, 1, 2]   │\n",
       "│ [1.128988, 2.763135, … 5.08306… ┆ [2.529959, 2.308033, … 3.99105… ┆ [0, 1, … 4] │\n",
       "│ [-0.697218, -0.162167, … 0.652… ┆ [0.226984, 2.611929, … -0.0558… ┆ [2, 3, … 1] │\n",
       "│ [0.547795, 0.860288, 0.996253]  ┆ [0.130269, 0.902305, 2.170373]  ┆ [0, 1, 2]   │\n",
       "│ [1.3666, 1.572208, … 4.288482]  ┆ [2.238457, 0.736154, … 5.70637… ┆ [0, 1, … 4] │\n",
       "└─────────────────────────────────┴─────────────────────────────────┴─────────────┘"
      ]
     },
     "execution_count": 38,
     "metadata": {},
     "output_type": "execute_result"
    }
   ],
   "source": [
    "df = pl.DataFrame({\"PulsesTime\": [[0.,0.1,0.2,0.3], [0.1,1.,2.], [1.,2.,3.,4.,5.]]*10_000,\n",
    "                   \"PulsesTime2\": [[0.,1.,2.,3.], [0.1,1.,2.], [1.,2.,3.,4.,5.]]*10_000\n",
    "                   })\n",
    "\n",
    "aug_expr = [pl.col(name).map_elements(lambda x: list(np.array(x)+np.random.normal(0, 0.5, len(x))), return_dtype=pl.List(pl.Float64)).alias(name) for name in df.columns]\n",
    "df = df.with_columns(aug_expr)\n",
    "\n",
    "# time_reord_expr = \n",
    "# df = df.with_columns(time_reord_expr)\n",
    "# df\n",
    "time_idxs_expr = pl.col(\"PulsesTime\").map_elements(\n",
    "                                                    lambda x: np.argsort(x), return_dtype=pl.List(pl.Int32)\n",
    "                                                    ).alias('t_i')\n",
    "df = df.with_columns(time_idxs_expr)\n",
    "re_order_expr = [\n",
    "                    pl.col(name).list.gather(\n",
    "                                            pl.col(\"t_i\")\n",
    "                                            ) \n",
    "                    for name in df.columns\n",
    "                ]\n",
    "df.with_columns(re_order_expr)"
   ]
  },
  {
   "cell_type": "code",
   "execution_count": 39,
   "metadata": {},
   "outputs": [
    {
     "data": {
      "text/html": [
       "<div><style>\n",
       ".dataframe > thead > tr,\n",
       ".dataframe > tbody > tr {\n",
       "  text-align: right;\n",
       "  white-space: pre-wrap;\n",
       "}\n",
       "</style>\n",
       "<small>shape: (30_000, 2)</small><table border=\"1\" class=\"dataframe\"><thead><tr><th>PulsesTime</th><th>PulsesTime2</th></tr><tr><td>list[f64]</td><td>list[f64]</td></tr></thead><tbody><tr><td>[-0.286705, -0.106518, … 1.115772]</td><td>[0.168995, 2.299542, … 3.176942]</td></tr><tr><td>[0.709068, 0.893915, 2.05371]</td><td>[0.637328, 1.13006, 1.923828]</td></tr><tr><td>[1.063264, 2.391569, … 5.01703]</td><td>[0.555518, 2.000216, … 5.291514]</td></tr><tr><td>[-0.217215, 0.259823, … 0.632243]</td><td>[-0.214816, 1.715994, … 2.706739]</td></tr><tr><td>[-0.491974, 1.310625, 1.930837]</td><td>[-0.143568, 1.438169, 1.911304]</td></tr><tr><td>&hellip;</td><td>&hellip;</td></tr><tr><td>[-0.071675, 0.023106, 1.45108]</td><td>[0.411908, 1.041465, 1.553489]</td></tr><tr><td>[0.318714, 1.468219, … 4.552708]</td><td>[0.692991, 1.566061, … 5.910288]</td></tr><tr><td>[-0.685474, -0.105992, … 0.328194]</td><td>[0.175929, 0.97924, … 2.861621]</td></tr><tr><td>[-0.19956, 0.759638, 2.446897]</td><td>[0.150539, 0.274676, 1.676773]</td></tr><tr><td>[0.533085, 2.185748, … 5.92748]</td><td>[1.186704, 1.919362, … 4.002429]</td></tr></tbody></table></div>"
      ],
      "text/plain": [
       "shape: (30_000, 2)\n",
       "┌─────────────────────────────────┬─────────────────────────────────┐\n",
       "│ PulsesTime                      ┆ PulsesTime2                     │\n",
       "│ ---                             ┆ ---                             │\n",
       "│ list[f64]                       ┆ list[f64]                       │\n",
       "╞═════════════════════════════════╪═════════════════════════════════╡\n",
       "│ [-0.286705, -0.106518, … 1.115… ┆ [0.168995, 2.299542, … 3.17694… │\n",
       "│ [0.709068, 0.893915, 2.05371]   ┆ [0.637328, 1.13006, 1.923828]   │\n",
       "│ [1.063264, 2.391569, … 5.01703… ┆ [0.555518, 2.000216, … 5.29151… │\n",
       "│ [-0.217215, 0.259823, … 0.6322… ┆ [-0.214816, 1.715994, … 2.7067… │\n",
       "│ [-0.491974, 1.310625, 1.930837… ┆ [-0.143568, 1.438169, 1.911304… │\n",
       "│ …                               ┆ …                               │\n",
       "│ [-0.071675, 0.023106, 1.45108]  ┆ [0.411908, 1.041465, 1.553489]  │\n",
       "│ [0.318714, 1.468219, … 4.55270… ┆ [0.692991, 1.566061, … 5.91028… │\n",
       "│ [-0.685474, -0.105992, … 0.328… ┆ [0.175929, 0.97924, … 2.861621… │\n",
       "│ [-0.19956, 0.759638, 2.446897]  ┆ [0.150539, 0.274676, 1.676773]  │\n",
       "│ [0.533085, 2.185748, … 5.92748… ┆ [1.186704, 1.919362, … 4.00242… │\n",
       "└─────────────────────────────────┴─────────────────────────────────┘"
      ]
     },
     "execution_count": 39,
     "metadata": {},
     "output_type": "execute_result"
    }
   ],
   "source": [
    "df = pl.DataFrame({\"PulsesTime\": [[0.,0.1,0.2,0.3], [0.1,1.,2.], [1.,2.,3.,4.,5.]]*10_000,\n",
    "                   \"PulsesTime2\": [[0.,1.,2.,3.], [0.1,1.,2.], [1.,2.,3.,4.,5.]]*10_000\n",
    "                   })\n",
    "aug_expr = [pl.col(name).map_elements(lambda x: list(np.array(x)+np.random.normal(0, 0.5, len(x))), return_dtype=pl.List(pl.Float64)).alias(name) for name in df.columns]\n",
    "df = df.with_columns(aug_expr)\n",
    "\n",
    "# time_reord_expr = \n",
    "# df = df.with_columns(time_reord_expr)\n",
    "# df\n",
    "time_idxs_expr = pl.col(\"PulsesTime\").map_elements(\n",
    "                                                    lambda x: np.argsort(x), return_dtype=pl.List(pl.Int32)\n",
    "                                                    )\n",
    "re_order_expr = [\n",
    "                    pl.col(name).list.gather(\n",
    "                                            time_idxs_expr\n",
    "                                            ) \n",
    "                    for name in df.columns\n",
    "                ]\n",
    "df.with_columns(re_order_expr)"
   ]
  },
  {
   "cell_type": "code",
   "execution_count": 38,
   "metadata": {},
   "outputs": [
    {
     "data": {
      "text/plain": [
       "['__class__',\n",
       " '__delattr__',\n",
       " '__dict__',\n",
       " '__dir__',\n",
       " '__doc__',\n",
       " '__eq__',\n",
       " '__format__',\n",
       " '__ge__',\n",
       " '__getattribute__',\n",
       " '__getitem__',\n",
       " '__gt__',\n",
       " '__hash__',\n",
       " '__init__',\n",
       " '__init_subclass__',\n",
       " '__le__',\n",
       " '__lt__',\n",
       " '__module__',\n",
       " '__ne__',\n",
       " '__new__',\n",
       " '__reduce__',\n",
       " '__reduce_ex__',\n",
       " '__repr__',\n",
       " '__setattr__',\n",
       " '__sizeof__',\n",
       " '__str__',\n",
       " '__subclasshook__',\n",
       " '__weakref__',\n",
       " '_accessor',\n",
       " '_pyexpr',\n",
       " 'all',\n",
       " 'any',\n",
       " 'arg_max',\n",
       " 'arg_min',\n",
       " 'concat',\n",
       " 'contains',\n",
       " 'count_matches',\n",
       " 'diff',\n",
       " 'drop_nulls',\n",
       " 'eval',\n",
       " 'explode',\n",
       " 'first',\n",
       " 'gather',\n",
       " 'gather_every',\n",
       " 'get',\n",
       " 'head',\n",
       " 'join',\n",
       " 'last',\n",
       " 'len',\n",
       " 'max',\n",
       " 'mean',\n",
       " 'median',\n",
       " 'min',\n",
       " 'n_unique',\n",
       " 'reverse',\n",
       " 'sample',\n",
       " 'set_difference',\n",
       " 'set_intersection',\n",
       " 'set_symmetric_difference',\n",
       " 'set_union',\n",
       " 'shift',\n",
       " 'slice',\n",
       " 'sort',\n",
       " 'std',\n",
       " 'sum',\n",
       " 'tail',\n",
       " 'to_array',\n",
       " 'to_struct',\n",
       " 'unique',\n",
       " 'var']"
      ]
     },
     "execution_count": 38,
     "metadata": {},
     "output_type": "execute_result"
    }
   ],
   "source": [
    "dir(pl.col(\"PulsesTime\").list)"
   ]
  },
  {
   "cell_type": "code",
   "execution_count": 11,
   "metadata": {},
   "outputs": [
    {
     "data": {
      "text/plain": [
       "['Any',\n",
       " 'Array',\n",
       " 'Binary',\n",
       " 'Boolean',\n",
       " 'Categorical',\n",
       " 'CompatLevel',\n",
       " 'Config',\n",
       " 'DataFrame',\n",
       " 'DataType',\n",
       " 'Date',\n",
       " 'Datetime',\n",
       " 'Decimal',\n",
       " 'Duration',\n",
       " 'Enum',\n",
       " 'Expr',\n",
       " 'Field',\n",
       " 'Float32',\n",
       " 'Float64',\n",
       " 'GPUEngine',\n",
       " 'Int16',\n",
       " 'Int32',\n",
       " 'Int64',\n",
       " 'Int8',\n",
       " 'LazyFrame',\n",
       " 'List',\n",
       " 'Null',\n",
       " 'Object',\n",
       " 'SQLContext',\n",
       " 'Schema',\n",
       " 'Series',\n",
       " 'String',\n",
       " 'StringCache',\n",
       " 'Struct',\n",
       " 'Time',\n",
       " 'UInt16',\n",
       " 'UInt32',\n",
       " 'UInt64',\n",
       " 'UInt8',\n",
       " 'Unknown',\n",
       " 'Utf8',\n",
       " '__all__',\n",
       " '__annotations__',\n",
       " '__builtins__',\n",
       " '__cached__',\n",
       " '__doc__',\n",
       " '__file__',\n",
       " '__getattr__',\n",
       " '__loader__',\n",
       " '__name__',\n",
       " '__package__',\n",
       " '__path__',\n",
       " '__register_startup_deps',\n",
       " '__spec__',\n",
       " '__version__',\n",
       " '_cpu_check',\n",
       " '_reexport',\n",
       " '_typing',\n",
       " '_utils',\n",
       " 'align_frames',\n",
       " 'all',\n",
       " 'all_horizontal',\n",
       " 'any',\n",
       " 'any_horizontal',\n",
       " 'api',\n",
       " 'approx_n_unique',\n",
       " 'arange',\n",
       " 'arctan2',\n",
       " 'arctan2d',\n",
       " 'arg_sort_by',\n",
       " 'arg_where',\n",
       " 'build_info',\n",
       " 'business_day_count',\n",
       " 'coalesce',\n",
       " 'col',\n",
       " 'collect_all',\n",
       " 'collect_all_async',\n",
       " 'concat',\n",
       " 'concat_list',\n",
       " 'concat_str',\n",
       " 'config',\n",
       " 'contextlib',\n",
       " 'convert',\n",
       " 'corr',\n",
       " 'count',\n",
       " 'cov',\n",
       " 'cum_count',\n",
       " 'cum_fold',\n",
       " 'cum_reduce',\n",
       " 'cum_sum',\n",
       " 'cum_sum_horizontal',\n",
       " 'dataframe',\n",
       " 'datatypes',\n",
       " 'date',\n",
       " 'date_range',\n",
       " 'date_ranges',\n",
       " 'datetime',\n",
       " 'datetime_range',\n",
       " 'datetime_ranges',\n",
       " 'dependencies',\n",
       " 'disable_string_cache',\n",
       " 'duration',\n",
       " 'element',\n",
       " 'enable_string_cache',\n",
       " 'exceptions',\n",
       " 'exclude',\n",
       " 'expr',\n",
       " 'field',\n",
       " 'first',\n",
       " 'fold',\n",
       " 'format',\n",
       " 'from_arrow',\n",
       " 'from_dataframe',\n",
       " 'from_dict',\n",
       " 'from_dicts',\n",
       " 'from_epoch',\n",
       " 'from_numpy',\n",
       " 'from_pandas',\n",
       " 'from_records',\n",
       " 'from_repr',\n",
       " 'functions',\n",
       " 'get_index_type',\n",
       " 'groups',\n",
       " 'head',\n",
       " 'implode',\n",
       " 'int_range',\n",
       " 'int_ranges',\n",
       " 'interchange',\n",
       " 'io',\n",
       " 'json_normalize',\n",
       " 'last',\n",
       " 'lazyframe',\n",
       " 'len',\n",
       " 'lit',\n",
       " 'map_batches',\n",
       " 'map_groups',\n",
       " 'max',\n",
       " 'max_horizontal',\n",
       " 'mean',\n",
       " 'mean_horizontal',\n",
       " 'median',\n",
       " 'meta',\n",
       " 'min',\n",
       " 'min_horizontal',\n",
       " 'n_unique',\n",
       " 'nth',\n",
       " 'ones',\n",
       " 'plugins',\n",
       " 'polars',\n",
       " 'quantile',\n",
       " 'read_avro',\n",
       " 'read_clipboard',\n",
       " 'read_csv',\n",
       " 'read_csv_batched',\n",
       " 'read_database',\n",
       " 'read_database_uri',\n",
       " 'read_delta',\n",
       " 'read_excel',\n",
       " 'read_ipc',\n",
       " 'read_ipc_schema',\n",
       " 'read_ipc_stream',\n",
       " 'read_json',\n",
       " 'read_ndjson',\n",
       " 'read_ods',\n",
       " 'read_parquet',\n",
       " 'read_parquet_schema',\n",
       " 'reduce',\n",
       " 'repeat',\n",
       " 'rolling_corr',\n",
       " 'rolling_cov',\n",
       " 'scan_csv',\n",
       " 'scan_delta',\n",
       " 'scan_iceberg',\n",
       " 'scan_ipc',\n",
       " 'scan_ndjson',\n",
       " 'scan_parquet',\n",
       " 'scan_pyarrow_dataset',\n",
       " 'schema',\n",
       " 'select',\n",
       " 'selectors',\n",
       " 'series',\n",
       " 'set_random_seed',\n",
       " 'show_versions',\n",
       " 'sql',\n",
       " 'sql_expr',\n",
       " 'std',\n",
       " 'string_cache',\n",
       " 'struct',\n",
       " 'sum',\n",
       " 'sum_horizontal',\n",
       " 'tail',\n",
       " 'thread_pool_size',\n",
       " 'threadpool_size',\n",
       " 'time',\n",
       " 'time_range',\n",
       " 'time_ranges',\n",
       " 'using_string_cache',\n",
       " 'var',\n",
       " 'when',\n",
       " 'wrap_df',\n",
       " 'wrap_s',\n",
       " 'zeros']"
      ]
     },
     "execution_count": 11,
     "metadata": {},
     "output_type": "execute_result"
    }
   ],
   "source": [
    "dir(pl)"
   ]
  },
  {
   "cell_type": "code",
   "execution_count": 20,
   "metadata": {},
   "outputs": [],
   "source": [
    "import polars as pl\n",
    "import torch\n",
    "\n",
    "# Assuming `pre_batch` is a Polars DataFrame and `gen_sets.features` contains the list of column names\n",
    "arr = df[0:100_000].select(gen_sets.features)\n",
    "\n",
    "# Step 1: Find the maximum length of the arrays\n",
    "max_length = arr['PulsesTime'].list.len().max()\n",
    "max_length\n",
    "\n",
    "# Step 2: Create a list of lists to hold the padded data, avoiding manual iteration\n",
    "result = []\n",
    "\n",
    "# Step 3: Iterate through rows using Polars methods\n",
    "for row in arr.iter_rows():\n",
    "    row_result = []\n",
    "    for data_list in row:\n",
    "        # Pad each data_list to the maximum length\n",
    "        padded_data_list = data_list + [0.0] * (max_length - len(data_list))\n",
    "        row_result.append(padded_data_list)\n",
    "    result.append(row_result)\n",
    "\n",
    "# Convert the result to a Polars DataFrame\n",
    "tens = torch.tensor(result) \n"
   ]
  },
  {
   "cell_type": "code",
   "execution_count": 21,
   "metadata": {},
   "outputs": [
    {
     "data": {
      "text/plain": [
       "torch.Size([100000, 5, 107])"
      ]
     },
     "execution_count": 21,
     "metadata": {},
     "output_type": "execute_result"
    }
   ],
   "source": [
    "tens.shape"
   ]
  },
  {
   "cell_type": "code",
   "execution_count": 33,
   "metadata": {},
   "outputs": [],
   "source": [
    "arr = pre_batch[gen_sets.features].to_numpy()\n",
    "\n",
    "# Step 1: Find the maximum length of the arrays\n",
    "max_length = np.vectorize(len)(arr[:,0]).max()\n",
    "\n",
    "# Step 2: Create an empty array filled with zeros, with the desired shape (225628, 5, max_length)\n",
    "result = np.zeros((arr.shape[0], arr.shape[1], max_length), dtype=np.float64)\n",
    "\n",
    "# Step 3: Vectorized operation to copy the contents of each 1D array into the 3D array\n",
    "for i in range(arr.shape[0]):\n",
    "    for j in range(arr.shape[1]):\n",
    "        sublist = arr[i, j]\n",
    "        result[i, j, :len(sublist)] = sublist  # Fill the result array with the sublist contents\n",
    "print(result)"
   ]
  },
  {
   "cell_type": "code",
   "execution_count": 35,
   "metadata": {},
   "outputs": [
    {
     "data": {
      "text/plain": [
       "(256,)"
      ]
     },
     "execution_count": 35,
     "metadata": {},
     "output_type": "execute_result"
    }
   ],
   "source": [
    "arr[:,0].shape"
   ]
  },
  {
   "cell_type": "code",
   "execution_count": null,
   "metadata": {},
   "outputs": [],
   "source": []
  },
  {
   "cell_type": "code",
   "execution_count": null,
   "metadata": {},
   "outputs": [],
   "source": []
  },
  {
   "cell_type": "code",
   "execution_count": 14,
   "metadata": {},
   "outputs": [
    {
     "data": {
      "text/plain": [
       "(6.857380544876718,\n",
       " 118.68766997639588,\n",
       " -2.689061022536692e-07,\n",
       " 238.47337396924905)"
      ]
     },
     "execution_count": 14,
     "metadata": {},
     "output_type": "execute_result"
    }
   ],
   "source": [
    "gen.Q_mean, gen.Q_std, gen.t_mean, gen.t_std"
   ]
  },
  {
   "cell_type": "code",
   "execution_count": 16,
   "metadata": {},
   "outputs": [
    {
     "data": {
      "text/plain": [
       "(1.0045248377987508, 11.459843305397115)"
      ]
     },
     "execution_count": 16,
     "metadata": {},
     "output_type": "execute_result"
    }
   ],
   "source": [
    "gen.mu_nu_ratio, gen.nuatm_nu2_ratio"
   ]
  },
  {
   "cell_type": "code",
   "execution_count": 10,
   "metadata": {},
   "outputs": [
    {
     "data": {
      "text/plain": [
       "(1.1236250725986499e-07, 246.50952407496516)"
      ]
     },
     "execution_count": 10,
     "metadata": {},
     "output_type": "execute_result"
    }
   ],
   "source": [
    "gen.t_mean, gen.t_std"
   ]
  },
  {
   "cell_type": "code",
   "execution_count": null,
   "metadata": {},
   "outputs": [],
   "source": []
  }
 ],
 "metadata": {
  "kernelspec": {
   "display_name": "Python 3",
   "language": "python",
   "name": "python3"
  },
  "language_info": {
   "codemirror_mode": {
    "name": "ipython",
    "version": 3
   },
   "file_extension": ".py",
   "mimetype": "text/x-python",
   "name": "python",
   "nbconvert_exporter": "python",
   "pygments_lexer": "ipython3",
   "version": "3.10.13"
  }
 },
 "nbformat": 4,
 "nbformat_minor": 2
}
