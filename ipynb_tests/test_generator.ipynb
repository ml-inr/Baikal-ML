{
 "cells": [
  {
   "cell_type": "code",
   "execution_count": 1,
   "metadata": {},
   "outputs": [],
   "source": [
    "import os\n",
    "import sys\n",
    "PROJECT_PATH = \"/home/albert/Baikal-ML/\" #insert your project path\n",
    "sys.path.append(f\"{PROJECT_PATH}\")\n",
    "from time import time\n",
    "\n",
    "import numpy as np\n",
    "import uproot as ur\n",
    "import polars as pl\n",
    "\n",
    "from data.settings import GeneratorConfig\n",
    "from data.generator import TrainGenerator\n"
   ]
  },
  {
   "cell_type": "code",
   "execution_count": 4,
   "metadata": {},
   "outputs": [],
   "source": [
    "path_mu = f'/net/62/home3/ivkhar/Baikal/data/initial_data/MC_2020/muatm/root/all/'\n",
    "path_nuatm = f'/net/62/home3/ivkhar/Baikal/data/initial_data/MC_2020/nuatm/root/all/'\n",
    "path_nu2 = f'/net/62/home3/ivkhar/Baikal/data/initial_data/MC_2020/nue2_100pev/root/all/'\n",
    "\n",
    "def explore_paths(p: str, start: int, stop: int):\n",
    "        files = os.listdir(f'{p}')[start:stop]\n",
    "        return sorted([f\"{p}{file}\" for file in files])\n",
    "    \n",
    "# best trainig dataset for standard settings\n",
    "mu_paths = explore_paths(path_mu, 0, 10)\n",
    "nuatm_paths = explore_paths(path_nuatm, 0, 10)\n",
    "nu2_paths = explore_paths(path_nu2, 0, 10)"
   ]
  },
  {
   "cell_type": "code",
   "execution_count": 5,
   "metadata": {},
   "outputs": [],
   "source": [
    "gen_sets = GeneratorConfig(mu_paths, nuatm_paths, nu2_paths, shuffle=False)"
   ]
  },
  {
   "cell_type": "code",
   "execution_count": 12,
   "metadata": {},
   "outputs": [],
   "source": [
    "gen = TrainGenerator(gen_sets, collect_stats=False)\n",
    "batches = gen.get_bathces(256)"
   ]
  },
  {
   "cell_type": "code",
   "execution_count": 13,
   "metadata": {},
   "outputs": [
    {
     "name": "stdout",
     "output_type": "stream",
     "text": [
      "0\n",
      "torch.Size([256, 5, 45]) torch.Size([256, 1])\n",
      "1\n",
      "torch.Size([256, 5, 57]) torch.Size([256, 1])\n",
      "2\n",
      "torch.Size([256, 5, 40]) torch.Size([256, 1])\n",
      "3\n",
      "torch.Size([256, 5, 53]) torch.Size([256, 1])\n",
      "4\n",
      "torch.Size([256, 5, 45]) torch.Size([256, 1])\n",
      "5\n",
      "torch.Size([256, 5, 59]) torch.Size([256, 1])\n",
      "6\n",
      "torch.Size([256, 5, 52]) torch.Size([256, 1])\n",
      "7\n",
      "torch.Size([256, 5, 41]) torch.Size([256, 1])\n",
      "8\n",
      "torch.Size([256, 5, 42]) torch.Size([256, 1])\n",
      "9\n",
      "torch.Size([256, 5, 61]) torch.Size([256, 1])\n",
      "10\n",
      "torch.Size([256, 5, 56]) torch.Size([256, 1])\n",
      "11\n",
      "torch.Size([256, 5, 61]) torch.Size([256, 1])\n",
      "12\n",
      "torch.Size([256, 5, 62]) torch.Size([256, 1])\n",
      "13\n",
      "torch.Size([256, 5, 42]) torch.Size([256, 1])\n",
      "14\n",
      "torch.Size([256, 5, 50]) torch.Size([256, 1])\n",
      "15\n",
      "torch.Size([256, 5, 76]) torch.Size([256, 1])\n",
      "16\n",
      "torch.Size([256, 5, 70]) torch.Size([256, 1])\n",
      "17\n",
      "torch.Size([256, 5, 56]) torch.Size([256, 1])\n",
      "18\n",
      "torch.Size([256, 5, 78]) torch.Size([256, 1])\n",
      "19\n",
      "torch.Size([256, 5, 52]) torch.Size([256, 1])\n",
      "20\n",
      "torch.Size([256, 5, 93]) torch.Size([256, 1])\n",
      "21\n",
      "torch.Size([256, 5, 63]) torch.Size([256, 1])\n",
      "22\n",
      "torch.Size([256, 5, 49]) torch.Size([256, 1])\n",
      "23\n",
      "torch.Size([256, 5, 60]) torch.Size([256, 1])\n",
      "24\n",
      "torch.Size([256, 5, 89]) torch.Size([256, 1])\n",
      "25\n",
      "torch.Size([256, 5, 46]) torch.Size([256, 1])\n",
      "26\n",
      "torch.Size([256, 5, 67]) torch.Size([256, 1])\n",
      "27\n",
      "torch.Size([256, 5, 58]) torch.Size([256, 1])\n",
      "28\n",
      "torch.Size([256, 5, 31]) torch.Size([256, 1])\n",
      "29\n",
      "torch.Size([256, 5, 41]) torch.Size([256, 1])\n",
      "30\n",
      "torch.Size([256, 5, 53]) torch.Size([256, 1])\n",
      "31\n",
      "torch.Size([256, 5, 59]) torch.Size([256, 1])\n",
      "32\n",
      "torch.Size([256, 5, 88]) torch.Size([256, 1])\n",
      "33\n",
      "torch.Size([256, 5, 39]) torch.Size([256, 1])\n",
      "34\n",
      "torch.Size([256, 5, 54]) torch.Size([256, 1])\n",
      "35\n",
      "torch.Size([256, 5, 53]) torch.Size([256, 1])\n",
      "36\n",
      "torch.Size([256, 5, 61]) torch.Size([256, 1])\n",
      "37\n",
      "torch.Size([256, 5, 69]) torch.Size([256, 1])\n",
      "38\n",
      "torch.Size([256, 5, 58]) torch.Size([256, 1])\n",
      "39\n",
      "torch.Size([256, 5, 51]) torch.Size([256, 1])\n",
      "40\n",
      "torch.Size([256, 5, 54]) torch.Size([256, 1])\n",
      "41\n",
      "torch.Size([256, 5, 69]) torch.Size([256, 1])\n",
      "42\n",
      "torch.Size([256, 5, 40]) torch.Size([256, 1])\n",
      "43\n",
      "torch.Size([256, 5, 40]) torch.Size([256, 1])\n",
      "44\n",
      "torch.Size([256, 5, 39]) torch.Size([256, 1])\n",
      "45\n",
      "torch.Size([256, 5, 89]) torch.Size([256, 1])\n",
      "46\n",
      "torch.Size([256, 5, 66]) torch.Size([256, 1])\n",
      "47\n",
      "torch.Size([256, 5, 80]) torch.Size([256, 1])\n",
      "48\n",
      "torch.Size([256, 5, 50]) torch.Size([256, 1])\n",
      "49\n",
      "torch.Size([256, 5, 50]) torch.Size([256, 1])\n",
      "50\n",
      "torch.Size([256, 5, 50]) torch.Size([256, 1])\n",
      "51\n",
      "torch.Size([256, 5, 63]) torch.Size([256, 1])\n",
      "52\n",
      "torch.Size([256, 5, 51]) torch.Size([256, 1])\n",
      "53\n",
      "torch.Size([256, 5, 55]) torch.Size([256, 1])\n",
      "54\n",
      "torch.Size([256, 5, 56]) torch.Size([256, 1])\n",
      "55\n",
      "torch.Size([256, 5, 51]) torch.Size([256, 1])\n",
      "56\n",
      "torch.Size([256, 5, 32]) torch.Size([256, 1])\n",
      "57\n",
      "torch.Size([256, 5, 45]) torch.Size([256, 1])\n",
      "58\n",
      "torch.Size([256, 5, 66]) torch.Size([256, 1])\n",
      "59\n",
      "torch.Size([256, 5, 68]) torch.Size([256, 1])\n",
      "60\n",
      "torch.Size([256, 5, 41]) torch.Size([256, 1])\n",
      "61\n",
      "torch.Size([256, 5, 55]) torch.Size([256, 1])\n",
      "62\n",
      "torch.Size([256, 5, 54]) torch.Size([256, 1])\n",
      "63\n",
      "torch.Size([256, 5, 61]) torch.Size([256, 1])\n",
      "64\n",
      "torch.Size([256, 5, 53]) torch.Size([256, 1])\n",
      "65\n",
      "torch.Size([256, 5, 58]) torch.Size([256, 1])\n",
      "66\n",
      "torch.Size([256, 5, 48]) torch.Size([256, 1])\n",
      "67\n",
      "torch.Size([256, 5, 70]) torch.Size([256, 1])\n",
      "68\n",
      "torch.Size([256, 5, 36]) torch.Size([256, 1])\n",
      "69\n",
      "torch.Size([256, 5, 49]) torch.Size([256, 1])\n",
      "70\n",
      "torch.Size([256, 5, 89]) torch.Size([256, 1])\n",
      "71\n",
      "torch.Size([256, 5, 45]) torch.Size([256, 1])\n",
      "72\n",
      "torch.Size([256, 5, 89]) torch.Size([256, 1])\n",
      "73\n",
      "torch.Size([256, 5, 36]) torch.Size([256, 1])\n",
      "74\n",
      "torch.Size([256, 5, 66]) torch.Size([256, 1])\n",
      "75\n",
      "torch.Size([256, 5, 47]) torch.Size([256, 1])\n",
      "76\n",
      "torch.Size([256, 5, 45]) torch.Size([256, 1])\n",
      "77\n",
      "torch.Size([256, 5, 61]) torch.Size([256, 1])\n",
      "78\n",
      "torch.Size([256, 5, 53]) torch.Size([256, 1])\n",
      "79\n",
      "torch.Size([256, 5, 41]) torch.Size([256, 1])\n",
      "80\n",
      "torch.Size([256, 5, 40]) torch.Size([256, 1])\n",
      "81\n",
      "torch.Size([256, 5, 47]) torch.Size([256, 1])\n",
      "82\n",
      "torch.Size([256, 5, 42]) torch.Size([256, 1])\n",
      "83\n",
      "torch.Size([256, 5, 54]) torch.Size([256, 1])\n",
      "84\n",
      "torch.Size([256, 5, 49]) torch.Size([256, 1])\n",
      "85\n",
      "torch.Size([256, 5, 37]) torch.Size([256, 1])\n",
      "86\n",
      "torch.Size([256, 5, 54]) torch.Size([256, 1])\n",
      "87\n",
      "torch.Size([256, 5, 50]) torch.Size([256, 1])\n",
      "88\n",
      "torch.Size([256, 5, 58]) torch.Size([256, 1])\n",
      "89\n",
      "torch.Size([256, 5, 58]) torch.Size([256, 1])\n",
      "90\n",
      "torch.Size([256, 5, 36]) torch.Size([256, 1])\n",
      "91\n",
      "torch.Size([256, 5, 38]) torch.Size([256, 1])\n",
      "92\n",
      "torch.Size([256, 5, 47]) torch.Size([256, 1])\n",
      "93\n",
      "torch.Size([256, 5, 30]) torch.Size([256, 1])\n",
      "94\n",
      "torch.Size([256, 5, 43]) torch.Size([256, 1])\n",
      "95\n",
      "torch.Size([256, 5, 56]) torch.Size([256, 1])\n",
      "96\n",
      "torch.Size([256, 5, 69]) torch.Size([256, 1])\n",
      "97\n",
      "torch.Size([256, 5, 43]) torch.Size([256, 1])\n",
      "98\n",
      "torch.Size([256, 5, 48]) torch.Size([256, 1])\n",
      "99\n",
      "torch.Size([256, 5, 41]) torch.Size([256, 1])\n",
      "100\n",
      "torch.Size([256, 5, 53]) torch.Size([256, 1])\n",
      "101\n"
     ]
    }
   ],
   "source": [
    "for i, (data, labels) in enumerate(batches):\n",
    "    print(i)\n",
    "    if i>100:\n",
    "        break\n",
    "    print(data.shape, labels.shape)"
   ]
  },
  {
   "cell_type": "code",
   "execution_count": 9,
   "metadata": {},
   "outputs": [],
   "source": [
    "ch_gen = gen.generate_chunk()"
   ]
  },
  {
   "cell_type": "code",
   "execution_count": 10,
   "metadata": {},
   "outputs": [],
   "source": [
    "df = next(ch_gen)"
   ]
  },
  {
   "cell_type": "code",
   "execution_count": 10,
   "metadata": {},
   "outputs": [
    {
     "ename": "StopIteration",
     "evalue": "",
     "output_type": "error",
     "traceback": [
      "\u001b[0;31m---------------------------------------------------------------------------\u001b[0m",
      "\u001b[0;31mStopIteration\u001b[0m                             Traceback (most recent call last)",
      "Cell \u001b[0;32mIn[10], line 1\u001b[0m\n\u001b[0;32m----> 1\u001b[0m df2 \u001b[38;5;241m=\u001b[39m \u001b[38;5;28;43mnext\u001b[39;49m\u001b[43m(\u001b[49m\u001b[43mch_gen\u001b[49m\u001b[43m)\u001b[49m\n",
      "\u001b[0;31mStopIteration\u001b[0m: "
     ]
    }
   ],
   "source": [
    "df2 = next(ch_gen)"
   ]
  },
  {
   "cell_type": "code",
   "execution_count": 14,
   "metadata": {},
   "outputs": [
    {
     "data": {
      "text/plain": [
       "(474942, 6)"
      ]
     },
     "execution_count": 14,
     "metadata": {},
     "output_type": "execute_result"
    }
   ],
   "source": [
    "df[0:1_000_000].shape"
   ]
  },
  {
   "cell_type": "code",
   "execution_count": 19,
   "metadata": {},
   "outputs": [
    {
     "name": "stdout",
     "output_type": "stream",
     "text": [
      "(474942, 6)\n",
      "(473918, 6)\n"
     ]
    },
    {
     "data": {
      "text/html": [
       "<div><style>\n",
       ".dataframe > thead > tr,\n",
       ".dataframe > tbody > tr {\n",
       "  text-align: right;\n",
       "  white-space: pre-wrap;\n",
       "}\n",
       "</style>\n",
       "<small>shape: (1_024, 6)</small><table border=\"1\" class=\"dataframe\"><thead><tr><th>PulsesAmpl</th><th>PulsesTime</th><th>Xrel</th><th>Yrel</th><th>Zrel</th><th>nu_induced</th></tr><tr><td>list[f32]</td><td>list[f32]</td><td>list[f64]</td><td>list[f64]</td><td>list[f64]</td><td>bool</td></tr></thead><tbody><tr><td>[10.406323, 0.94605, … 0.9295]</td><td>[-108.01355, -88.571899, … 123.314697]</td><td>[50.538114, 50.538114, … 57.154129]</td><td>[31.67837, 31.67837, … -20.892614]</td><td>[-112.543993, -82.504991, … -143.006998]</td><td>false</td></tr><tr><td>[4.204237, 1.222921, … 1.403362]</td><td>[-605.974365, -534.967468, … 639.805542]</td><td>[-33.253271, -33.253271, … 10.497736]</td><td>[-49.427752, -49.427752, … 58.085256]</td><td>[247.92538, 232.905468, … -112.42857]</td><td>false</td></tr><tr><td>[1.250957, 0.893708, … 0.591232]</td><td>[-163.276367, -115.437012, … 193.798584]</td><td>[19.418756, 1.208765, … 53.101755]</td><td>[-57.282748, -0.88174, … -21.413745]</td><td>[217.583431, 232.467372, … 157.725383]</td><td>false</td></tr><tr><td>[2.024481, 1.200175, … 1.051478]</td><td>[-990.317383, -952.729004, … 543.626221]</td><td>[52.391874, 52.391874, … -0.395121]</td><td>[31.345537, 31.345537, … -1.683516]</td><td>[217.512529, 202.5105, … -247.825468]</td><td>false</td></tr><tr><td>[12.922216, 5.618103, … 1.294124]</td><td>[-128.456299, -74.570923, … 108.805786]</td><td>[60.010254, 60.010254, … 43.581249]</td><td>[7.91311, 7.91311, … -42.654858]</td><td>[141.331396, 126.312415, … 157.997366]</td><td>false</td></tr><tr><td>&hellip;</td><td>&hellip;</td><td>&hellip;</td><td>&hellip;</td><td>&hellip;</td><td>&hellip;</td></tr><tr><td>[1.5048, 0.730799, … 14.079969]</td><td>[-595.140503, -497.373535, … 439.685425]</td><td>[-58.110868, -58.110868, … 57.154129]</td><td>[-4.861609, -4.861609, … -20.892614]</td><td>[-37.578001, -7.555988, … 261.821982]</td><td>true</td></tr><tr><td>[1.228545, 0.886074, … 0.859673]</td><td>[-154.320312, -102.418884, … 232.969238]</td><td>[-40.992133, -40.992133, … -30.486136]</td><td>[42.604509, 42.604509, … -49.970472]</td><td>[-37.322485, -22.302506, … 7.394525]</td><td>true</td></tr><tr><td>[0.839333, 0.737236, … 1.402275]</td><td>[-301.444702, -265.007812, … 533.715576]</td><td>[60.158501, 60.158501, … 60.158501]</td><td>[-2.030605, -2.030605, … -2.030605]</td><td>[187.670474, 172.666522, … -82.646497]</td><td>false</td></tr><tr><td>[0.72291, 1.262256, … 1.111854]</td><td>[-581.161377, -566.828613, … 359.265381]</td><td>[2.177528, 34.699516, … 36.679482]</td><td>[-0.764629, -46.808651, … 44.715374]</td><td>[172.379458, 127.587466, … -202.626508]</td><td>false</td></tr><tr><td>[17.694906, 4.621929, … 0.845328]</td><td>[-322.086304, 12.813354, … 219.792969]</td><td>[57.154129, 17.135126, … -31.008856]</td><td>[-20.892614, -56.806616, … -49.470633]</td><td>[66.972998, -7.468019, … -37.715986]</td><td>false</td></tr></tbody></table></div>"
      ],
      "text/plain": [
       "shape: (1_024, 6)\n",
       "┌─────────────┬─────────────────┬─────────────────┬─────────────────┬─────────────────┬────────────┐\n",
       "│ PulsesAmpl  ┆ PulsesTime      ┆ Xrel            ┆ Yrel            ┆ Zrel            ┆ nu_induced │\n",
       "│ ---         ┆ ---             ┆ ---             ┆ ---             ┆ ---             ┆ ---        │\n",
       "│ list[f32]   ┆ list[f32]       ┆ list[f64]       ┆ list[f64]       ┆ list[f64]       ┆ bool       │\n",
       "╞═════════════╪═════════════════╪═════════════════╪═════════════════╪═════════════════╪════════════╡\n",
       "│ [10.406323, ┆ [-108.01355,    ┆ [50.538114,     ┆ [31.67837,      ┆ [-112.543993,   ┆ false      │\n",
       "│ 0.94605, …  ┆ -88.571899, …   ┆ 50.538114, …    ┆ 31.67837, …     ┆ -82.504991, …   ┆            │\n",
       "│ 0.9295]     ┆ 123…            ┆ 57.15…          ┆ -20.892…        ┆ -1…             ┆            │\n",
       "│ [4.204237,  ┆ [-605.974365,   ┆ [-33.253271,    ┆ [-49.427752,    ┆ [247.92538,     ┆ false      │\n",
       "│ 1.222921, … ┆ -534.967468, …  ┆ -33.253271, …   ┆ -49.427752, …   ┆ 232.905468, …   ┆            │\n",
       "│ 1.40336…    ┆ 6…              ┆ 10.…            ┆ 58.…            ┆ -112…           ┆            │\n",
       "│ [1.250957,  ┆ [-163.276367,   ┆ [19.418756,     ┆ [-57.282748,    ┆ [217.583431,    ┆ false      │\n",
       "│ 0.893708, … ┆ -115.437012, …  ┆ 1.208765, …     ┆ -0.88174, …     ┆ 232.467372, …   ┆            │\n",
       "│ 0.59123…    ┆ 1…              ┆ 53.101…         ┆ -21.4…          ┆ 157…            ┆            │\n",
       "│ [2.024481,  ┆ [-990.317383,   ┆ [52.391874,     ┆ [31.345537,     ┆ [217.512529,    ┆ false      │\n",
       "│ 1.200175, … ┆ -952.729004, …  ┆ 52.391874, …    ┆ 31.345537, …    ┆ 202.5105, …     ┆            │\n",
       "│ 1.05147…    ┆ 5…              ┆ -0.39…          ┆ -1.68…          ┆ -247.…          ┆            │\n",
       "│ [12.922216, ┆ [-128.456299,   ┆ [60.010254,     ┆ [7.91311,       ┆ [141.331396,    ┆ false      │\n",
       "│ 5.618103, … ┆ -74.570923, …   ┆ 60.010254, …    ┆ 7.91311, …      ┆ 126.312415, …   ┆            │\n",
       "│ 1.2941…     ┆ 10…             ┆ 43.58…          ┆ -42.65485…      ┆ 157…            ┆            │\n",
       "│ …           ┆ …               ┆ …               ┆ …               ┆ …               ┆ …          │\n",
       "│ [1.5048,    ┆ [-595.140503,   ┆ [-58.110868,    ┆ [-4.861609,     ┆ [-37.578001,    ┆ true       │\n",
       "│ 0.730799, … ┆ -497.373535, …  ┆ -58.110868, …   ┆ -4.861609, …    ┆ -7.555988, …    ┆            │\n",
       "│ 14.079969…  ┆ 4…              ┆ 57.…            ┆ -20.8…          ┆ 261.…           ┆            │\n",
       "│ [1.228545,  ┆ [-154.320312,   ┆ [-40.992133,    ┆ [42.604509,     ┆ [-37.322485,    ┆ true       │\n",
       "│ 0.886074, … ┆ -102.418884, …  ┆ -40.992133, …   ┆ 42.604509, …    ┆ -22.302506, …   ┆            │\n",
       "│ 0.85967…    ┆ 2…              ┆ -30…            ┆ -49.9…          ┆ 7.3…            ┆            │\n",
       "│ [0.839333,  ┆ [-301.444702,   ┆ [60.158501,     ┆ [-2.030605,     ┆ [187.670474,    ┆ false      │\n",
       "│ 0.737236, … ┆ -265.007812, …  ┆ 60.158501, …    ┆ -2.030605, …    ┆ 172.666522, …   ┆            │\n",
       "│ 1.40227…    ┆ 5…              ┆ 60.15…          ┆ -2.03…          ┆ -82…            ┆            │\n",
       "│ [0.72291,   ┆ [-581.161377,   ┆ [2.177528,      ┆ [-0.764629,     ┆ [172.379458,    ┆ false      │\n",
       "│ 1.262256, … ┆ -566.828613, …  ┆ 34.699516, …    ┆ -46.808651, …   ┆ 127.587466, …   ┆            │\n",
       "│ 1.111854…   ┆ 3…              ┆ 36.679…         ┆ 44.7…           ┆ -20…            ┆            │\n",
       "│ [17.694906, ┆ [-322.086304,   ┆ [57.154129,     ┆ [-20.892614,    ┆ [66.972998,     ┆ false      │\n",
       "│ 4.621929, … ┆ 12.813354, …    ┆ 17.135126, …    ┆ -56.806616, …   ┆ -7.468019, …    ┆            │\n",
       "│ 0.8453…     ┆ 219…            ┆ -31.0…          ┆ -49…            ┆ -37.7…          ┆            │\n",
       "└─────────────┴─────────────────┴─────────────────┴─────────────────┴─────────────────┴────────────┘"
      ]
     },
     "execution_count": 19,
     "metadata": {},
     "output_type": "execute_result"
    }
   ],
   "source": [
    "print(df.shape)\n",
    "batch = df[0:1024]\n",
    "df = df[1024:]\n",
    "print(df.shape)\n",
    "batch"
   ]
  },
  {
   "cell_type": "code",
   "execution_count": null,
   "metadata": {},
   "outputs": [],
   "source": []
  },
  {
   "cell_type": "code",
   "execution_count": 9,
   "metadata": {},
   "outputs": [],
   "source": [
    "ch_gen_100 = gen.generate_chunk(100)\n",
    "df_100 = next(ch_gen_100)"
   ]
  },
  {
   "cell_type": "code",
   "execution_count": 23,
   "metadata": {},
   "outputs": [
    {
     "data": {
      "text/html": [
       "<div><style>\n",
       ".dataframe > thead > tr,\n",
       ".dataframe > tbody > tr {\n",
       "  text-align: right;\n",
       "  white-space: pre-wrap;\n",
       "}\n",
       "</style>\n",
       "<small>shape: (0, 6)</small><table border=\"1\" class=\"dataframe\"><thead><tr><th>PulsesAmpl</th><th>PulsesTime</th><th>Xrel</th><th>Yrel</th><th>Zrel</th><th>nu_induced</th></tr><tr><td>list[f32]</td><td>list[f32]</td><td>list[f64]</td><td>list[f64]</td><td>list[f64]</td><td>bool</td></tr></thead><tbody></tbody></table></div>"
      ],
      "text/plain": [
       "shape: (0, 6)\n",
       "┌────────────┬────────────┬───────────┬───────────┬───────────┬────────────┐\n",
       "│ PulsesAmpl ┆ PulsesTime ┆ Xrel      ┆ Yrel      ┆ Zrel      ┆ nu_induced │\n",
       "│ ---        ┆ ---        ┆ ---       ┆ ---       ┆ ---       ┆ ---        │\n",
       "│ list[f32]  ┆ list[f32]  ┆ list[f64] ┆ list[f64] ┆ list[f64] ┆ bool       │\n",
       "╞════════════╪════════════╪═══════════╪═══════════╪═══════════╪════════════╡\n",
       "└────────────┴────────────┴───────────┴───────────┴───────────┴────────────┘"
      ]
     },
     "execution_count": 23,
     "metadata": {},
     "output_type": "execute_result"
    }
   ],
   "source": [
    "df[485879:]"
   ]
  },
  {
   "cell_type": "code",
   "execution_count": 16,
   "metadata": {},
   "outputs": [],
   "source": [
    "pre_batch = df_100.head(256)"
   ]
  },
  {
   "cell_type": "code",
   "execution_count": 32,
   "metadata": {},
   "outputs": [
    {
     "data": {
      "text/html": [
       "<div><style>\n",
       ".dataframe > thead > tr,\n",
       ".dataframe > tbody > tr {\n",
       "  text-align: right;\n",
       "  white-space: pre-wrap;\n",
       "}\n",
       "</style>\n",
       "<small>shape: (256, 5)</small><table border=\"1\" class=\"dataframe\"><thead><tr><th>PulsesAmpl</th><th>PulsesTime</th><th>Xrel</th><th>Yrel</th><th>Zrel</th></tr><tr><td>list[f32]</td><td>list[f32]</td><td>list[f64]</td><td>list[f64]</td><td>list[f64]</td></tr></thead><tbody><tr><td>[7.547581, 14.442409, … 3.386529]</td><td>[-301.231873, -265.554047, … 389.164154]</td><td>[-0.395121, -0.395121, … 52.391874]</td><td>[-1.683516, -1.683516, … 31.345537]</td><td>[-232.809492, -217.792463, … -37.621489]</td></tr><tr><td>[8.095063, 2.322599, … 1.073559]</td><td>[-189.772522, -132.359314, … 228.297363]</td><td>[2.177528, 2.177528, … 34.699516]</td><td>[-0.764629, -0.764629, … -46.808651]</td><td>[262.365481, 247.367495, … 157.61751]</td></tr><tr><td>[0.390054, 5.859123, … 2.790321]</td><td>[-302.651001, -175.662109, … 329.292358]</td><td>[-40.877882, -3.395887, … 17.135126]</td><td>[41.557367, -0.01264, … -56.806616]</td><td>[82.741003, 67.731978, … -82.552995]</td></tr><tr><td>[1.262085, 4.477741, … 1.088106]</td><td>[-162.488708, -128.866058, … 366.564514]</td><td>[17.954746, 17.954746, … 3.311741]</td><td>[-55.696244, -55.696244, … -0.165249]</td><td>[-203.441918, -188.462914, … -79.329933]</td></tr><tr><td>[0.710593, 2.587274, … 1.272407]</td><td>[-251.679321, -168.00293, … 179.966309]</td><td>[52.391874, 4.32488, … -58.35012]</td><td>[31.345537, 58.976503, … -6.072523]</td><td>[112.498506, 67.684526, … 37.708509]</td></tr><tr><td>&hellip;</td><td>&hellip;</td><td>&hellip;</td><td>&hellip;</td><td>&hellip;</td></tr><tr><td>[1.093083, 0.818011, … 0.585834]</td><td>[-357.29541, -109.14917, … 190.805176]</td><td>[53.101755, 1.208765, … -41.625219]</td><td>[-21.413745, -0.88174, … 44.301244]</td><td>[-22.558552, -82.747555, … -157.412571]</td></tr><tr><td>[2.313916, 0.702406, … 1.000533]</td><td>[-372.359009, 50.018311, … 131.808228]</td><td>[8.566122, -58.110868, … -58.110868]</td><td>[58.808374, -4.861609, … -4.861609]</td><td>[247.916968, 157.520026, … 157.520026]</td></tr><tr><td>[0.981178, 4.349264, … 0.826486]</td><td>[-233.694031, -211.210876, … 274.514526]</td><td>[60.158501, 60.158501, … 2.177528]</td><td>[-2.030605, -2.030605, … -0.764629]</td><td>[82.629496, 97.644496, … 217.3725]</td></tr><tr><td>[1.104485, 0.877763, … 1.255011]</td><td>[-249.999863, -242.330963, … 271.673798]</td><td>[1.208765, 1.208765, … 10.497736]</td><td>[-0.88174, -0.88174, … 58.085256]</td><td>[-187.844578, -172.830555, … -52.312573]</td></tr><tr><td>[1.958949, 0.868125, … 2.660609]</td><td>[-225.255859, -179.511963, … 307.26123]</td><td>[-42.039257, -42.039257, … 48.696751]</td><td>[38.46075, 38.46075, … 34.162761]</td><td>[247.100059, 232.096077, … 127.339088]</td></tr></tbody></table></div>"
      ],
      "text/plain": [
       "shape: (256, 5)\n",
       "┌──────────────┬────────────────────┬────────────────────┬────────────────────┬────────────────────┐\n",
       "│ PulsesAmpl   ┆ PulsesTime         ┆ Xrel               ┆ Yrel               ┆ Zrel               │\n",
       "│ ---          ┆ ---                ┆ ---                ┆ ---                ┆ ---                │\n",
       "│ list[f32]    ┆ list[f32]          ┆ list[f64]          ┆ list[f64]          ┆ list[f64]          │\n",
       "╞══════════════╪════════════════════╪════════════════════╪════════════════════╪════════════════════╡\n",
       "│ [7.547581,   ┆ [-301.231873,      ┆ [-0.395121,        ┆ [-1.683516,        ┆ [-232.809492,      │\n",
       "│ 14.442409, … ┆ -265.554047, … 3…  ┆ -0.395121, …       ┆ -1.683516, …       ┆ -217.792463, … -…  │\n",
       "│ 3.3865…      ┆                    ┆ 52.39…             ┆ 31.34…             ┆                    │\n",
       "│ [8.095063,   ┆ [-189.772522,      ┆ [2.177528,         ┆ [-0.764629,        ┆ [262.365481,       │\n",
       "│ 2.322599, …  ┆ -132.359314, … 2…  ┆ 2.177528, …        ┆ -0.764629, …       ┆ 247.367495, … 157… │\n",
       "│ 1.07355…     ┆                    ┆ 34.6995…           ┆ -46.8…             ┆                    │\n",
       "│ [0.390054,   ┆ [-302.651001,      ┆ [-40.877882,       ┆ [41.557367,        ┆ [82.741003,        │\n",
       "│ 5.859123, …  ┆ -175.662109, … 3…  ┆ -3.395887, … 17.1… ┆ -0.01264, …        ┆ 67.731978, …       │\n",
       "│ 2.79032…     ┆                    ┆                    ┆ -56.80…            ┆ -82.5…             │\n",
       "│ [1.262085,   ┆ [-162.488708,      ┆ [17.954746,        ┆ [-55.696244,       ┆ [-203.441918,      │\n",
       "│ 4.477741, …  ┆ -128.866058, … 3…  ┆ 17.954746, …       ┆ -55.696244, … -0.… ┆ -188.462914, … -…  │\n",
       "│ 1.08810…     ┆                    ┆ 3.311…             ┆                    ┆                    │\n",
       "│ [0.710593,   ┆ [-251.679321,      ┆ [52.391874,        ┆ [31.345537,        ┆ [112.498506,       │\n",
       "│ 2.587274, …  ┆ -168.00293, … 17…  ┆ 4.32488, …         ┆ 58.976503, …       ┆ 67.684526, … 37.7… │\n",
       "│ 1.27240…     ┆                    ┆ -58.350…           ┆ -6.07…             ┆                    │\n",
       "│ …            ┆ …                  ┆ …                  ┆ …                  ┆ …                  │\n",
       "│ [1.093083,   ┆ [-357.29541,       ┆ [53.101755,        ┆ [-21.413745,       ┆ [-22.558552,       │\n",
       "│ 0.818011, …  ┆ -109.14917, … 190… ┆ 1.208765, …        ┆ -0.88174, … 44.30… ┆ -82.747555, … -15… │\n",
       "│ 0.58583…     ┆                    ┆ -41.62…            ┆                    ┆                    │\n",
       "│ [2.313916,   ┆ [-372.359009,      ┆ [8.566122,         ┆ [58.808374,        ┆ [247.916968,       │\n",
       "│ 0.702406, …  ┆ 50.018311, … 131…  ┆ -58.110868, …      ┆ -4.861609, …       ┆ 157.520026, … 157… │\n",
       "│ 1.00053…     ┆                    ┆ -58.1…             ┆ -4.86…             ┆                    │\n",
       "│ [0.981178,   ┆ [-233.694031,      ┆ [60.158501,        ┆ [-2.030605,        ┆ [82.629496,        │\n",
       "│ 4.349264, …  ┆ -211.210876, … 2…  ┆ 60.158501, …       ┆ -2.030605, …       ┆ 97.644496, …       │\n",
       "│ 0.82648…     ┆                    ┆ 2.177…             ┆ -0.76…             ┆ 217.3…             │\n",
       "│ [1.104485,   ┆ [-249.999863,      ┆ [1.208765,         ┆ [-0.88174,         ┆ [-187.844578,      │\n",
       "│ 0.877763, …  ┆ -242.330963, … 2…  ┆ 1.208765, …        ┆ -0.88174, …        ┆ -172.830555, … -…  │\n",
       "│ 1.25501…     ┆                    ┆ 10.4977…           ┆ 58.0852…           ┆                    │\n",
       "│ [1.958949,   ┆ [-225.255859,      ┆ [-42.039257,       ┆ [38.46075,         ┆ [247.100059,       │\n",
       "│ 0.868125, …  ┆ -179.511963, … 3…  ┆ -42.039257, … 48.… ┆ 38.46075, …        ┆ 232.096077, … 127… │\n",
       "│ 2.66060…     ┆                    ┆                    ┆ 34.1627…           ┆                    │\n",
       "└──────────────┴────────────────────┴────────────────────┴────────────────────┴────────────────────┘"
      ]
     },
     "execution_count": 32,
     "metadata": {},
     "output_type": "execute_result"
    }
   ],
   "source": [
    "arr"
   ]
  },
  {
   "cell_type": "code",
   "execution_count": 20,
   "metadata": {},
   "outputs": [],
   "source": [
    "import polars as pl\n",
    "import torch\n",
    "\n",
    "# Assuming `pre_batch` is a Polars DataFrame and `gen_sets.features` contains the list of column names\n",
    "arr = df[0:100_000].select(gen_sets.features)\n",
    "\n",
    "# Step 1: Find the maximum length of the arrays\n",
    "max_length = arr['PulsesTime'].list.len().max()\n",
    "max_length\n",
    "\n",
    "# Step 2: Create a list of lists to hold the padded data, avoiding manual iteration\n",
    "result = []\n",
    "\n",
    "# Step 3: Iterate through rows using Polars methods\n",
    "for row in arr.iter_rows():\n",
    "    row_result = []\n",
    "    for data_list in row:\n",
    "        # Pad each data_list to the maximum length\n",
    "        padded_data_list = data_list + [0.0] * (max_length - len(data_list))\n",
    "        row_result.append(padded_data_list)\n",
    "    result.append(row_result)\n",
    "\n",
    "# Convert the result to a Polars DataFrame\n",
    "tens = torch.tensor(result) \n"
   ]
  },
  {
   "cell_type": "code",
   "execution_count": 21,
   "metadata": {},
   "outputs": [
    {
     "data": {
      "text/plain": [
       "torch.Size([100000, 5, 107])"
      ]
     },
     "execution_count": 21,
     "metadata": {},
     "output_type": "execute_result"
    }
   ],
   "source": [
    "tens.shape"
   ]
  },
  {
   "cell_type": "code",
   "execution_count": 33,
   "metadata": {},
   "outputs": [],
   "source": [
    "arr = pre_batch[gen_sets.features].to_numpy()\n",
    "\n",
    "# Step 1: Find the maximum length of the arrays\n",
    "max_length = np.vectorize(len)(arr[:,0]).max()\n",
    "\n",
    "# Step 2: Create an empty array filled with zeros, with the desired shape (225628, 5, max_length)\n",
    "result = np.zeros((arr.shape[0], arr.shape[1], max_length), dtype=np.float64)\n",
    "\n",
    "# Step 3: Vectorized operation to copy the contents of each 1D array into the 3D array\n",
    "for i in range(arr.shape[0]):\n",
    "    for j in range(arr.shape[1]):\n",
    "        sublist = arr[i, j]\n",
    "        result[i, j, :len(sublist)] = sublist  # Fill the result array with the sublist contents\n",
    "print(result)"
   ]
  },
  {
   "cell_type": "code",
   "execution_count": 35,
   "metadata": {},
   "outputs": [
    {
     "data": {
      "text/plain": [
       "(256,)"
      ]
     },
     "execution_count": 35,
     "metadata": {},
     "output_type": "execute_result"
    }
   ],
   "source": [
    "arr[:,0].shape"
   ]
  },
  {
   "cell_type": "code",
   "execution_count": null,
   "metadata": {},
   "outputs": [],
   "source": []
  },
  {
   "cell_type": "code",
   "execution_count": null,
   "metadata": {},
   "outputs": [],
   "source": []
  },
  {
   "cell_type": "code",
   "execution_count": 14,
   "metadata": {},
   "outputs": [
    {
     "data": {
      "text/plain": [
       "(6.857380544876718,\n",
       " 118.68766997639588,\n",
       " -2.689061022536692e-07,\n",
       " 238.47337396924905)"
      ]
     },
     "execution_count": 14,
     "metadata": {},
     "output_type": "execute_result"
    }
   ],
   "source": [
    "gen.Q_mean, gen.Q_std, gen.t_mean, gen.t_std"
   ]
  },
  {
   "cell_type": "code",
   "execution_count": 16,
   "metadata": {},
   "outputs": [
    {
     "data": {
      "text/plain": [
       "(1.0045248377987508, 11.459843305397115)"
      ]
     },
     "execution_count": 16,
     "metadata": {},
     "output_type": "execute_result"
    }
   ],
   "source": [
    "gen.mu_nu_ratio, gen.nuatm_nu2_ratio"
   ]
  },
  {
   "cell_type": "code",
   "execution_count": 10,
   "metadata": {},
   "outputs": [
    {
     "data": {
      "text/plain": [
       "(1.1236250725986499e-07, 246.50952407496516)"
      ]
     },
     "execution_count": 10,
     "metadata": {},
     "output_type": "execute_result"
    }
   ],
   "source": [
    "gen.t_mean, gen.t_std"
   ]
  },
  {
   "cell_type": "code",
   "execution_count": null,
   "metadata": {},
   "outputs": [],
   "source": []
  }
 ],
 "metadata": {
  "kernelspec": {
   "display_name": "Python 3",
   "language": "python",
   "name": "python3"
  },
  "language_info": {
   "codemirror_mode": {
    "name": "ipython",
    "version": 3
   },
   "file_extension": ".py",
   "mimetype": "text/x-python",
   "name": "python",
   "nbconvert_exporter": "python",
   "pygments_lexer": "ipython3",
   "version": "3.10.15"
  }
 },
 "nbformat": 4,
 "nbformat_minor": 2
}
