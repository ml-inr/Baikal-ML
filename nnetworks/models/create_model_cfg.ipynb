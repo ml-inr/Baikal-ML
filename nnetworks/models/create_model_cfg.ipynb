{
 "cells": [
  {
   "cell_type": "code",
   "execution_count": 1,
   "metadata": {},
   "outputs": [],
   "source": [
    "import os\n",
    "import sys\n",
    "PROJECT_PATH = \"/home/albert/Baikal-ML/\" #insert your project path\n",
    "sys.path.append(f\"{PROJECT_PATH}\")"
   ]
  },
  {
   "cell_type": "code",
   "execution_count": 2,
   "metadata": {},
   "outputs": [],
   "source": [
    "import torch"
   ]
  },
  {
   "cell_type": "code",
   "execution_count": 3,
   "metadata": {},
   "outputs": [],
   "source": [
    "from nnetworks.layers.config import LstmConfig, DenseInput, MaskedConv1DConfig, ResBlockConfig\n",
    "from nnetworks.models.config import MuNuSepLstmConfig, MuNuSepResNetConfig\n",
    "from nnetworks.models.munusep_lstm import MuNuSepLstm\n",
    "from nnetworks.models.munusep_resnet import MuNuSepResNet\n",
    "\n",
    "from nnetworks.models.config_manager import save_model_cfg, model_from_yaml"
   ]
  },
  {
   "cell_type": "markdown",
   "metadata": {},
   "source": [
    "# LSTM based model"
   ]
  },
  {
   "cell_type": "code",
   "execution_count": 17,
   "metadata": {},
   "outputs": [
    {
     "name": "stdout",
     "output_type": "stream",
     "text": [
      "40866\n"
     ]
    },
    {
     "data": {
      "text/plain": [
       "tensor([[0.7491, 0.2509],\n",
       "        [0.2636, 0.7364]], grad_fn=<SoftmaxBackward0>)"
      ]
     },
     "execution_count": 17,
     "metadata": {},
     "output_type": "execute_result"
    }
   ],
   "source": [
    "cfg = MuNuSepLstmConfig(\n",
    "        lstm_layers=[\n",
    "            LstmConfig(\n",
    "                5,\n",
    "                64,\n",
    "                1,\n",
    "                return_sequences=True,\n",
    "                dropout = 0.,\n",
    "                bidirectional=True,\n",
    "                norm = {\"MaskedLayerNorm12\": None}\n",
    "            )\n",
    "        ],\n",
    "        pooling_type=\"Average\",\n",
    "        dense_layers=[\n",
    "            DenseInput(\n",
    "                (64)*2, \n",
    "                32,\n",
    "                activation = {'LeakyReLU': dict(negative_slope=0.1)},\n",
    "                dropout = 0.1,\n",
    "                do_norm = True\n",
    "                ),\n",
    "            \n",
    "            DenseInput(\n",
    "                32, \n",
    "                2,\n",
    "                activation = {'Softmax': {\"dim\": 1}},\n",
    "                dropout = 0.,\n",
    "                do_norm = False\n",
    "                ),\n",
    "        ]\n",
    "    )\n",
    "\n",
    "model = MuNuSepLstm(cfg)\n",
    "def count_parameters(model):\n",
    "    return sum(p.numel() for p in model.parameters() if p.requires_grad)\n",
    "print(count_parameters(model))\n",
    "\n",
    "# test\n",
    "model(torch.rand(2,10,5))"
   ]
  },
  {
   "cell_type": "code",
   "execution_count": 18,
   "metadata": {},
   "outputs": [],
   "source": [
    "name_for_model_arch = \"munusep_all_rnn\"\n",
    "save_model_cfg(cfg, f\"/home/albert/Baikal-ML/nnetworks/models/configurations/{name_for_model_arch}.yaml\")"
   ]
  },
  {
   "cell_type": "code",
   "execution_count": 19,
   "metadata": {},
   "outputs": [
    {
     "data": {
      "text/plain": [
       "MuNuSepLstm(\n",
       "  (lstm_layers): ModuleList(\n",
       "    (0): LstmLayer(\n",
       "      (lstm_layer): LSTM(5, 64, batch_first=True, bidirectional=True)\n",
       "      (norm_layer): MaskedLayerNorm12()\n",
       "    )\n",
       "  )\n",
       "  (pooling): GlobalAveragePooling1DMasked()\n",
       "  (dense_layers): ModuleList(\n",
       "    (0): DenseBlock(\n",
       "      (dropout_layer): Dropout(p=0.1, inplace=False)\n",
       "      (dense_layer): Linear(in_features=128, out_features=32, bias=True)\n",
       "      (activation): LeakyReLU(negative_slope=0.1)\n",
       "      (norm1d): BatchNorm1d(32, eps=1e-05, momentum=0.1, affine=True, track_running_stats=True)\n",
       "    )\n",
       "    (1): DenseBlock(\n",
       "      (dropout_layer): Dropout(p=0.0, inplace=False)\n",
       "      (dense_layer): Linear(in_features=32, out_features=2, bias=True)\n",
       "      (activation): Softmax(dim=1)\n",
       "    )\n",
       "  )\n",
       ")"
      ]
     },
     "execution_count": 19,
     "metadata": {},
     "output_type": "execute_result"
    }
   ],
   "source": [
    "model_from_yaml(MuNuSepLstm, f\"/home/albert/Baikal-ML/nnetworks/models/configurations/{name_for_model_arch}.yaml\")"
   ]
  },
  {
   "cell_type": "markdown",
   "metadata": {},
   "source": [
    "# ResNet Based model"
   ]
  },
  {
   "cell_type": "code",
   "execution_count": 7,
   "metadata": {},
   "outputs": [
    {
     "name": "stdout",
     "output_type": "stream",
     "text": [
      "38050\n"
     ]
    },
    {
     "data": {
      "text/plain": [
       "tensor([[0.4476, 0.5524],\n",
       "        [0.7519, 0.2481],\n",
       "        [0.3390, 0.6610]], grad_fn=<SoftmaxBackward0>)"
      ]
     },
     "execution_count": 7,
     "metadata": {},
     "output_type": "execute_result"
    }
   ],
   "source": [
    "# Tiny ResNet\n",
    "cfg = MuNuSepResNetConfig(\n",
    "        res_blocks = [\n",
    "            ResBlockConfig(\n",
    "                id = MaskedConv1DConfig(\n",
    "                        in_channels = 5,\n",
    "                        out_channels = 64,\n",
    "                        kernel_size = 3,\n",
    "                        strides = 1,\n",
    "                        activation = {\"LeakyReLU\": {\"negative_slope\": 0.1}},\n",
    "                        dropout = 0.1,\n",
    "                        norm = {\"LayerNorm\": None}\n",
    "                    ),\n",
    "                cd = MaskedConv1DConfig(\n",
    "                        in_channels = 64,\n",
    "                        out_channels = 128,\n",
    "                        kernel_size = 3,\n",
    "                        strides = 2,\n",
    "                        activation = {\"LeakyReLU\": {\"negative_slope\": 0.1}},\n",
    "                        dropout = 0.1,\n",
    "                        norm = {\"LayerNorm\": None}\n",
    "                    ),\n",
    "                skip = MaskedConv1DConfig(\n",
    "                        in_channels = 5,\n",
    "                        out_channels = 128,\n",
    "                        kernel_size = 5,\n",
    "                        strides = 2,\n",
    "                        activation = {\"LeakyReLU\": {\"negative_slope\": 0.1}},\n",
    "                        dropout = 0.1,\n",
    "                        norm = {\"LayerNorm\": None}\n",
    "                )\n",
    "            )\n",
    "        ],\n",
    "        pooling_type = \"Average\",\n",
    "        dense_layers = [\n",
    "            DenseInput(\n",
    "                in_features = 256, \n",
    "                units = 32,\n",
    "                activation = {'ReLU': None},\n",
    "                dropout = 0.1,\n",
    "                do_norm = True\n",
    "                ),\n",
    "            DenseInput(\n",
    "                in_features = 32, \n",
    "                units = 2,\n",
    "                activation = {'Softmax': {\"dim\": 1}},\n",
    "                do_norm = False,\n",
    "                dropout = 0.\n",
    "                ),\n",
    "        ]\n",
    "    )\n",
    "\n",
    "model = MuNuSepResNet(cfg)\n",
    "\n",
    "def count_parameters(model):\n",
    "    return sum(p.numel() for p in model.parameters() if p.requires_grad)\n",
    "print(count_parameters(model))\n",
    "\n",
    "# test\n",
    "model(torch.rand((3,10, 5)), torch.ones((3,10,1)))"
   ]
  },
  {
   "cell_type": "code",
   "execution_count": 8,
   "metadata": {},
   "outputs": [],
   "source": [
    "name_for_model_arch = \"munusep_all_resnet\"\n",
    "save_model_cfg(cfg, f\"/home/albert/Baikal-ML/nnetworks/models/configurations/{name_for_model_arch}.yaml\")"
   ]
  },
  {
   "cell_type": "code",
   "execution_count": 9,
   "metadata": {},
   "outputs": [
    {
     "data": {
      "text/plain": [
       "MuNuSepResNet(\n",
       "  (res_blocks): ModuleList(\n",
       "    (0): ResBlock(\n",
       "      (conv_id): MaskedConv1D(\n",
       "        (conv): Conv1d(5, 64, kernel_size=(3,), stride=(1,))\n",
       "        (dropout): Dropout(p=0.1, inplace=False)\n",
       "        (activation): LeakyReLU(negative_slope=0.1)\n",
       "        (norm_layer): LayerNorm((64,), eps=1e-05, elementwise_affine=True)\n",
       "      )\n",
       "      (conv_cd): MaskedConv1D(\n",
       "        (conv): Conv1d(64, 128, kernel_size=(3,), stride=(2,))\n",
       "        (dropout): Dropout(p=0.1, inplace=False)\n",
       "        (activation): LeakyReLU(negative_slope=0.1)\n",
       "        (norm_layer): LayerNorm((128,), eps=1e-05, elementwise_affine=True)\n",
       "      )\n",
       "      (conv_skip): MaskedConv1D(\n",
       "        (conv): Conv1d(5, 128, kernel_size=(5,), stride=(2,))\n",
       "        (dropout): Dropout(p=0.1, inplace=False)\n",
       "        (activation): LeakyReLU(negative_slope=0.1)\n",
       "        (norm_layer): LayerNorm((128,), eps=1e-05, elementwise_affine=True)\n",
       "      )\n",
       "    )\n",
       "  )\n",
       "  (pooling): GlobalAveragePooling1DMasked()\n",
       "  (dense_layers): ModuleList(\n",
       "    (0): DenseBlock(\n",
       "      (dropout_layer): Dropout(p=0.1, inplace=False)\n",
       "      (dense_layer): Linear(in_features=256, out_features=32, bias=True)\n",
       "      (activation): ReLU()\n",
       "      (norm1d): BatchNorm1d(32, eps=1e-05, momentum=0.1, affine=True, track_running_stats=True)\n",
       "    )\n",
       "    (1): DenseBlock(\n",
       "      (dropout_layer): Dropout(p=0.0, inplace=False)\n",
       "      (dense_layer): Linear(in_features=32, out_features=2, bias=True)\n",
       "      (activation): Softmax(dim=1)\n",
       "    )\n",
       "  )\n",
       ")"
      ]
     },
     "execution_count": 9,
     "metadata": {},
     "output_type": "execute_result"
    }
   ],
   "source": [
    "model_from_yaml(MuNuSepResNet, f\"/home/albert/Baikal-ML/nnetworks/models/configurations/{name_for_model_arch}.yaml\")"
   ]
  },
  {
   "cell_type": "code",
   "execution_count": null,
   "metadata": {},
   "outputs": [],
   "source": []
  },
  {
   "cell_type": "code",
   "execution_count": null,
   "metadata": {},
   "outputs": [],
   "source": []
  },
  {
   "cell_type": "code",
   "execution_count": 20,
   "metadata": {},
   "outputs": [],
   "source": [
    "import numpy as np"
   ]
  },
  {
   "cell_type": "code",
   "execution_count": 24,
   "metadata": {},
   "outputs": [
    {
     "data": {
      "text/plain": [
       "array([0, 1, 2, 3, 4, 5, 6, 7, 8, 9])"
      ]
     },
     "execution_count": 24,
     "metadata": {},
     "output_type": "execute_result"
    }
   ],
   "source": [
    "np.arange(10)[(torch.ones(10)==1).numpy()]"
   ]
  },
  {
   "cell_type": "code",
   "execution_count": null,
   "metadata": {},
   "outputs": [],
   "source": []
  }
 ],
 "metadata": {
  "kernelspec": {
   "display_name": "Python 3",
   "language": "python",
   "name": "python3"
  },
  "language_info": {
   "codemirror_mode": {
    "name": "ipython",
    "version": 3
   },
   "file_extension": ".py",
   "mimetype": "text/x-python",
   "name": "python",
   "nbconvert_exporter": "python",
   "pygments_lexer": "ipython3",
   "version": "3.10.13"
  }
 },
 "nbformat": 4,
 "nbformat_minor": 2
}
