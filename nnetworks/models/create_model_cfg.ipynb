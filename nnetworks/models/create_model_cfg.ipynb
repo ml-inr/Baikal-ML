{
 "cells": [
  {
   "cell_type": "code",
   "execution_count": 1,
   "metadata": {},
   "outputs": [],
   "source": [
    "import os\n",
    "import sys\n",
    "PROJECT_PATH = \"/home/albert/Baikal-ML/\" #insert your project path\n",
    "sys.path.append(f\"{PROJECT_PATH}\")"
   ]
  },
  {
   "cell_type": "code",
   "execution_count": 2,
   "metadata": {},
   "outputs": [],
   "source": [
    "import torch"
   ]
  },
  {
   "cell_type": "code",
   "execution_count": 3,
   "metadata": {},
   "outputs": [],
   "source": [
    "from nnetworks.layers.config import LstmConfig, DenseInput, MaskedConv1DConfig, ResBlockConfig, TransformerEncodersBlockConfig\n",
    "from nnetworks.models.config import MuNuSepLstmConfig, MuNuSepResNetConfig\n",
    "from nnetworks.models.munusep_lstm import MuNuSepLstm\n",
    "from nnetworks.models.munusep_resnet import MuNuSepResNet\n",
    "\n",
    "from nnetworks.models.config_manager import save_model_cfg, model_from_yaml"
   ]
  },
  {
   "cell_type": "code",
   "execution_count": 4,
   "metadata": {},
   "outputs": [],
   "source": [
    "def count_parameters(model):\n",
    "    return sum(p.numel() for p in model.parameters() if p.requires_grad)"
   ]
  },
  {
   "cell_type": "markdown",
   "metadata": {},
   "source": [
    "# Attention based model"
   ]
  },
  {
   "cell_type": "code",
   "execution_count": 5,
   "metadata": {},
   "outputs": [],
   "source": [
    "from nnetworks.models.munusep_transformer import TransformerClassifier\n",
    "from nnetworks.layers.config import DenseInput, TransformerEncodersBlockConfig\n",
    "from nnetworks.models.config import DenseInput, TransformerClassifierConfig"
   ]
  },
  {
   "cell_type": "code",
   "execution_count": 22,
   "metadata": {},
   "outputs": [
    {
     "data": {
      "text/plain": [
       "809609"
      ]
     },
     "execution_count": 22,
     "metadata": {},
     "output_type": "execute_result"
    }
   ],
   "source": [
    "nhead = 4\n",
    "d_model = 256\n",
    "dim_feedforward = 256\n",
    "cfg = TransformerClassifierConfig(\n",
    "        encoder_config=TransformerEncodersBlockConfig(\n",
    "            in_features = 5,\n",
    "            encoders_number = 2,\n",
    "            d_model = d_model,\n",
    "            nhead = nhead,\n",
    "            dim_feedforward = dim_feedforward,\n",
    "            dropout = 0.1,\n",
    "            layer_norm_eps = 0.00001,\n",
    "            activation = {\"LeakyReLU\": {\"negative_slope\": 0.1}}\n",
    "        ),\n",
    "        pooling_type=\"Average\",\n",
    "        dense_layers=[\n",
    "            DenseInput(\n",
    "                d_model*2, # *2 beacuse of concat with classification token \n",
    "                32,\n",
    "                activation = {'LeakyReLU': dict(negative_slope=0.1)},\n",
    "                dropout = 0.1,\n",
    "                do_norm = True\n",
    "                ),\n",
    "            \n",
    "            DenseInput(\n",
    "                32, \n",
    "                2,\n",
    "                activation = {'Softmax': {\"dim\": 1}},\n",
    "                dropout = 0.,\n",
    "                do_norm = False\n",
    "                ),\n",
    "        ]\n",
    "    )\n",
    "\n",
    "model = TransformerClassifier(cfg)\n",
    "count_parameters(model)"
   ]
  },
  {
   "cell_type": "code",
   "execution_count": 18,
   "metadata": {},
   "outputs": [
    {
     "data": {
      "text/plain": [
       "(tensor([[0.3897, 0.6103],\n",
       "         [0.3921, 0.6079]], grad_fn=<SoftmaxBackward0>),\n",
       " tensor([[0.3897, 0.6103],\n",
       "         [0.3921, 0.6079]], grad_fn=<SoftmaxBackward0>),\n",
       " tensor([[0.3897, 0.6103],\n",
       "         [0.3921, 0.6079]], grad_fn=<SoftmaxBackward0>))"
      ]
     },
     "execution_count": 18,
     "metadata": {},
     "output_type": "execute_result"
    }
   ],
   "source": [
    "# test\n",
    "data = torch.rand((2,9,5))\n",
    "mask = torch.ones((2,9,1))\n",
    "mask[:,7:,:] = 0.\n",
    "model.eval()\n",
    "model(data, mask=mask), model(data*mask, mask=mask), model(data[:,:7], mask=mask[:,:7])"
   ]
  },
  {
   "cell_type": "code",
   "execution_count": null,
   "metadata": {},
   "outputs": [],
   "source": []
  },
  {
   "cell_type": "code",
   "execution_count": 10,
   "metadata": {},
   "outputs": [],
   "source": [
    "name_for_model_arch = \"munusep_all_transformer\"\n",
    "# save_model_cfg(cfg, f\"/home/albert/Baikal-ML/nnetworks/models/configurations/{name_for_model_arch}.yaml\")"
   ]
  },
  {
   "cell_type": "code",
   "execution_count": 11,
   "metadata": {},
   "outputs": [
    {
     "data": {
      "text/plain": [
       "108681"
      ]
     },
     "execution_count": 11,
     "metadata": {},
     "output_type": "execute_result"
    }
   ],
   "source": [
    "loaded_model = model_from_yaml(TransformerClassifier, f\"/home/albert/Baikal-ML/nnetworks/models/configurations/{name_for_model_arch}.yaml\")\n",
    "count_parameters(loaded_model)"
   ]
  },
  {
   "cell_type": "markdown",
   "metadata": {},
   "source": [
    "## Test gpu memory usage"
   ]
  },
  {
   "cell_type": "code",
   "execution_count": 21,
   "metadata": {},
   "outputs": [],
   "source": [
    "device = torch.device(\"cuda:0\")\n",
    "loaded_model.to(device)\n",
    "_ = loaded_model(torch.rand((512,100,5)).to(device), torch.ones((512,100,1)).to(device))"
   ]
  },
  {
   "cell_type": "markdown",
   "metadata": {},
   "source": [
    "# LSTM based model"
   ]
  },
  {
   "cell_type": "code",
   "execution_count": null,
   "metadata": {},
   "outputs": [
    {
     "name": "stdout",
     "output_type": "stream",
     "text": [
      "40866\n"
     ]
    },
    {
     "data": {
      "text/plain": [
       "tensor([[0.4440, 0.5560],\n",
       "        [0.5806, 0.4194]], grad_fn=<SoftmaxBackward0>)"
      ]
     },
     "execution_count": 7,
     "metadata": {},
     "output_type": "execute_result"
    }
   ],
   "source": [
    "cfg = MuNuSepLstmConfig(\n",
    "        lstm_layers=[\n",
    "            LstmConfig(\n",
    "                5,\n",
    "                64,\n",
    "                1,\n",
    "                return_sequences=True,\n",
    "                dropout = 0.,\n",
    "                bidirectional=True,\n",
    "                norm = {\"MaskedBatchNorm1d\": None}\n",
    "            )\n",
    "        ],\n",
    "        pooling_type=\"Average\",\n",
    "        dense_layers=[\n",
    "            DenseInput(\n",
    "                (64)*2, \n",
    "                32,\n",
    "                activation = {'LeakyReLU': dict(negative_slope=0.1)},\n",
    "                dropout = 0.1,\n",
    "                do_norm = True\n",
    "                ),\n",
    "            \n",
    "            DenseInput(\n",
    "                32, \n",
    "                2,\n",
    "                activation = {'Softmax': {\"dim\": 1}},\n",
    "                dropout = 0.,\n",
    "                do_norm = False\n",
    "                ),\n",
    "        ]\n",
    "    )\n",
    "\n",
    "model = MuNuSepLstm(cfg)\n",
    "print(count_parameters(model))\n",
    "\n",
    "# test\n",
    "\n",
    "model(torch.rand(2,10,5))"
   ]
  },
  {
   "cell_type": "code",
   "execution_count": 18,
   "metadata": {},
   "outputs": [],
   "source": [
    "name_for_model_arch = \"munusep_all_rnn\"\n",
    "save_model_cfg(cfg, f\"/home/albert/Baikal-ML/nnetworks/models/configurations/{name_for_model_arch}.yaml\")"
   ]
  },
  {
   "cell_type": "code",
   "execution_count": 19,
   "metadata": {},
   "outputs": [
    {
     "data": {
      "text/plain": [
       "MuNuSepLstm(\n",
       "  (lstm_layers): ModuleList(\n",
       "    (0): LstmLayer(\n",
       "      (lstm_layer): LSTM(5, 64, batch_first=True, bidirectional=True)\n",
       "      (norm_layer): MaskedLayerNorm12()\n",
       "    )\n",
       "  )\n",
       "  (pooling): GlobalAveragePooling1DMasked()\n",
       "  (dense_layers): ModuleList(\n",
       "    (0): DenseBlock(\n",
       "      (dropout_layer): Dropout(p=0.1, inplace=False)\n",
       "      (dense_layer): Linear(in_features=128, out_features=32, bias=True)\n",
       "      (activation): LeakyReLU(negative_slope=0.1)\n",
       "      (norm1d): BatchNorm1d(32, eps=1e-05, momentum=0.1, affine=True, track_running_stats=True)\n",
       "    )\n",
       "    (1): DenseBlock(\n",
       "      (dropout_layer): Dropout(p=0.0, inplace=False)\n",
       "      (dense_layer): Linear(in_features=32, out_features=2, bias=True)\n",
       "      (activation): Softmax(dim=1)\n",
       "    )\n",
       "  )\n",
       ")"
      ]
     },
     "execution_count": 19,
     "metadata": {},
     "output_type": "execute_result"
    }
   ],
   "source": [
    "model_from_yaml(MuNuSepLstm, f\"/home/albert/Baikal-ML/nnetworks/models/configurations/{name_for_model_arch}.yaml\")"
   ]
  },
  {
   "cell_type": "markdown",
   "metadata": {},
   "source": [
    "# ResNet Based model"
   ]
  },
  {
   "cell_type": "code",
   "execution_count": 4,
   "metadata": {},
   "outputs": [
    {
     "name": "stdout",
     "output_type": "stream",
     "text": [
      "38050\n"
     ]
    },
    {
     "data": {
      "text/plain": [
       "tensor([[0.7440, 0.2560],\n",
       "        [0.3371, 0.6629],\n",
       "        [0.3133, 0.6867]], grad_fn=<SoftmaxBackward0>)"
      ]
     },
     "execution_count": 4,
     "metadata": {},
     "output_type": "execute_result"
    }
   ],
   "source": [
    "# Tiny ResNet\n",
    "cfg = MuNuSepResNetConfig(\n",
    "        res_blocks = [\n",
    "            ResBlockConfig(\n",
    "                id = MaskedConv1DConfig(\n",
    "                        in_channels = 5,\n",
    "                        out_channels = 64,\n",
    "                        kernel_size = 3,\n",
    "                        strides = 1,\n",
    "                        activation = {\"LeakyReLU\": {\"negative_slope\": 0.1}},\n",
    "                        dropout = 0.1,\n",
    "                        norm = {\"LayerNorm\": None}\n",
    "                    ),\n",
    "                cd = MaskedConv1DConfig(\n",
    "                        in_channels = 64,\n",
    "                        out_channels = 128,\n",
    "                        kernel_size = 3,\n",
    "                        strides = 2,\n",
    "                        activation = {\"LeakyReLU\": {\"negative_slope\": 0.1}},\n",
    "                        dropout = 0.1,\n",
    "                        norm = {\"LayerNorm\": None}\n",
    "                    ),\n",
    "                skip = MaskedConv1DConfig(\n",
    "                        in_channels = 5,\n",
    "                        out_channels = 128,\n",
    "                        kernel_size = 5,\n",
    "                        strides = 2,\n",
    "                        activation = {\"LeakyReLU\": {\"negative_slope\": 0.1}},\n",
    "                        dropout = 0.1,\n",
    "                        norm = {\"LayerNorm\": None}\n",
    "                )\n",
    "            )\n",
    "        ],\n",
    "        pooling_type = \"Average\",\n",
    "        dense_layers = [\n",
    "            DenseInput(\n",
    "                in_features = 256, \n",
    "                units = 32,\n",
    "                activation = {'ReLU': None},\n",
    "                dropout = 0.1,\n",
    "                do_norm = True\n",
    "                ),\n",
    "            DenseInput(\n",
    "                in_features = 32, \n",
    "                units = 2,\n",
    "                activation = {'Softmax': {\"dim\": 1}},\n",
    "                do_norm = False,\n",
    "                dropout = 0.\n",
    "                ),\n",
    "        ]\n",
    "    )\n",
    "\n",
    "model = MuNuSepResNet(cfg)\n",
    "\n",
    "def count_parameters(model):\n",
    "    return sum(p.numel() for p in model.parameters() if p.requires_grad)\n",
    "print(count_parameters(model))\n",
    "\n",
    "# test\n",
    "model(torch.rand((3,10, 5)), torch.ones((3,10,1)))"
   ]
  },
  {
   "cell_type": "code",
   "execution_count": 11,
   "metadata": {},
   "outputs": [],
   "source": [
    "name_for_model_arch = \"munusep_all_resnet\"\n",
    "#save_model_cfg(cfg, f\"/home/albert/Baikal-ML/nnetworks/models/configurations/{name_for_model_arch}.yaml\")"
   ]
  },
  {
   "cell_type": "code",
   "execution_count": 13,
   "metadata": {},
   "outputs": [
    {
     "data": {
      "text/plain": [
       "637090"
      ]
     },
     "execution_count": 13,
     "metadata": {},
     "output_type": "execute_result"
    }
   ],
   "source": [
    "loaded_model = model_from_yaml(MuNuSepResNet, f\"/home/albert/Baikal-ML/nnetworks/models/configurations/{name_for_model_arch}.yaml\")\n",
    "count_parameters(loaded_model)"
   ]
  },
  {
   "cell_type": "code",
   "execution_count": 14,
   "metadata": {},
   "outputs": [],
   "source": [
    "device = torch.device(\"cuda:0\")\n",
    "loaded_model.to(device)\n",
    "_ = loaded_model(torch.rand((512,100,5)).to(device), torch.ones((512,100,1)).to(device))"
   ]
  },
  {
   "cell_type": "code",
   "execution_count": null,
   "metadata": {},
   "outputs": [],
   "source": []
  },
  {
   "cell_type": "code",
   "execution_count": 20,
   "metadata": {},
   "outputs": [],
   "source": [
    "import numpy as np"
   ]
  },
  {
   "cell_type": "code",
   "execution_count": 24,
   "metadata": {},
   "outputs": [
    {
     "data": {
      "text/plain": [
       "array([0, 1, 2, 3, 4, 5, 6, 7, 8, 9])"
      ]
     },
     "execution_count": 24,
     "metadata": {},
     "output_type": "execute_result"
    }
   ],
   "source": [
    "np.arange(10)[(torch.ones(10)==1).numpy()]"
   ]
  },
  {
   "cell_type": "code",
   "execution_count": null,
   "metadata": {},
   "outputs": [],
   "source": []
  }
 ],
 "metadata": {
  "kernelspec": {
   "display_name": "Python 3",
   "language": "python",
   "name": "python3"
  },
  "language_info": {
   "codemirror_mode": {
    "name": "ipython",
    "version": 3
   },
   "file_extension": ".py",
   "mimetype": "text/x-python",
   "name": "python",
   "nbconvert_exporter": "python",
   "pygments_lexer": "ipython3",
   "version": "3.10.13"
  }
 },
 "nbformat": 4,
 "nbformat_minor": 2
}
