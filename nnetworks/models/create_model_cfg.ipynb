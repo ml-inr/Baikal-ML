{
 "cells": [
  {
   "cell_type": "code",
   "execution_count": 1,
   "metadata": {},
   "outputs": [],
   "source": [
    "import os\n",
    "import sys\n",
    "PROJECT_PATH = \"/home/albert/Baikal-ML/\" #insert your project path\n",
    "sys.path.append(f\"{PROJECT_PATH}\")"
   ]
  },
  {
   "cell_type": "code",
   "execution_count": 2,
   "metadata": {},
   "outputs": [],
   "source": [
    "from nnetworks.layers.config import LstmConfig, DenseInput, MaskedConv1DConfig, ResBlockConfig\n",
    "from nnetworks.models.config import MuNuSepLstmConfig, MuNuSepResNetConfig\n",
    "from nnetworks.models.munusep_lstm import MuNuSepLstm\n",
    "from nnetworks.models.munusep_resnet import MuNuSepResNet\n",
    "\n",
    "from nnetworks.models.config_manager import save_model_cfg, model_from_yaml"
   ]
  },
  {
   "cell_type": "markdown",
   "metadata": {},
   "source": [
    "# LSTM based model"
   ]
  },
  {
   "cell_type": "code",
   "execution_count": 3,
   "metadata": {},
   "outputs": [
    {
     "data": {
      "text/plain": [
       "542882"
      ]
     },
     "execution_count": 3,
     "metadata": {},
     "output_type": "execute_result"
    }
   ],
   "source": [
    "cfg = MuNuSepLstmConfig(\n",
    "        [\n",
    "            LstmConfig(\n",
    "                5,\n",
    "                128,\n",
    "                1,\n",
    "                True,\n",
    "                dropout = 0\n",
    "            ),\n",
    "            LstmConfig(\n",
    "                256,\n",
    "                128,\n",
    "                1,\n",
    "                False,\n",
    "                dropout = 0\n",
    "            )\n",
    "        ],\n",
    "        [   \n",
    "            DenseInput(\n",
    "                256, \n",
    "                32,\n",
    "                activation = {'ReLU': None},\n",
    "                do_norm = True\n",
    "                ),\n",
    "            \n",
    "            DenseInput(\n",
    "                32, \n",
    "                2,\n",
    "                activation = {'Softmax': {\"dim\": 1}},\n",
    "                do_norm = False\n",
    "                ),\n",
    "        ]\n",
    "    )\n",
    "\n",
    "model = MuNuSepLstm(cfg)\n",
    "def count_parameters(model):\n",
    "    return sum(p.numel() for p in model.parameters() if p.requires_grad)\n",
    "count_parameters(model)"
   ]
  },
  {
   "cell_type": "code",
   "execution_count": 5,
   "metadata": {},
   "outputs": [],
   "source": [
    "name_for_model_arch = \"munusep_all_rnn\"\n",
    "# save_model_cfg(cfg, f\"/home/albert/Baikal-ML/nnetworks/models/configurations/{name_for_model_arch}.yaml\")"
   ]
  },
  {
   "cell_type": "code",
   "execution_count": 6,
   "metadata": {},
   "outputs": [
    {
     "data": {
      "text/plain": [
       "MuNuSepLstm(\n",
       "  (lstm_layers): ModuleList(\n",
       "    (0): LstmLayer(\n",
       "      (lstm_layer): LSTM(5, 128, batch_first=True, bidirectional=True)\n",
       "      (norm_layer): MaskedLayerNorm1D()\n",
       "    )\n",
       "    (1): LstmLayer(\n",
       "      (lstm_layer): LSTM(256, 128, batch_first=True, bidirectional=True)\n",
       "      (norm_layer): LayerNorm((256,), eps=1e-05, elementwise_affine=True)\n",
       "    )\n",
       "  )\n",
       "  (dense_layers): ModuleList(\n",
       "    (0): DenseBlock(\n",
       "      (dropout_layer): Dropout(p=0.2, inplace=False)\n",
       "      (dense_layer): Linear(in_features=256, out_features=32, bias=True)\n",
       "      (activation): ReLU()\n",
       "      (norm1d): BatchNorm1d(32, eps=1e-05, momentum=0.1, affine=True, track_running_stats=True)\n",
       "    )\n",
       "    (1): DenseBlock(\n",
       "      (dropout_layer): Dropout(p=0.2, inplace=False)\n",
       "      (dense_layer): Linear(in_features=32, out_features=2, bias=True)\n",
       "      (activation): Softmax(dim=1)\n",
       "    )\n",
       "  )\n",
       ")"
      ]
     },
     "execution_count": 6,
     "metadata": {},
     "output_type": "execute_result"
    }
   ],
   "source": [
    "model_from_yaml(MuNuSepLstm, f\"/home/albert/Baikal-ML/nnetworks/models/configurations/{name_for_model_arch}.yaml\")"
   ]
  },
  {
   "cell_type": "markdown",
   "metadata": {},
   "source": [
    "# ResNet Based model"
   ]
  },
  {
   "cell_type": "code",
   "execution_count": null,
   "metadata": {},
   "outputs": [],
   "source": [
    "cfg = MuNuSepResNetConfig(\n",
    "        res_blocks = [\n",
    "            ResBlockConfig(\n",
    "                id = MaskedConv1DConfig(\n",
    "                        in_channels = 5,\n",
    "                        out_channels = 64,\n",
    "                        kernel_size = 16,\n",
    "                        strides = 1,\n",
    "                        activation = {\"LeakyReLU\": {\"negative_slope\": 0.1}},\n",
    "                        dropout = 0.1,\n",
    "                        do_batch_norm = True\n",
    "                    ),\n",
    "                cd = MaskedConv1DConfig(\n",
    "                        in_channels = 64,\n",
    "                        out_channels = 64,\n",
    "                        kernel_size = 16,\n",
    "                        strides = 2,\n",
    "                        activation = {\"LeakyReLU\": {\"negative_slope\": 0.1}},\n",
    "                        dropout = 0.1,\n",
    "                        do_batch_norm = True\n",
    "                    \n",
    "                    ),\n",
    "                skip = MaskedConv1DConfig(\n",
    "                        in_channels = 5,\n",
    "                        out_channels = 64,\n",
    "                        kernel_size = 32,\n",
    "                        strides = 2,\n",
    "                        activation = {\"LeakyReLU\": {\"negative_slope\": 0.1}},\n",
    "                        dropout = 0.1,\n",
    "                        do_batch_norm = True\n",
    "                )\n",
    "            ),\n",
    "            ResBlockConfig(\n",
    "                id = MaskedConv1DConfig(\n",
    "                        in_channels = 128,\n",
    "                        out_channels = 128,\n",
    "                        kernel_size = 8,\n",
    "                        strides = 1,\n",
    "                        activation = {\"LeakyReLU\": {\"negative_slope\": 0.1}},\n",
    "                        dropout = 0.1,\n",
    "                        do_batch_norm = True\n",
    "                    ),\n",
    "                cd = MaskedConv1DConfig(\n",
    "                        in_channels = 128,\n",
    "                        out_channels = 128,\n",
    "                        kernel_size = 8,\n",
    "                        strides = 2,\n",
    "                        activation = {\"LeakyReLU\": {\"negative_slope\": 0.1}},\n",
    "                        dropout = 0.1,\n",
    "                        do_batch_norm = True\n",
    "                    \n",
    "                    ),\n",
    "                skip = MaskedConv1DConfig(\n",
    "                        in_channels = 128,\n",
    "                        out_channels = 128,\n",
    "                        kernel_size = 16,\n",
    "                        strides = 2,\n",
    "                        activation = {\"LeakyReLU\": {\"negative_slope\": 0.1}},\n",
    "                        dropout = 0.1,\n",
    "                        do_batch_norm = True\n",
    "                )\n",
    "            ),\n",
    "        ],\n",
    "        pooling_type = \"Average\",\n",
    "        dense_layers = [\n",
    "            DenseInput(\n",
    "                in_features = 256, \n",
    "                units = 128,\n",
    "                activation = {'ReLU': None},\n",
    "                dropout = 0.2,\n",
    "                do_norm = True\n",
    "                ),\n",
    "            DenseInput(\n",
    "                in_features = 128, \n",
    "                units = 32,\n",
    "                activation = {'ReLU': None},\n",
    "                dropout = 0.2,\n",
    "                do_norm = True\n",
    "                ),\n",
    "            DenseInput(\n",
    "                in_features = 32, \n",
    "                units = 2,\n",
    "                activation = {'Softmax': {\"dim\": 1}},\n",
    "                do_norm = False\n",
    "                ),\n",
    "        ]\n",
    "    )\n",
    "\n",
    "import torch\n",
    "\n",
    "model = MuNuSepResNet(cfg)\n",
    "\n",
    "def count_parameters(model):\n",
    "    return sum(p.numel() for p in model.parameters() if p.requires_grad)\n",
    "count_parameters(model)\n",
    "\n",
    "# test\n",
    "model(torch.rand((3,5,10)), torch.ones((3,1,10)))"
   ]
  },
  {
   "cell_type": "code",
   "execution_count": 10,
   "metadata": {},
   "outputs": [],
   "source": [
    "name_for_model_arch = \"munusep_all_resnet\"\n",
    "save_model_cfg(cfg, f\"/home/albert/Baikal-ML/nnetworks/models/configurations/{name_for_model_arch}.yaml\")"
   ]
  }
 ],
 "metadata": {
  "kernelspec": {
   "display_name": "Python 3",
   "language": "python",
   "name": "python3"
  },
  "language_info": {
   "codemirror_mode": {
    "name": "ipython",
    "version": 3
   },
   "file_extension": ".py",
   "mimetype": "text/x-python",
   "name": "python",
   "nbconvert_exporter": "python",
   "pygments_lexer": "ipython3",
   "version": "3.10.13"
  }
 },
 "nbformat": 4,
 "nbformat_minor": 2
}
