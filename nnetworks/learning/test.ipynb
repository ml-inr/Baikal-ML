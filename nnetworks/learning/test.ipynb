{
 "cells": [
  {
   "cell_type": "code",
   "execution_count": 1,
   "metadata": {},
   "outputs": [],
   "source": [
    "import sys\n",
    "PROJECT_PATH = \"/home/albert/Baikal-ML/\" #insert your project path\n",
    "sys.path.append(f\"{PROJECT_PATH}\")"
   ]
  },
  {
   "cell_type": "code",
   "execution_count": 2,
   "metadata": {},
   "outputs": [
    {
     "name": "stderr",
     "output_type": "stream",
     "text": [
      "2024-11-03 15:58:32,375 - INFO - Shuffled all file paths. Total paths: 40\n",
      "2024-11-03 15:58:32,376 - INFO - Shuffled all file paths. Total paths: 10\n"
     ]
    }
   ],
   "source": [
    "import data.config_manager as cfgm\n",
    "from data.batch_generator import BatchGenerator\n",
    "from nnetworks.models.config_manager import model_from_yaml\n",
    "from nnetworks.models.munusep_resnet import MuNuSepResNet\n",
    "from nnetworks.learning.trainers import MuNuSepTrainer\n",
    "from nnetworks.learning.config import TrainerConfig\n",
    "\n",
    "# data\n",
    "name_of_dataset = \"numusep_signal_small\"\n",
    "train_paths = cfgm.read_paths(f\"/home/albert/Baikal-ML/data/configurations/{name_of_dataset}/train_paths.csv\")\n",
    "train_paths = train_paths[0:20] + train_paths[-20:]\n",
    "test_paths = cfgm.read_paths(f\"/home/albert/Baikal-ML/data/configurations/{name_of_dataset}/test_paths.csv\")\n",
    "test_paths = test_paths[0:5] + test_paths[-5:]\n",
    "cfg = cfgm.load_cfg(f\"/home/albert/Baikal-ML/data/configurations/{name_of_dataset}/cfg.yaml\")\n",
    "train_gen, test_gen = BatchGenerator(train_paths, cfg), BatchGenerator(test_paths, cfg)\n",
    "\n",
    "# model\n",
    "model = model_from_yaml(MuNuSepResNet, \"/home/albert/Baikal-ML/nnetworks/models/configurations/munusep_resnet.yaml\")\n",
    "\n",
    "# trainer\n",
    "fitter = MuNuSepTrainer(model, train_gen, test_gen, TrainerConfig())"
   ]
  },
  {
   "cell_type": "code",
   "execution_count": 3,
   "metadata": {},
   "outputs": [
    {
     "name": "stdout",
     "output_type": "stream",
     "text": [
      "Epoch 1/3\n"
     ]
    },
    {
     "name": "stderr",
     "output_type": "stream",
     "text": [
      "2024-11-03 15:58:51,265 - INFO - #0 chunk loaded.\n"
     ]
    },
    {
     "name": "stdout",
     "output_type": "stream",
     "text": [
      "Train Loss FocalLoss: 0.05767115205526352 (Epoch 0, Total steps 0)\n",
      "Train Loss FocalLoss: 0.0311407981495751 (Epoch 0, Total steps 100)\n",
      "Train Loss FocalLoss: 0.028059162199497223 (Epoch 0, Total steps 200)\n",
      "Train Loss FocalLoss: 0.028152212187057674 (Epoch 0, Total steps 300)\n",
      "Train Loss FocalLoss: 0.02731361857956589 (Epoch 0, Total steps 400)\n",
      "Train Metrics Accuracy: 0.949 (Epoch 0, Total steps 500)\n",
      "Train Metrics Precision: 0.9393725884918638 (Epoch 0, Total steps 500)\n",
      "Train Metrics Recall: 0.9505347139704634 (Epoch 0, Total steps 500)\n",
      "Train Metrics TPR: 0.9505347139704634 (Epoch 0, Total steps 500)\n",
      "Train Metrics FPR: 0.052308583007671154 (Epoch 0, Total steps 500)\n",
      "Train Metrics AUC: 0.9874135857964289 (Epoch 0, Total steps 500)\n"
     ]
    },
    {
     "name": "stderr",
     "output_type": "stream",
     "text": [
      "2024-11-03 15:59:31,428 - INFO - #0 chunk loaded.\n",
      "2024-11-03 15:59:56,754 - INFO - Shuffled all file paths. Total paths: 10\n"
     ]
    },
    {
     "name": "stdout",
     "output_type": "stream",
     "text": [
      "Test Metrics Accuracy: 0.9280973215238502 (Epoch 0, Total steps 500)\n",
      "Test Metrics Precision: 0.989937440521693 (Epoch 0, Total steps 500)\n",
      "Test Metrics Recall: 0.8702342421416425 (Epoch 0, Total steps 500)\n",
      "Test Metrics TPR: 0.8702342421416425 (Epoch 0, Total steps 500)\n",
      "Test Metrics FPR: 0.00953450900974146 (Epoch 0, Total steps 500)\n",
      "Test Metrics AUC: 0.9907672784828407 (Epoch 0, Total steps 500)\n",
      "Checkpoint saved: /home/albert/Baikal-ML/experiments/testing/epoch_1.pt\n",
      "Epoch 2/3\n",
      "Train Loss FocalLoss: 0.026102758944034576 (Epoch 1, Total steps 500)\n",
      "Train Loss FocalLoss: 0.02714876166664728 (Epoch 1, Total steps 600)\n",
      "Train Loss FocalLoss: 0.027166099997587723 (Epoch 1, Total steps 700)\n",
      "Train Loss FocalLoss: 0.026928376572409478 (Epoch 1, Total steps 800)\n",
      "Train Loss FocalLoss: 0.02679941080289312 (Epoch 1, Total steps 900)\n",
      "Train Metrics Accuracy: 0.966 (Epoch 1, Total steps 1000)\n",
      "Train Metrics Precision: 0.959729843815956 (Epoch 1, Total steps 1000)\n",
      "Train Metrics Recall: 0.9665516009998809 (Epoch 1, Total steps 1000)\n",
      "Train Metrics TPR: 0.9665516009998809 (Epoch 1, Total steps 1000)\n",
      "Train Metrics FPR: 0.03446880464786901 (Epoch 1, Total steps 1000)\n",
      "Train Metrics AUC: 0.9935818266654202 (Epoch 1, Total steps 1000)\n"
     ]
    },
    {
     "name": "stderr",
     "output_type": "stream",
     "text": [
      "2024-11-03 16:00:35,083 - INFO - #0 chunk loaded.\n",
      "2024-11-03 16:01:00,073 - INFO - Shuffled all file paths. Total paths: 10\n"
     ]
    },
    {
     "name": "stdout",
     "output_type": "stream",
     "text": [
      "Test Metrics Accuracy: 0.9543627503290293 (Epoch 1, Total steps 1000)\n",
      "Test Metrics Precision: 0.9882384035945553 (Epoch 1, Total steps 1000)\n",
      "Test Metrics Recall: 0.923007296066707 (Epoch 1, Total steps 1000)\n",
      "Test Metrics TPR: 0.923007296066707 (Epoch 1, Total steps 1000)\n",
      "Test Metrics FPR: 0.011840529793492883 (Epoch 1, Total steps 1000)\n",
      "Test Metrics AUC: 0.9957473443636045 (Epoch 1, Total steps 1000)\n",
      "Checkpoint saved: /home/albert/Baikal-ML/experiments/testing/epoch_2.pt\n",
      "Epoch 3/3\n",
      "Train Loss FocalLoss: 0.025655493140220642 (Epoch 2, Total steps 1000)\n",
      "Train Loss FocalLoss: 0.02685907448061032 (Epoch 2, Total steps 1100)\n",
      "Train Loss FocalLoss: 0.02694598825113608 (Epoch 2, Total steps 1200)\n"
     ]
    },
    {
     "name": "stderr",
     "output_type": "stream",
     "text": [
      "2024-11-03 16:01:25,524 - INFO - #1 chunk loaded.\n"
     ]
    },
    {
     "name": "stdout",
     "output_type": "stream",
     "text": [
      "Train Loss FocalLoss: 0.027086622588852846 (Epoch 2, Total steps 1300)\n",
      "Train Loss FocalLoss: 0.026781325293059398 (Epoch 2, Total steps 1400)\n",
      "Train Metrics Accuracy: 0.9677656709875384 (Epoch 2, Total steps 1500)\n",
      "Train Metrics Precision: 0.9626240996690676 (Epoch 2, Total steps 1500)\n",
      "Train Metrics Recall: 0.9703371815416817 (Epoch 2, Total steps 1500)\n",
      "Train Metrics TPR: 0.9703371815416817 (Epoch 2, Total steps 1500)\n",
      "Train Metrics FPR: 0.034595633502507585 (Epoch 2, Total steps 1500)\n",
      "Train Metrics AUC: 0.993758810807234 (Epoch 2, Total steps 1500)\n"
     ]
    },
    {
     "name": "stderr",
     "output_type": "stream",
     "text": [
      "2024-11-03 16:01:44,531 - INFO - #0 chunk loaded.\n",
      "2024-11-03 16:02:09,729 - INFO - Shuffled all file paths. Total paths: 10\n"
     ]
    },
    {
     "name": "stdout",
     "output_type": "stream",
     "text": [
      "Test Metrics Accuracy: 0.969380713548892 (Epoch 2, Total steps 1500)\n",
      "Test Metrics Precision: 0.9782390498229571 (Epoch 2, Total steps 1500)\n",
      "Test Metrics Recall: 0.9623813703439574 (Epoch 2, Total steps 1500)\n",
      "Test Metrics TPR: 0.9623813703439574 (Epoch 2, Total steps 1500)\n",
      "Test Metrics FPR: 0.023074990022025454 (Epoch 2, Total steps 1500)\n",
      "Test Metrics AUC: 0.9961548751779535 (Epoch 2, Total steps 1500)\n",
      "Checkpoint saved: /home/albert/Baikal-ML/experiments/testing/epoch_3.pt\n",
      "Training completed.\n"
     ]
    }
   ],
   "source": [
    "fitter.train()"
   ]
  },
  {
   "cell_type": "code",
   "execution_count": null,
   "metadata": {},
   "outputs": [],
   "source": [
    "from nnetworks.learning.config_manager import save_cfg\n",
    "save_cfg(TrainerConfig(), \"./configurations/munusep_basic.yaml\")"
   ]
  },
  {
   "cell_type": "code",
   "execution_count": 5,
   "metadata": {},
   "outputs": [
    {
     "name": "stdout",
     "output_type": "stream",
     "text": [
      "tensor([[[0.0885, 0.3427],\n",
      "         [0.2025, 0.4914]]])\n"
     ]
    },
    {
     "data": {
      "text/plain": [
       "tensor([[[0.0885],\n",
       "         [0.3427]],\n",
       "\n",
       "        [[0.2025],\n",
       "         [0.4914]]])"
      ]
     },
     "execution_count": 5,
     "metadata": {},
     "output_type": "execute_result"
    }
   ],
   "source": [
    "import torch\n",
    "t = torch.rand((1,2,2))\n",
    "print(t)\n",
    "t.permute((1,2,0))"
   ]
  },
  {
   "cell_type": "code",
   "execution_count": 13,
   "metadata": {},
   "outputs": [
    {
     "data": {
      "text/plain": [
       "tensor([1., 1., 1., 1., 1.])"
      ]
     },
     "execution_count": 13,
     "metadata": {},
     "output_type": "execute_result"
    }
   ],
   "source": [
    "(torch.zeros((1,5,1))[0,:,0] + torch.ones((5)))"
   ]
  },
  {
   "cell_type": "code",
   "execution_count": 10,
   "metadata": {},
   "outputs": [
    {
     "data": {
      "text/plain": [
       "tensor([[[1.],\n",
       "         [1.],\n",
       "         [1.],\n",
       "         [1.],\n",
       "         [1.]]])"
      ]
     },
     "execution_count": 10,
     "metadata": {},
     "output_type": "execute_result"
    }
   ],
   "source": [
    "torch.ones((5)).view(1, -1, 1)"
   ]
  },
  {
   "cell_type": "code",
   "execution_count": null,
   "metadata": {},
   "outputs": [],
   "source": []
  }
 ],
 "metadata": {
  "kernelspec": {
   "display_name": "Python 3",
   "language": "python",
   "name": "python3"
  },
  "language_info": {
   "codemirror_mode": {
    "name": "ipython",
    "version": 3
   },
   "file_extension": ".py",
   "mimetype": "text/x-python",
   "name": "python",
   "nbconvert_exporter": "python",
   "pygments_lexer": "ipython3",
   "version": "3.10.13"
  }
 },
 "nbformat": 4,
 "nbformat_minor": 2
}
