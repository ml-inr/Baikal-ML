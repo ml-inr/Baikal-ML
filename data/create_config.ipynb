{
 "cells": [
  {
   "cell_type": "code",
   "execution_count": 1,
   "metadata": {},
   "outputs": [],
   "source": [
    "import os\n",
    "import csv"
   ]
  },
  {
   "cell_type": "code",
   "execution_count": 2,
   "metadata": {},
   "outputs": [],
   "source": [
    "from root_manager.settings import FilterParams, ProcessorConfig, ChunkGeneratorConfig\n",
    "from settings import BatchGeneratorConfig, NormParams, AugmentParams\n",
    "from ustils_for_stats import StatsCollector\n",
    "import config_manager as cfgm"
   ]
  },
  {
   "cell_type": "markdown",
   "metadata": {},
   "source": [
    "## Choose paths and their proportion to create dataset"
   ]
  },
  {
   "cell_type": "code",
   "execution_count": 3,
   "metadata": {},
   "outputs": [],
   "source": [
    "path_mu = \"/net/62/home3/ivkhar/Baikal/data/initial_data/MC_2020/muatm/root/all/\"\n",
    "path_nuatm = \"/net/62/home3/ivkhar/Baikal/data/initial_data/MC_2020/nuatm/root/all/\"\n",
    "path_nu2 = \"/net/62/home3/ivkhar/Baikal/data/initial_data/MC_2020/nue2_100pev/root/all/\"\n",
    "def explore_paths(p: str, start: int, stop: int):\n",
    "    files = sorted(os.listdir(p))[start:stop]\n",
    "    return [f\"{p}{file}\" for file in files]"
   ]
  },
  {
   "cell_type": "code",
   "execution_count": 14,
   "metadata": {},
   "outputs": [
    {
     "data": {
      "text/plain": [
       "20004"
      ]
     },
     "execution_count": 14,
     "metadata": {},
     "output_type": "execute_result"
    }
   ],
   "source": [
    "mu_files = os.listdir(path_mu)\n",
    "len(mu_files)"
   ]
  },
  {
   "cell_type": "code",
   "execution_count": 21,
   "metadata": {},
   "outputs": [],
   "source": [
    "# Read train paths\n",
    "mu_paths = explore_paths(path_mu, 0, 110)\n",
    "nuatm_paths = explore_paths(path_nuatm, 0, 85)\n",
    "nu2_paths = explore_paths(path_nu2, 0, 15)\n",
    "\n",
    "train_paths = mu_paths + nuatm_paths + nu2_paths"
   ]
  },
  {
   "cell_type": "markdown",
   "metadata": {},
   "source": [
    "## Choose processing settings"
   ]
  },
  {
   "cell_type": "code",
   "execution_count": 22,
   "metadata": {},
   "outputs": [],
   "source": [
    "proc_cfg = ProcessorConfig(\n",
    "    center_times= True, \n",
    "    calc_tres = False, \n",
    "    filter_cfg = FilterParams(\n",
    "        only_signal = False,\n",
    "        min_hits = 0,\n",
    "        min_strings = 0,\n",
    "        min_Q = 0,\n",
    "        t_threshold = 100000\n",
    "    )\n",
    ")"
   ]
  },
  {
   "cell_type": "markdown",
   "metadata": {},
   "source": [
    "## Collect stats of processed events to adjust proportion of files"
   ]
  },
  {
   "cell_type": "code",
   "execution_count": 23,
   "metadata": {},
   "outputs": [],
   "source": [
    "stats = StatsCollector(mu_paths, nuatm_paths, nu2_paths, proc_cfg)"
   ]
  },
  {
   "cell_type": "code",
   "execution_count": 24,
   "metadata": {},
   "outputs": [],
   "source": [
    "stats.get_stats(0, 10)\n",
    "stats_dict = stats.return_stats()"
   ]
  },
  {
   "cell_type": "code",
   "execution_count": 25,
   "metadata": {},
   "outputs": [
    {
     "data": {
      "text/plain": [
       "{'proc_cfg': ProcessorConfig(center_times=True, calc_tres=False, filter_cfg=FilterParams(only_signal=False, min_hits=0, min_strings=0, min_Q=0, t_threshold=100000)),\n",
       " 'mu_num_estimated': 3595427.0,\n",
       " 'nuatm_num_estimated': 3357789.0,\n",
       " 'nu2_num_estimated': 349810.5,\n",
       " 'mu_filter_koef': 1.0169630217327048,\n",
       " 'nuatm_filter_koef': 1.0042990468878308,\n",
       " 'nu2_filter_koef': 1.0929750807286907,\n",
       " 'mu_nu_ratio': 0.9697452489137514,\n",
       " 'nuatm_nu2_ratio': 9.598879965009626,\n",
       " 'Q_mean': 1.6307861845694616,\n",
       " 'Q_std': 41.172829510175546,\n",
       " 't_mean': 1.0548509105373332e-07,\n",
       " 't_std': 1371.8097639882328}"
      ]
     },
     "execution_count": 25,
     "metadata": {},
     "output_type": "execute_result"
    }
   ],
   "source": [
    "stats_dict"
   ]
  },
  {
   "cell_type": "markdown",
   "metadata": {},
   "source": [
    "## Create final config of batch generator"
   ]
  },
  {
   "cell_type": "code",
   "execution_count": 27,
   "metadata": {},
   "outputs": [],
   "source": [
    "cfg = BatchGeneratorConfig(\n",
    "    chunk_generator_cfg=ChunkGeneratorConfig(\n",
    "            chunk_size = 25,\n",
    "            processor_params = proc_cfg,\n",
    "            fields = ['PulsesAmpl', 'PulsesTime', 'Xrel', 'Yrel', 'Zrel', 'nu_induced'],\n",
    "            shuffle_paths = True\n",
    "        ),\n",
    "    batch_size = 256,\n",
    "    features_name = [\"PulsesAmpl\", \"PulsesTime\", \"Xrel\", \"Yrel\", \"Zrel\"],\n",
    "    labels_name = [\"nu_induced\"],\n",
    "    do_norm = True,\n",
    "    norm_params = NormParams(\n",
    "        PulsesTime = [0, 1372.],\n",
    "        PulsesAmpl = [1.6, 41.2],\n",
    "        Xrel = [0, 60],\n",
    "        Yrel = [0, 60],\n",
    "        Zrel = [0, 260]\n",
    "        ),\n",
    "    do_augment = True,\n",
    "    augment_params = AugmentParams(\n",
    "        PulsesTime = 5,\n",
    "        PulsesAmpl = 0.1,\n",
    "        Xrel = 2,\n",
    "        Yrel = 2,\n",
    "        Zrel = 5\n",
    "        ),\n",
    "    shuffle = True\n",
    ")"
   ]
  },
  {
   "cell_type": "markdown",
   "metadata": {},
   "source": [
    "## Choose files assuming got stats"
   ]
  },
  {
   "cell_type": "code",
   "execution_count": 28,
   "metadata": {},
   "outputs": [],
   "source": [
    "# SMALL\n",
    "# Read train paths\n",
    "mu_paths = explore_paths(path_mu, 0, 55)\n",
    "nuatm_paths = explore_paths(path_nuatm, 0, 44)\n",
    "nu2_paths = explore_paths(path_nu2, 0, 7)\n",
    "\n",
    "train_paths = mu_paths + nuatm_paths + nu2_paths\n",
    "\n",
    "# Read test paths\n",
    "test_mu_paths = explore_paths(path_mu, 55, 55+8)\n",
    "test_nuatm_paths = explore_paths(path_nuatm, 44, 44+6)\n",
    "test_nu2_paths = explore_paths(path_nu2, 7, 7+1)\n",
    "\n",
    "test_paths = test_mu_paths + test_nuatm_paths + test_nu2_paths\n",
    "\n",
    "# Read val paths\n",
    "val_mu_paths = explore_paths(path_mu, 55+8, None)\n",
    "val_nuatm_paths = explore_paths(path_nuatm, 44+6, None)\n",
    "val_nu2_paths = explore_paths(path_nu2, 7+1, None)\n",
    "\n",
    "val_paths = val_mu_paths + val_nuatm_paths + val_nu2_paths\n",
    "\n",
    "# # # BIG\n",
    "# # # Read train paths\n",
    "# mu_paths = explore_paths(path_mu, 0, 800)\n",
    "# nuatm_paths = explore_paths(path_nuatm, 0, 1000)\n",
    "# nu2_paths = explore_paths(path_nu2, 0, 60)\n",
    "\n",
    "# train_paths = mu_paths + nuatm_paths + nu2_paths\n",
    "\n",
    "# # Read test paths\n",
    "# test_mu_paths = explore_paths(path_mu, 800, 800+40)\n",
    "# test_nuatm_paths = explore_paths(path_nuatm, 1000, 1000+50)\n",
    "# test_nu2_paths = explore_paths(path_nu2, 60, 60+3)\n",
    "\n",
    "# test_paths = test_mu_paths + test_nuatm_paths + test_nu2_paths\n",
    "\n",
    "# # Read val paths\n",
    "# val_mu_paths = explore_paths(path_mu, 800+40, None)\n",
    "# val_nuatm_paths = explore_paths(path_nuatm, 1000+50, None)\n",
    "# val_nu2_paths = explore_paths(path_nu2, 60+3, None)\n",
    "\n",
    "# val_paths = val_mu_paths + val_nuatm_paths + val_nu2_paths\n"
   ]
  },
  {
   "cell_type": "markdown",
   "metadata": {},
   "source": [
    "## Save chosen dataset: config and paths"
   ]
  },
  {
   "cell_type": "code",
   "execution_count": 29,
   "metadata": {},
   "outputs": [],
   "source": [
    "name_of_config = 'numusep_all_small'"
   ]
  },
  {
   "cell_type": "code",
   "execution_count": 30,
   "metadata": {},
   "outputs": [],
   "source": [
    "os.makedirs(f'./configurations/{name_of_config}', exist_ok=False)\n",
    "cfgm.save_cfg(cfg, path=f'./configurations/{name_of_config}/cfg.yaml')\n",
    "cfgm.save_paths(train_paths, f'./configurations/{name_of_config}/train_paths.csv')\n",
    "cfgm.save_paths(test_paths, f'./configurations/{name_of_config}/test_paths.csv')\n",
    "cfgm.save_paths(val_paths, f'./configurations/{name_of_config}/val_paths.csv')"
   ]
  },
  {
   "cell_type": "markdown",
   "metadata": {},
   "source": [
    "## How to read configuration"
   ]
  },
  {
   "cell_type": "markdown",
   "metadata": {},
   "source": [
    "### Read Cfg"
   ]
  },
  {
   "cell_type": "code",
   "execution_count": 31,
   "metadata": {},
   "outputs": [
    {
     "data": {
      "text/plain": [
       "{'chunk_generator_cfg': {'chunk_size': 25,\n",
       "  'processor_params': {'center_times': True,\n",
       "   'calc_tres': False,\n",
       "   'filter_cfg': {'only_signal': False,\n",
       "    'min_hits': 0,\n",
       "    'min_strings': 0,\n",
       "    'min_Q': 0,\n",
       "    't_threshold': 100000}},\n",
       "  'fields': ['PulsesAmpl', 'PulsesTime', 'Xrel', 'Yrel', 'Zrel', 'nu_induced'],\n",
       "  'shuffle_paths': True},\n",
       " 'batch_size': 256,\n",
       " 'features_name': ['PulsesAmpl', 'PulsesTime', 'Xrel', 'Yrel', 'Zrel'],\n",
       " 'labels_name': ['nu_induced'],\n",
       " 'do_norm': True,\n",
       " 'norm_params': {'PulsesTime': [0, 1372.0],\n",
       "  'PulsesAmpl': [1.6, 41.2],\n",
       "  'Xrel': [0, 60],\n",
       "  'Yrel': [0, 60],\n",
       "  'Zrel': [0, 260]},\n",
       " 'do_augment': True,\n",
       " 'augment_params': {'PulsesTime': 5,\n",
       "  'PulsesAmpl': 0.1,\n",
       "  'Xrel': 2,\n",
       "  'Yrel': 2,\n",
       "  'Zrel': 5},\n",
       " 'shuffle': True}"
      ]
     },
     "execution_count": 31,
     "metadata": {},
     "output_type": "execute_result"
    }
   ],
   "source": [
    "batches_cfg = cfgm.load_cfg(f'./configurations/{name_of_config}/cfg.yaml')\n",
    "batches_cfg.to_dict()"
   ]
  },
  {
   "cell_type": "markdown",
   "metadata": {},
   "source": [
    "### Read paths"
   ]
  },
  {
   "cell_type": "code",
   "execution_count": 36,
   "metadata": {},
   "outputs": [
    {
     "data": {
      "text/plain": [
       "['/net/62/home3/ivkhar/Baikal/data/initial_data/MC_2020/muatm/root/all/1000.root',\n",
       " '/net/62/home3/ivkhar/Baikal/data/initial_data/MC_2020/muatm/root/all/10000.root',\n",
       " '/net/62/home3/ivkhar/Baikal/data/initial_data/MC_2020/muatm/root/all/10001.root',\n",
       " '/net/62/home3/ivkhar/Baikal/data/initial_data/MC_2020/muatm/root/all/10002.root',\n",
       " '/net/62/home3/ivkhar/Baikal/data/initial_data/MC_2020/muatm/root/all/10003.root',\n",
       " '/net/62/home3/ivkhar/Baikal/data/initial_data/MC_2020/muatm/root/all/10004.root',\n",
       " '/net/62/home3/ivkhar/Baikal/data/initial_data/MC_2020/muatm/root/all/10005.root',\n",
       " '/net/62/home3/ivkhar/Baikal/data/initial_data/MC_2020/muatm/root/all/10006.root',\n",
       " '/net/62/home3/ivkhar/Baikal/data/initial_data/MC_2020/muatm/root/all/10007.root',\n",
       " '/net/62/home3/ivkhar/Baikal/data/initial_data/MC_2020/muatm/root/all/10008.root',\n",
       " '/net/62/home3/ivkhar/Baikal/data/initial_data/MC_2020/muatm/root/all/10009.root',\n",
       " '/net/62/home3/ivkhar/Baikal/data/initial_data/MC_2020/muatm/root/all/1001.root',\n",
       " '/net/62/home3/ivkhar/Baikal/data/initial_data/MC_2020/muatm/root/all/10010.root',\n",
       " '/net/62/home3/ivkhar/Baikal/data/initial_data/MC_2020/muatm/root/all/10011.root',\n",
       " '/net/62/home3/ivkhar/Baikal/data/initial_data/MC_2020/muatm/root/all/10012.root',\n",
       " '/net/62/home3/ivkhar/Baikal/data/initial_data/MC_2020/muatm/root/all/10013.root',\n",
       " '/net/62/home3/ivkhar/Baikal/data/initial_data/MC_2020/muatm/root/all/10014.root',\n",
       " '/net/62/home3/ivkhar/Baikal/data/initial_data/MC_2020/muatm/root/all/10015.root',\n",
       " '/net/62/home3/ivkhar/Baikal/data/initial_data/MC_2020/muatm/root/all/10016.root',\n",
       " '/net/62/home3/ivkhar/Baikal/data/initial_data/MC_2020/muatm/root/all/10017.root',\n",
       " '/net/62/home3/ivkhar/Baikal/data/initial_data/MC_2020/muatm/root/all/10018.root',\n",
       " '/net/62/home3/ivkhar/Baikal/data/initial_data/MC_2020/muatm/root/all/10019.root',\n",
       " '/net/62/home3/ivkhar/Baikal/data/initial_data/MC_2020/muatm/root/all/1002.root',\n",
       " '/net/62/home3/ivkhar/Baikal/data/initial_data/MC_2020/muatm/root/all/10020.root',\n",
       " '/net/62/home3/ivkhar/Baikal/data/initial_data/MC_2020/muatm/root/all/10021.root',\n",
       " '/net/62/home3/ivkhar/Baikal/data/initial_data/MC_2020/muatm/root/all/10022.root',\n",
       " '/net/62/home3/ivkhar/Baikal/data/initial_data/MC_2020/muatm/root/all/10023.root',\n",
       " '/net/62/home3/ivkhar/Baikal/data/initial_data/MC_2020/muatm/root/all/10024.root',\n",
       " '/net/62/home3/ivkhar/Baikal/data/initial_data/MC_2020/muatm/root/all/10025.root',\n",
       " '/net/62/home3/ivkhar/Baikal/data/initial_data/MC_2020/muatm/root/all/10026.root',\n",
       " '/net/62/home3/ivkhar/Baikal/data/initial_data/MC_2020/muatm/root/all/10027.root',\n",
       " '/net/62/home3/ivkhar/Baikal/data/initial_data/MC_2020/muatm/root/all/10028.root',\n",
       " '/net/62/home3/ivkhar/Baikal/data/initial_data/MC_2020/muatm/root/all/10029.root',\n",
       " '/net/62/home3/ivkhar/Baikal/data/initial_data/MC_2020/muatm/root/all/1003.root',\n",
       " '/net/62/home3/ivkhar/Baikal/data/initial_data/MC_2020/muatm/root/all/10030.root',\n",
       " '/net/62/home3/ivkhar/Baikal/data/initial_data/MC_2020/muatm/root/all/10031.root',\n",
       " '/net/62/home3/ivkhar/Baikal/data/initial_data/MC_2020/muatm/root/all/10032.root',\n",
       " '/net/62/home3/ivkhar/Baikal/data/initial_data/MC_2020/muatm/root/all/10033.root',\n",
       " '/net/62/home3/ivkhar/Baikal/data/initial_data/MC_2020/muatm/root/all/10034.root',\n",
       " '/net/62/home3/ivkhar/Baikal/data/initial_data/MC_2020/muatm/root/all/10035.root',\n",
       " '/net/62/home3/ivkhar/Baikal/data/initial_data/MC_2020/muatm/root/all/10036.root',\n",
       " '/net/62/home3/ivkhar/Baikal/data/initial_data/MC_2020/muatm/root/all/10037.root',\n",
       " '/net/62/home3/ivkhar/Baikal/data/initial_data/MC_2020/muatm/root/all/10038.root',\n",
       " '/net/62/home3/ivkhar/Baikal/data/initial_data/MC_2020/muatm/root/all/10039.root',\n",
       " '/net/62/home3/ivkhar/Baikal/data/initial_data/MC_2020/muatm/root/all/1004.root',\n",
       " '/net/62/home3/ivkhar/Baikal/data/initial_data/MC_2020/muatm/root/all/10040.root',\n",
       " '/net/62/home3/ivkhar/Baikal/data/initial_data/MC_2020/muatm/root/all/10041.root',\n",
       " '/net/62/home3/ivkhar/Baikal/data/initial_data/MC_2020/muatm/root/all/10042.root',\n",
       " '/net/62/home3/ivkhar/Baikal/data/initial_data/MC_2020/muatm/root/all/10043.root',\n",
       " '/net/62/home3/ivkhar/Baikal/data/initial_data/MC_2020/muatm/root/all/10044.root',\n",
       " '/net/62/home3/ivkhar/Baikal/data/initial_data/MC_2020/muatm/root/all/10045.root',\n",
       " '/net/62/home3/ivkhar/Baikal/data/initial_data/MC_2020/muatm/root/all/10046.root',\n",
       " '/net/62/home3/ivkhar/Baikal/data/initial_data/MC_2020/muatm/root/all/10047.root',\n",
       " '/net/62/home3/ivkhar/Baikal/data/initial_data/MC_2020/muatm/root/all/10048.root',\n",
       " '/net/62/home3/ivkhar/Baikal/data/initial_data/MC_2020/muatm/root/all/10049.root',\n",
       " '/net/62/home3/ivkhar/Baikal/data/initial_data/MC_2020/nuatm/root/all/1000.root',\n",
       " '/net/62/home3/ivkhar/Baikal/data/initial_data/MC_2020/nuatm/root/all/1001.root',\n",
       " '/net/62/home3/ivkhar/Baikal/data/initial_data/MC_2020/nuatm/root/all/1002.root',\n",
       " '/net/62/home3/ivkhar/Baikal/data/initial_data/MC_2020/nuatm/root/all/1003.root',\n",
       " '/net/62/home3/ivkhar/Baikal/data/initial_data/MC_2020/nuatm/root/all/1004.root',\n",
       " '/net/62/home3/ivkhar/Baikal/data/initial_data/MC_2020/nuatm/root/all/1005.root',\n",
       " '/net/62/home3/ivkhar/Baikal/data/initial_data/MC_2020/nuatm/root/all/1006.root',\n",
       " '/net/62/home3/ivkhar/Baikal/data/initial_data/MC_2020/nuatm/root/all/1007.root',\n",
       " '/net/62/home3/ivkhar/Baikal/data/initial_data/MC_2020/nuatm/root/all/1008.root',\n",
       " '/net/62/home3/ivkhar/Baikal/data/initial_data/MC_2020/nuatm/root/all/1009.root',\n",
       " '/net/62/home3/ivkhar/Baikal/data/initial_data/MC_2020/nuatm/root/all/1010.root',\n",
       " '/net/62/home3/ivkhar/Baikal/data/initial_data/MC_2020/nuatm/root/all/1011.root',\n",
       " '/net/62/home3/ivkhar/Baikal/data/initial_data/MC_2020/nuatm/root/all/1012.root',\n",
       " '/net/62/home3/ivkhar/Baikal/data/initial_data/MC_2020/nuatm/root/all/1013.root',\n",
       " '/net/62/home3/ivkhar/Baikal/data/initial_data/MC_2020/nuatm/root/all/1014.root',\n",
       " '/net/62/home3/ivkhar/Baikal/data/initial_data/MC_2020/nuatm/root/all/1015.root',\n",
       " '/net/62/home3/ivkhar/Baikal/data/initial_data/MC_2020/nuatm/root/all/1016.root',\n",
       " '/net/62/home3/ivkhar/Baikal/data/initial_data/MC_2020/nuatm/root/all/1017.root',\n",
       " '/net/62/home3/ivkhar/Baikal/data/initial_data/MC_2020/nuatm/root/all/1018.root',\n",
       " '/net/62/home3/ivkhar/Baikal/data/initial_data/MC_2020/nuatm/root/all/1019.root',\n",
       " '/net/62/home3/ivkhar/Baikal/data/initial_data/MC_2020/nuatm/root/all/1020.root',\n",
       " '/net/62/home3/ivkhar/Baikal/data/initial_data/MC_2020/nuatm/root/all/1021.root',\n",
       " '/net/62/home3/ivkhar/Baikal/data/initial_data/MC_2020/nuatm/root/all/1022.root',\n",
       " '/net/62/home3/ivkhar/Baikal/data/initial_data/MC_2020/nuatm/root/all/1023.root',\n",
       " '/net/62/home3/ivkhar/Baikal/data/initial_data/MC_2020/nuatm/root/all/1024.root',\n",
       " '/net/62/home3/ivkhar/Baikal/data/initial_data/MC_2020/nuatm/root/all/1025.root',\n",
       " '/net/62/home3/ivkhar/Baikal/data/initial_data/MC_2020/nuatm/root/all/1026.root',\n",
       " '/net/62/home3/ivkhar/Baikal/data/initial_data/MC_2020/nuatm/root/all/1027.root',\n",
       " '/net/62/home3/ivkhar/Baikal/data/initial_data/MC_2020/nuatm/root/all/1028.root',\n",
       " '/net/62/home3/ivkhar/Baikal/data/initial_data/MC_2020/nuatm/root/all/1029.root',\n",
       " '/net/62/home3/ivkhar/Baikal/data/initial_data/MC_2020/nuatm/root/all/1030.root',\n",
       " '/net/62/home3/ivkhar/Baikal/data/initial_data/MC_2020/nuatm/root/all/1031.root',\n",
       " '/net/62/home3/ivkhar/Baikal/data/initial_data/MC_2020/nuatm/root/all/1032.root',\n",
       " '/net/62/home3/ivkhar/Baikal/data/initial_data/MC_2020/nuatm/root/all/1033.root',\n",
       " '/net/62/home3/ivkhar/Baikal/data/initial_data/MC_2020/nuatm/root/all/1034.root',\n",
       " '/net/62/home3/ivkhar/Baikal/data/initial_data/MC_2020/nuatm/root/all/1035.root',\n",
       " '/net/62/home3/ivkhar/Baikal/data/initial_data/MC_2020/nuatm/root/all/1036.root',\n",
       " '/net/62/home3/ivkhar/Baikal/data/initial_data/MC_2020/nuatm/root/all/1037.root',\n",
       " '/net/62/home3/ivkhar/Baikal/data/initial_data/MC_2020/nuatm/root/all/1038.root',\n",
       " '/net/62/home3/ivkhar/Baikal/data/initial_data/MC_2020/nuatm/root/all/1039.root',\n",
       " '/net/62/home3/ivkhar/Baikal/data/initial_data/MC_2020/nuatm/root/all/1040.root',\n",
       " '/net/62/home3/ivkhar/Baikal/data/initial_data/MC_2020/nuatm/root/all/1041.root',\n",
       " '/net/62/home3/ivkhar/Baikal/data/initial_data/MC_2020/nuatm/root/all/1042.root',\n",
       " '/net/62/home3/ivkhar/Baikal/data/initial_data/MC_2020/nuatm/root/all/1043.root',\n",
       " '/net/62/home3/ivkhar/Baikal/data/initial_data/MC_2020/nue2_100pev/root/all/1000.root',\n",
       " '/net/62/home3/ivkhar/Baikal/data/initial_data/MC_2020/nue2_100pev/root/all/1001.root',\n",
       " '/net/62/home3/ivkhar/Baikal/data/initial_data/MC_2020/nue2_100pev/root/all/1002.root',\n",
       " '/net/62/home3/ivkhar/Baikal/data/initial_data/MC_2020/nue2_100pev/root/all/1003.root',\n",
       " '/net/62/home3/ivkhar/Baikal/data/initial_data/MC_2020/nue2_100pev/root/all/1004.root',\n",
       " '/net/62/home3/ivkhar/Baikal/data/initial_data/MC_2020/nue2_100pev/root/all/1005.root',\n",
       " '/net/62/home3/ivkhar/Baikal/data/initial_data/MC_2020/nue2_100pev/root/all/1006.root']"
      ]
     },
     "execution_count": 36,
     "metadata": {},
     "output_type": "execute_result"
    }
   ],
   "source": [
    "paths = cfgm.read_paths(f'./configurations/{name_of_config}/train_paths.csv')\n",
    "paths"
   ]
  },
  {
   "cell_type": "code",
   "execution_count": null,
   "metadata": {},
   "outputs": [],
   "source": []
  },
  {
   "cell_type": "markdown",
   "metadata": {},
   "source": [
    "# Test"
   ]
  },
  {
   "cell_type": "code",
   "execution_count": 14,
   "metadata": {},
   "outputs": [
    {
     "name": "stderr",
     "output_type": "stream",
     "text": [
      "2024-10-24 12:29:16,321 - INFO - Shuffled all file paths. Total paths: 186\n",
      "2024-10-24 12:29:36,124 - INFO - #0 chunk loaded.\n"
     ]
    },
    {
     "name": "stdout",
     "output_type": "stream",
     "text": [
      "torch.Size([256, 81, 5]) torch.Size([256, 1])\n"
     ]
    }
   ],
   "source": [
    "import config_manager as cfgm\n",
    "from batch_generator import BatchGenerator\n",
    "\n",
    "name_of_dataset = \"numusep_signal_small\"\n",
    "\n",
    "path_to_train_paths = f\"./configurations/{name_of_dataset}/train_paths.csv\"\n",
    "train_paths = cfgm.read_paths(path_to_train_paths)\n",
    "\n",
    "path_to_cfg = f\"./configurations/{name_of_dataset}/cfg.yaml\"\n",
    "cfg = cfgm.load_cfg(path_to_cfg)\n",
    "\n",
    "gen = BatchGenerator(train_paths, cfg)\n",
    "batches = gen.get_batches()\n",
    "for batch in batches:\n",
    "    inputs, targets = batch\n",
    "    print(inputs.shape, targets.shape)\n",
    "    break"
   ]
  },
  {
   "cell_type": "code",
   "execution_count": null,
   "metadata": {},
   "outputs": [],
   "source": []
  }
 ],
 "metadata": {
  "kernelspec": {
   "display_name": "Python 3",
   "language": "python",
   "name": "python3"
  },
  "language_info": {
   "codemirror_mode": {
    "name": "ipython",
    "version": 3
   },
   "file_extension": ".py",
   "mimetype": "text/x-python",
   "name": "python",
   "nbconvert_exporter": "python",
   "pygments_lexer": "ipython3",
   "version": "3.10.13"
  }
 },
 "nbformat": 4,
 "nbformat_minor": 2
}
