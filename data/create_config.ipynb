{
 "cells": [
  {
   "cell_type": "code",
   "execution_count": 2,
   "metadata": {},
   "outputs": [],
   "source": [
    "import os\n",
    "import csv"
   ]
  },
  {
   "cell_type": "code",
   "execution_count": 3,
   "metadata": {},
   "outputs": [],
   "source": [
    "from root_manager.settings import FilterParams, ProcessorConfig, ChunkGeneratorConfig\n",
    "from settings import BatchGeneratorConfig, NormParams, AugmentParams\n",
    "from ustils_for_stats import StatsCollector\n",
    "import config_manager as cfgm"
   ]
  },
  {
   "cell_type": "markdown",
   "metadata": {},
   "source": [
    "## Choose paths and their proportion to create dataset"
   ]
  },
  {
   "cell_type": "code",
   "execution_count": 4,
   "metadata": {},
   "outputs": [],
   "source": [
    "path_mu = \"/net/62/home3/ivkhar/Baikal/data/initial_data/MC_2020/muatm/root/all/\"\n",
    "path_nuatm = \"/net/62/home3/ivkhar/Baikal/data/initial_data/MC_2020/nuatm/root/all/\"\n",
    "path_nu2 = \"/net/62/home3/ivkhar/Baikal/data/initial_data/MC_2020/nue2_100pev/root/all/\"\n",
    "def explore_paths(p: str, start: int, stop: int):\n",
    "    files = sorted(os.listdir(p))[start:stop]\n",
    "    return [f\"{p}{file}\" for file in files]"
   ]
  },
  {
   "cell_type": "code",
   "execution_count": 5,
   "metadata": {},
   "outputs": [],
   "source": [
    "# Read train paths\n",
    "mu_paths = explore_paths(path_mu, 0, 80)\n",
    "nuatm_paths = explore_paths(path_nuatm, 0, 100)\n",
    "nu2_paths = explore_paths(path_nu2, 0, 6)\n",
    "\n",
    "train_paths = mu_paths + nuatm_paths + nu2_paths"
   ]
  },
  {
   "cell_type": "markdown",
   "metadata": {},
   "source": [
    "## Choose processing settings"
   ]
  },
  {
   "cell_type": "code",
   "execution_count": 7,
   "metadata": {},
   "outputs": [],
   "source": [
    "proc_cfg = ProcessorConfig(\n",
    "    center_times= True, \n",
    "    calc_tres = False, \n",
    "    filter_cfg = FilterParams(\n",
    "        only_signal = True,\n",
    "        min_hits = 5,\n",
    "        min_strings = 2,\n",
    "        min_Q = 0,\n",
    "        t_threshold = 100000\n",
    "    )\n",
    ")"
   ]
  },
  {
   "cell_type": "markdown",
   "metadata": {},
   "source": [
    "## Collect stats of processed events to adjust proportion of files"
   ]
  },
  {
   "cell_type": "code",
   "execution_count": 11,
   "metadata": {},
   "outputs": [],
   "source": [
    "stats = StatsCollector(mu_paths, nuatm_paths, nu2_paths, proc_cfg)"
   ]
  },
  {
   "cell_type": "code",
   "execution_count": 12,
   "metadata": {},
   "outputs": [
    {
     "name": "stderr",
     "output_type": "stream",
     "text": [
      "2024-10-24 12:21:43,570 - INFO - Processing datasets from indices 0 to 50.\n",
      "2024-10-24 12:23:21,567 - INFO - Calculating mean and std for Q and t\n",
      "2024-10-24 12:23:21,569 - INFO - Estimating mean and std for field: PulsesAmpl\n",
      "2024-10-24 12:23:21,731 - INFO - Field 'PulsesAmpl': Estimated Mean = 5.1921, Std = 57.4926\n",
      "2024-10-24 12:23:21,733 - INFO - Estimating mean and std for field: PulsesTime\n",
      "2024-10-24 12:23:21,841 - INFO - Field 'PulsesTime': Estimated Mean = -0.0000, Std = 239.8131\n",
      "2024-10-24 12:23:21,842 - INFO - Collected dataset statistics successfully. Ratios - Mu/Nu: 0.9867, NuAtm/Nu2: 9.3249\n"
     ]
    }
   ],
   "source": [
    "stats.get_stats(0, 50)\n",
    "stats_dict = stats.return_stats()"
   ]
  },
  {
   "cell_type": "code",
   "execution_count": 13,
   "metadata": {},
   "outputs": [
    {
     "data": {
      "text/plain": [
       "{'proc_cfg': ProcessorConfig(center_times=True, calc_tres=False, filter_cfg=FilterParams(only_signal=True, min_hits=5, min_strings=2, min_Q=0, t_threshold=100000)),\n",
       " 'mu_num_estimated': 1082993.6,\n",
       " 'nuatm_num_estimated': 991286.0,\n",
       " 'nu2_num_estimated': 106305.0,\n",
       " 'mu_filter_koef': 0.4209888967118046,\n",
       " 'nuatm_filter_koef': 0.25229468476080913,\n",
       " 'nu2_filter_koef': 0.8313846635122981,\n",
       " 'mu_nu_ratio': 0.9867005104815911,\n",
       " 'nuatm_nu2_ratio': 9.32492356897606,\n",
       " 'Q_mean': 5.192124376403326,\n",
       " 'Q_std': 57.492594050332194,\n",
       " 't_mean': -6.81645089946574e-09,\n",
       " 't_std': 239.81307352095754}"
      ]
     },
     "execution_count": 13,
     "metadata": {},
     "output_type": "execute_result"
    }
   ],
   "source": [
    "stats_dict"
   ]
  },
  {
   "cell_type": "markdown",
   "metadata": {},
   "source": [
    "## Create final config of batch generator"
   ]
  },
  {
   "cell_type": "code",
   "execution_count": 10,
   "metadata": {},
   "outputs": [],
   "source": [
    "cfg = BatchGeneratorConfig(\n",
    "    chunk_generator_cfg=ChunkGeneratorConfig(\n",
    "            chunk_size = 25,\n",
    "            processor_params = proc_cfg,\n",
    "            fields = ['PulsesAmpl', 'PulsesTime', 'Xrel', 'Yrel', 'Zrel', 'nu_induced'],\n",
    "            shuffle_paths = True\n",
    "        ),\n",
    "    batch_size = 256,\n",
    "    features_name = [\"PulsesAmpl\", \"PulsesTime\", \"Xrel\", \"Yrel\", \"Zrel\"],\n",
    "    labels_name = [\"nu_induced\"],\n",
    "    do_norm = True,\n",
    "    norm_params = NormParams(\n",
    "        PulsesTime = [0, 240.],\n",
    "        PulsesAmpl = [5.2, 57.5],\n",
    "        Xrel = [0, 60],\n",
    "        Yrel = [0, 60],\n",
    "        Zrel = [0, 260]\n",
    "        ),\n",
    "    do_augment = True,\n",
    "    augment_params = AugmentParams(\n",
    "        PulsesTime = 5,\n",
    "        PulsesAmpl = 0.1,\n",
    "        Xrel = 2,\n",
    "        Yrel = 2,\n",
    "        Zrel = 5\n",
    "        ),\n",
    "    shuffle = True\n",
    ")"
   ]
  },
  {
   "cell_type": "markdown",
   "metadata": {},
   "source": [
    "## Choose files assuming got stats"
   ]
  },
  {
   "cell_type": "code",
   "execution_count": 11,
   "metadata": {},
   "outputs": [],
   "source": [
    "# SMALL\n",
    "# Read train paths\n",
    "mu_paths = explore_paths(path_mu, 0, 80)\n",
    "nuatm_paths = explore_paths(path_nuatm, 0, 100)\n",
    "nu2_paths = explore_paths(path_nu2, 0, 6)\n",
    "\n",
    "train_paths = mu_paths + nuatm_paths + nu2_paths\n",
    "\n",
    "# Read test paths\n",
    "test_mu_paths = explore_paths(path_mu, 80, 80+40)\n",
    "test_nuatm_paths = explore_paths(path_nuatm, 100, 100+50)\n",
    "test_nu2_paths = explore_paths(path_nu2, 6, 6+3)\n",
    "\n",
    "test_paths = test_mu_paths + test_nuatm_paths + test_nu2_paths\n",
    "\n",
    "# Read val paths\n",
    "val_mu_paths = explore_paths(path_mu, 80+40, 80+40+160)\n",
    "val_nuatm_paths = explore_paths(path_nuatm, 100+50, 100+50+200)\n",
    "val_nu2_paths = explore_paths(path_nu2, 6+3, 6+3+12)\n",
    "\n",
    "val_paths = val_mu_paths + val_nuatm_paths + val_nu2_paths\n",
    "\n",
    "# # # BIG\n",
    "# # # Read train paths\n",
    "# mu_paths = explore_paths(path_mu, 0, 800)\n",
    "# nuatm_paths = explore_paths(path_nuatm, 0, 1000)\n",
    "# nu2_paths = explore_paths(path_nu2, 0, 60)\n",
    "\n",
    "# train_paths = mu_paths + nuatm_paths + nu2_paths\n",
    "\n",
    "# # Read test paths\n",
    "# test_mu_paths = explore_paths(path_mu, 800, 800+40)\n",
    "# test_nuatm_paths = explore_paths(path_nuatm, 1000, 1000+50)\n",
    "# test_nu2_paths = explore_paths(path_nu2, 60, 60+3)\n",
    "\n",
    "# test_paths = test_mu_paths + test_nuatm_paths + test_nu2_paths\n",
    "\n",
    "# # Read val paths\n",
    "# val_mu_paths = explore_paths(path_mu, 800+40, None)\n",
    "# val_nuatm_paths = explore_paths(path_nuatm, 1000+50, None)\n",
    "# val_nu2_paths = explore_paths(path_nu2, 60+3, None)\n",
    "\n",
    "# val_paths = val_mu_paths + val_nuatm_paths + val_nu2_paths"
   ]
  },
  {
   "cell_type": "markdown",
   "metadata": {},
   "source": [
    "## Save chosen dataset: config and paths"
   ]
  },
  {
   "cell_type": "code",
   "execution_count": 12,
   "metadata": {},
   "outputs": [],
   "source": [
    "name_of_config = 'numusep_signal_small'"
   ]
  },
  {
   "cell_type": "code",
   "execution_count": 13,
   "metadata": {},
   "outputs": [],
   "source": [
    "os.makedirs(f'./configurations/{name_of_config}', exist_ok=False)\n",
    "cfgm.save_cfg(cfg, path=f'./configurations/{name_of_config}/cfg.yaml')\n",
    "cfgm.save_paths(train_paths, f'./configurations/{name_of_config}/train_paths.csv')\n",
    "cfgm.save_paths(test_paths, f'./configurations/{name_of_config}/test_paths.csv')\n",
    "cfgm.save_paths(val_paths, f'./configurations/{name_of_config}/val_paths.csv')"
   ]
  },
  {
   "cell_type": "markdown",
   "metadata": {},
   "source": [
    "## How to read configuration"
   ]
  },
  {
   "cell_type": "markdown",
   "metadata": {},
   "source": [
    "### Read Cfg"
   ]
  },
  {
   "cell_type": "code",
   "execution_count": 9,
   "metadata": {},
   "outputs": [
    {
     "data": {
      "text/plain": [
       "{'chunk_generator_cfg': {'chunk_size': 50,\n",
       "  'processor_params': {'center_times': True,\n",
       "   'calc_tres': False,\n",
       "   'filter_cfg': {'only_signal': True,\n",
       "    'min_hits': 5,\n",
       "    'min_strings': 2,\n",
       "    'min_Q': 0,\n",
       "    't_threshold': 100000}},\n",
       "  'fields': ['PulsesAmpl', 'PulsesTime', 'Xrel', 'Yrel', 'Zrel', 'nu_induced'],\n",
       "  'shuffle_paths': True},\n",
       " 'batch_size': 256,\n",
       " 'features_name': ['PulsesAmpl', 'PulsesTime', 'Xrel', 'Yrel', 'Zrel'],\n",
       " 'labels_name': ['nu_induced'],\n",
       " 'do_norm': True,\n",
       " 'norm_params': {'PulsesTime': [0, 240.0],\n",
       "  'PulsesAmpl': [6.0, 95.0],\n",
       "  'Xrel': [0, 60],\n",
       "  'Yrel': [0, 60],\n",
       "  'Zrel': [0, 260]},\n",
       " 'do_augment': True,\n",
       " 'augment_parmas': {'PulsesTime': 5,\n",
       "  'PulsesAmpl': 0.1,\n",
       "  'Xrel': 2,\n",
       "  'Yrel': 2,\n",
       "  'Zrel': 5},\n",
       " 'shuffle': True}"
      ]
     },
     "execution_count": 9,
     "metadata": {},
     "output_type": "execute_result"
    }
   ],
   "source": [
    "batches_cfg = cfgm.load_cfg(f'./configurations/{name_of_config}/cfg.yaml')\n",
    "batches_cfg.to_dict()"
   ]
  },
  {
   "cell_type": "markdown",
   "metadata": {},
   "source": [
    "### Read paths"
   ]
  },
  {
   "cell_type": "code",
   "execution_count": 10,
   "metadata": {},
   "outputs": [
    {
     "data": {
      "text/plain": [
       "['/net/62/home3/ivkhar/Baikal/data/initial_data/MC_2020/muatm/root/all/10048.root',\n",
       " '/net/62/home3/ivkhar/Baikal/data/initial_data/MC_2020/muatm/root/all/10091.root',\n",
       " '/net/62/home3/ivkhar/Baikal/data/initial_data/MC_2020/muatm/root/all/10170.root',\n",
       " '/net/62/home3/ivkhar/Baikal/data/initial_data/MC_2020/muatm/root/all/10185.root',\n",
       " '/net/62/home3/ivkhar/Baikal/data/initial_data/MC_2020/muatm/root/all/10206.root',\n",
       " '/net/62/home3/ivkhar/Baikal/data/initial_data/MC_2020/muatm/root/all/1021.root',\n",
       " '/net/62/home3/ivkhar/Baikal/data/initial_data/MC_2020/muatm/root/all/1024.root',\n",
       " '/net/62/home3/ivkhar/Baikal/data/initial_data/MC_2020/muatm/root/all/1025.root',\n",
       " '/net/62/home3/ivkhar/Baikal/data/initial_data/MC_2020/muatm/root/all/10300.root',\n",
       " '/net/62/home3/ivkhar/Baikal/data/initial_data/MC_2020/muatm/root/all/10333.root']"
      ]
     },
     "execution_count": 10,
     "metadata": {},
     "output_type": "execute_result"
    }
   ],
   "source": [
    "paths = cfgm.read_paths(f'./configurations/{name_of_config}/paths.csv')\n",
    "paths[0:10]"
   ]
  },
  {
   "cell_type": "code",
   "execution_count": null,
   "metadata": {},
   "outputs": [],
   "source": []
  },
  {
   "cell_type": "markdown",
   "metadata": {},
   "source": [
    "# Test"
   ]
  },
  {
   "cell_type": "code",
   "execution_count": 14,
   "metadata": {},
   "outputs": [
    {
     "name": "stderr",
     "output_type": "stream",
     "text": [
      "2024-10-24 12:29:16,321 - INFO - Shuffled all file paths. Total paths: 186\n",
      "2024-10-24 12:29:36,124 - INFO - #0 chunk loaded.\n"
     ]
    },
    {
     "name": "stdout",
     "output_type": "stream",
     "text": [
      "torch.Size([256, 81, 5]) torch.Size([256, 1])\n"
     ]
    }
   ],
   "source": [
    "import config_manager as cfgm\n",
    "from batch_generator import BatchGenerator\n",
    "\n",
    "name_of_dataset = \"numusep_signal_small\"\n",
    "\n",
    "path_to_train_paths = f\"./configurations/{name_of_dataset}/train_paths.csv\"\n",
    "train_paths = cfgm.read_paths(path_to_train_paths)\n",
    "\n",
    "path_to_cfg = f\"./configurations/{name_of_dataset}/cfg.yaml\"\n",
    "cfg = cfgm.load_cfg(path_to_cfg)\n",
    "\n",
    "gen = BatchGenerator(train_paths, cfg)\n",
    "batches = gen.get_batches()\n",
    "for batch in batches:\n",
    "    inputs, targets = batch\n",
    "    print(inputs.shape, targets.shape)\n",
    "    break"
   ]
  },
  {
   "cell_type": "code",
   "execution_count": null,
   "metadata": {},
   "outputs": [],
   "source": []
  }
 ],
 "metadata": {
  "kernelspec": {
   "display_name": "Python 3",
   "language": "python",
   "name": "python3"
  },
  "language_info": {
   "codemirror_mode": {
    "name": "ipython",
    "version": 3
   },
   "file_extension": ".py",
   "mimetype": "text/x-python",
   "name": "python",
   "nbconvert_exporter": "python",
   "pygments_lexer": "ipython3",
   "version": "3.10.15"
  }
 },
 "nbformat": 4,
 "nbformat_minor": 2
}
