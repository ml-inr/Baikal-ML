{
 "cells": [
  {
   "cell_type": "code",
   "execution_count": 1,
   "metadata": {},
   "outputs": [],
   "source": [
    "import sys\n",
    "PROJECT_PATH = \"/home/albert/Baikal-ML/\" #insert your project path\n",
    "sys.path.append(f\"{PROJECT_PATH}\")"
   ]
  },
  {
   "cell_type": "code",
   "execution_count": 2,
   "metadata": {},
   "outputs": [],
   "source": [
    "import config_manager as cfgm\n",
    "from batch_generator import BatchGenerator\n",
    "from IPython.display import clear_output\n",
    "from time import time\n",
    "\n",
    "import torch"
   ]
  },
  {
   "cell_type": "code",
   "execution_count": 3,
   "metadata": {},
   "outputs": [
    {
     "name": "stdout",
     "output_type": "stream",
     "text": [
      "#227, data[:2]=tensor([[[ 0.0140, -1.7911, -0.0183,  0.0108, -0.6587],\n",
      "         [-0.0265, -1.7218,  0.9514, -0.2831,  0.2350],\n",
      "         [ 0.0032, -1.4125, -1.0141, -0.1103,  0.6695],\n",
      "         ...,\n",
      "         [ 0.0000,  0.0000,  0.0000,  0.0000,  0.0000],\n",
      "         [ 0.0000,  0.0000,  0.0000,  0.0000,  0.0000],\n",
      "         [ 0.0000,  0.0000,  0.0000,  0.0000,  0.0000]],\n",
      "\n",
      "        [[-0.0350, -1.7014, -0.3302, -0.9167, -0.5912],\n",
      "         [ 0.0023, -1.6661,  0.0404, -0.0077,  0.5405],\n",
      "         [-0.0087, -1.6352, -0.2393, -0.9337,  0.8315],\n",
      "         ...,\n",
      "         [ 0.0000,  0.0000,  0.0000,  0.0000,  0.0000],\n",
      "         [ 0.0000,  0.0000,  0.0000,  0.0000,  0.0000],\n",
      "         [ 0.0000,  0.0000,  0.0000,  0.0000,  0.0000]]], device='cuda:0',\n",
      "       dtype=torch.float64)\n",
      "targets[:2]=tensor([[0., 1.],\n",
      "        [0., 1.]], device='cuda:0')\n",
      "(time()-t0)=11.12039065361023\n"
     ]
    }
   ],
   "source": [
    "name_of_dataset = \"munusep_all_small\"\n",
    "\n",
    "path_to_train_paths = f\"./configurations/{name_of_dataset}/train_paths.csv\"\n",
    "train_paths = cfgm.read_paths(path_to_train_paths)\n",
    "\n",
    "path_to_cfg = f\"./configurations/{name_of_dataset}/cfg.yaml\"\n",
    "cfg = cfgm.load_cfg(path_to_cfg)\n",
    "\n",
    "gen = BatchGenerator(train_paths[-5:], cfg)\n",
    "batches = gen.get_batches()\n",
    "t0 = time()\n",
    "for i, batch in enumerate(batches):\n",
    "    clear_output()\n",
    "    data, mask, targets = batch\n",
    "    print(f\"#{i}, {data[:2]=}\\n{targets[:2]=}\")\n",
    "print(f\"{(time()-t0)=}\")"
   ]
  },
  {
   "cell_type": "code",
   "execution_count": null,
   "metadata": {},
   "outputs": [],
   "source": []
  },
  {
   "cell_type": "code",
   "execution_count": 21,
   "metadata": {},
   "outputs": [
    {
     "data": {
      "text/plain": [
       "tensor(1.2578e-06, device='cuda:0', dtype=torch.float64)"
      ]
     },
     "execution_count": 21,
     "metadata": {},
     "output_type": "execute_result"
    }
   ],
   "source": [
    "data[:,:,1].mean()"
   ]
  },
  {
   "cell_type": "code",
   "execution_count": 14,
   "metadata": {},
   "outputs": [
    {
     "name": "stderr",
     "output_type": "stream",
     "text": [
      "2024-11-02 12:00:42,323 - INFO - Shuffled all file paths. Total paths: 5\n"
     ]
    }
   ],
   "source": [
    "gen.reinit()\n",
    "batches = gen.get_batches()"
   ]
  },
  {
   "cell_type": "code",
   "execution_count": 15,
   "metadata": {},
   "outputs": [
    {
     "name": "stdout",
     "output_type": "stream",
     "text": [
      "#264, data[:2]=tensor([[[-0.0670, -0.6750,  0.2762, -0.9628,  0.2743],\n",
      "         [ 0.1063, -0.5858,  0.2182, -0.9459,  0.1556],\n",
      "         [ 0.1961, -0.5825,  0.2343, -0.8963,  0.1920],\n",
      "         [-0.0646, -0.3323,  0.2238, -0.9116,  0.0998],\n",
      "         [-0.0799,  0.4308,  0.8912, -0.3689,  0.1259],\n",
      "         [-0.0668,  0.4438,  0.9175, -0.4207,  0.1719],\n",
      "         [-0.0713,  0.5516,  0.9367, -0.3349, -0.0794],\n",
      "         [-0.0744,  0.7905,  0.9628, -0.3374, -0.1428],\n",
      "         [    nan,     nan,     nan,     nan,     nan],\n",
      "         [    nan,     nan,     nan,     nan,     nan],\n",
      "         [    nan,     nan,     nan,     nan,     nan],\n",
      "         [    nan,     nan,     nan,     nan,     nan],\n",
      "         [    nan,     nan,     nan,     nan,     nan],\n",
      "         [    nan,     nan,     nan,     nan,     nan],\n",
      "         [    nan,     nan,     nan,     nan,     nan],\n",
      "         [    nan,     nan,     nan,     nan,     nan],\n",
      "         [    nan,     nan,     nan,     nan,     nan],\n",
      "         [    nan,     nan,     nan,     nan,     nan],\n",
      "         [    nan,     nan,     nan,     nan,     nan],\n",
      "         [    nan,     nan,     nan,     nan,     nan],\n",
      "         [    nan,     nan,     nan,     nan,     nan],\n",
      "         [    nan,     nan,     nan,     nan,     nan],\n",
      "         [    nan,     nan,     nan,     nan,     nan],\n",
      "         [    nan,     nan,     nan,     nan,     nan],\n",
      "         [    nan,     nan,     nan,     nan,     nan],\n",
      "         [    nan,     nan,     nan,     nan,     nan],\n",
      "         [    nan,     nan,     nan,     nan,     nan],\n",
      "         [    nan,     nan,     nan,     nan,     nan],\n",
      "         [    nan,     nan,     nan,     nan,     nan],\n",
      "         [    nan,     nan,     nan,     nan,     nan],\n",
      "         [    nan,     nan,     nan,     nan,     nan]],\n",
      "\n",
      "        [[ 0.0167, -1.2176, -0.3101, -0.9611,  0.1897],\n",
      "         [-0.0271, -1.0239, -0.3050, -0.9586,  0.1477],\n",
      "         [-0.0821, -0.3222,  0.5623, -0.7218,  0.1560],\n",
      "         [-0.0771,  0.5759,  0.9390,  0.0040, -0.0964],\n",
      "         [-0.0674,  0.7981,  1.0100, -0.0065, -0.2058],\n",
      "         [-0.0762,  1.1738,  0.6420,  0.6847, -0.1494],\n",
      "         [    nan,     nan,     nan,     nan,     nan],\n",
      "         [    nan,     nan,     nan,     nan,     nan],\n",
      "         [    nan,     nan,     nan,     nan,     nan],\n",
      "         [    nan,     nan,     nan,     nan,     nan],\n",
      "         [    nan,     nan,     nan,     nan,     nan],\n",
      "         [    nan,     nan,     nan,     nan,     nan],\n",
      "         [    nan,     nan,     nan,     nan,     nan],\n",
      "         [    nan,     nan,     nan,     nan,     nan],\n",
      "         [    nan,     nan,     nan,     nan,     nan],\n",
      "         [    nan,     nan,     nan,     nan,     nan],\n",
      "         [    nan,     nan,     nan,     nan,     nan],\n",
      "         [    nan,     nan,     nan,     nan,     nan],\n",
      "         [    nan,     nan,     nan,     nan,     nan],\n",
      "         [    nan,     nan,     nan,     nan,     nan],\n",
      "         [    nan,     nan,     nan,     nan,     nan],\n",
      "         [    nan,     nan,     nan,     nan,     nan],\n",
      "         [    nan,     nan,     nan,     nan,     nan],\n",
      "         [    nan,     nan,     nan,     nan,     nan],\n",
      "         [    nan,     nan,     nan,     nan,     nan],\n",
      "         [    nan,     nan,     nan,     nan,     nan],\n",
      "         [    nan,     nan,     nan,     nan,     nan],\n",
      "         [    nan,     nan,     nan,     nan,     nan],\n",
      "         [    nan,     nan,     nan,     nan,     nan],\n",
      "         [    nan,     nan,     nan,     nan,     nan],\n",
      "         [    nan,     nan,     nan,     nan,     nan]]])\n",
      "targets[:2]=tensor([[False],\n",
      "        [False]])\n"
     ]
    }
   ],
   "source": [
    "for i, batch in enumerate(batches):\n",
    "    clear_output()\n",
    "    data, targets = batch\n",
    "    print(f\"#{i}, {data[:2]=}\\n{targets[:2]=}\")"
   ]
  },
  {
   "cell_type": "code",
   "execution_count": null,
   "metadata": {},
   "outputs": [],
   "source": []
  }
 ],
 "metadata": {
  "kernelspec": {
   "display_name": "Python 3",
   "language": "python",
   "name": "python3"
  },
  "language_info": {
   "codemirror_mode": {
    "name": "ipython",
    "version": 3
   },
   "file_extension": ".py",
   "mimetype": "text/x-python",
   "name": "python",
   "nbconvert_exporter": "python",
   "pygments_lexer": "ipython3",
   "version": "3.10.13"
  }
 },
 "nbformat": 4,
 "nbformat_minor": 2
}
