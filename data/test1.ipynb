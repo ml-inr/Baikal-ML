{
 "cells": [
  {
   "cell_type": "code",
   "execution_count": 2,
   "metadata": {},
   "outputs": [],
   "source": [
    "import sys\n",
    "PROJECT_PATH = \"/home/albert/Baikal-ML/\" #insert your project path\n",
    "sys.path.append(f\"{PROJECT_PATH}\")\n",
    "from data.root_manager.root_reader import RootReader\n",
    "import uproot as ur"
   ]
  },
  {
   "cell_type": "code",
   "execution_count": 3,
   "metadata": {},
   "outputs": [
    {
     "name": "stdout",
     "output_type": "stream",
     "text": [
      "0\n",
      "[109  78  86 ...  72  88  67]\n"
     ]
    }
   ],
   "source": [
    "with ur.open('./mock_MC_2020/muatm/root/all/66470.root') as rf:\n",
    "    rr = RootReader(rf)\n",
    "    print(rr.start)\n",
    "    print(rr.PulsesN.array(library=\"np\"))\n",
    "    df_ev = rr.read_events_as_df()\n",
    "    df_puls = rr.read_pulses_as_df()\n",
    "    df_muons = rr.read_ind_mu_as_df()"
   ]
  },
  {
   "cell_type": "code",
   "execution_count": 4,
   "metadata": {},
   "outputs": [
    {
     "data": {
      "text/html": [
       "<div>\n",
       "<style scoped>\n",
       "    .dataframe tbody tr th:only-of-type {\n",
       "        vertical-align: middle;\n",
       "    }\n",
       "\n",
       "    .dataframe tbody tr th {\n",
       "        vertical-align: top;\n",
       "    }\n",
       "\n",
       "    .dataframe thead th {\n",
       "        text-align: right;\n",
       "    }\n",
       "</style>\n",
       "<table border=\"1\" class=\"dataframe\">\n",
       "  <thead>\n",
       "    <tr style=\"text-align: right;\">\n",
       "      <th></th>\n",
       "      <th>PulsesN</th>\n",
       "      <th>PrimeTheta</th>\n",
       "      <th>PrimePhi</th>\n",
       "      <th>PrimeEn</th>\n",
       "      <th>PrimeNuclN</th>\n",
       "      <th>ResponseMuN</th>\n",
       "      <th>BundleEnReg</th>\n",
       "      <th>EventWeight</th>\n",
       "      <th>ev_id</th>\n",
       "    </tr>\n",
       "  </thead>\n",
       "  <tbody>\n",
       "    <tr>\n",
       "      <th>0</th>\n",
       "      <td>109</td>\n",
       "      <td>162.104385</td>\n",
       "      <td>297.663574</td>\n",
       "      <td>363.0784</td>\n",
       "      <td>402.0</td>\n",
       "      <td>12.0</td>\n",
       "      <td>10148.074219</td>\n",
       "      <td>1.0</td>\n",
       "      <td>0</td>\n",
       "    </tr>\n",
       "    <tr>\n",
       "      <th>1</th>\n",
       "      <td>78</td>\n",
       "      <td>120.709091</td>\n",
       "      <td>68.117889</td>\n",
       "      <td>212.226227</td>\n",
       "      <td>402.0</td>\n",
       "      <td>6.0</td>\n",
       "      <td>2933.919922</td>\n",
       "      <td>1.0</td>\n",
       "      <td>1</td>\n",
       "    </tr>\n",
       "    <tr>\n",
       "      <th>2</th>\n",
       "      <td>86</td>\n",
       "      <td>176.489609</td>\n",
       "      <td>334.958191</td>\n",
       "      <td>36.855133</td>\n",
       "      <td>14.0</td>\n",
       "      <td>3.0</td>\n",
       "      <td>2063.121338</td>\n",
       "      <td>1.0</td>\n",
       "      <td>2</td>\n",
       "    </tr>\n",
       "  </tbody>\n",
       "</table>\n",
       "</div>"
      ],
      "text/plain": [
       "  PulsesN  PrimeTheta    PrimePhi     PrimeEn PrimeNuclN ResponseMuN  \\\n",
       "0     109  162.104385  297.663574    363.0784      402.0        12.0   \n",
       "1      78  120.709091   68.117889  212.226227      402.0         6.0   \n",
       "2      86  176.489609  334.958191   36.855133       14.0         3.0   \n",
       "\n",
       "    BundleEnReg EventWeight  ev_id  \n",
       "0  10148.074219         1.0      0  \n",
       "1   2933.919922         1.0      1  \n",
       "2   2063.121338         1.0      2  "
      ]
     },
     "execution_count": 4,
     "metadata": {},
     "output_type": "execute_result"
    }
   ],
   "source": [
    "df_ev.head(3)"
   ]
  },
  {
   "cell_type": "code",
   "execution_count": 5,
   "metadata": {},
   "outputs": [
    {
     "data": {
      "text/html": [
       "<div>\n",
       "<style scoped>\n",
       "    .dataframe tbody tr th:only-of-type {\n",
       "        vertical-align: middle;\n",
       "    }\n",
       "\n",
       "    .dataframe tbody tr th {\n",
       "        vertical-align: top;\n",
       "    }\n",
       "\n",
       "    .dataframe thead th {\n",
       "        text-align: right;\n",
       "    }\n",
       "</style>\n",
       "<table border=\"1\" class=\"dataframe\">\n",
       "  <thead>\n",
       "    <tr style=\"text-align: right;\">\n",
       "      <th></th>\n",
       "      <th>PulsesChID</th>\n",
       "      <th>PulsesAmpl</th>\n",
       "      <th>PulsesTime</th>\n",
       "      <th>PulsesFlg</th>\n",
       "      <th>ev_id</th>\n",
       "    </tr>\n",
       "  </thead>\n",
       "  <tbody>\n",
       "    <tr>\n",
       "      <th>106</th>\n",
       "      <td>2014</td>\n",
       "      <td>2.292498</td>\n",
       "      <td>-1182.611084</td>\n",
       "      <td>0</td>\n",
       "      <td>0</td>\n",
       "    </tr>\n",
       "    <tr>\n",
       "      <th>38</th>\n",
       "      <td>1854</td>\n",
       "      <td>0.992918</td>\n",
       "      <td>-1180.108398</td>\n",
       "      <td>0</td>\n",
       "      <td>0</td>\n",
       "    </tr>\n",
       "    <tr>\n",
       "      <th>4</th>\n",
       "      <td>1749</td>\n",
       "      <td>0.814583</td>\n",
       "      <td>-1140.909668</td>\n",
       "      <td>0</td>\n",
       "      <td>0</td>\n",
       "    </tr>\n",
       "  </tbody>\n",
       "</table>\n",
       "</div>"
      ],
      "text/plain": [
       "     PulsesChID  PulsesAmpl   PulsesTime  PulsesFlg  ev_id\n",
       "106        2014    2.292498 -1182.611084          0      0\n",
       "38         1854    0.992918 -1180.108398          0      0\n",
       "4          1749    0.814583 -1140.909668          0      0"
      ]
     },
     "execution_count": 5,
     "metadata": {},
     "output_type": "execute_result"
    }
   ],
   "source": [
    "df_puls.head(3)"
   ]
  },
  {
   "cell_type": "code",
   "execution_count": 6,
   "metadata": {},
   "outputs": [
    {
     "data": {
      "text/html": [
       "<div>\n",
       "<style scoped>\n",
       "    .dataframe tbody tr th:only-of-type {\n",
       "        vertical-align: middle;\n",
       "    }\n",
       "\n",
       "    .dataframe tbody tr th {\n",
       "        vertical-align: top;\n",
       "    }\n",
       "\n",
       "    .dataframe thead th {\n",
       "        text-align: right;\n",
       "    }\n",
       "</style>\n",
       "<table border=\"1\" class=\"dataframe\">\n",
       "  <thead>\n",
       "    <tr style=\"text-align: right;\">\n",
       "      <th></th>\n",
       "      <th>RespMuTheta</th>\n",
       "      <th>RespMuPhi</th>\n",
       "      <th>RespMuTrackX</th>\n",
       "      <th>RespMuTrackY</th>\n",
       "      <th>RespMuTrackZ</th>\n",
       "      <th>RespMuDelay</th>\n",
       "      <th>RespMuEn</th>\n",
       "      <th>ev_id</th>\n",
       "    </tr>\n",
       "  </thead>\n",
       "  <tbody>\n",
       "    <tr>\n",
       "      <th>0</th>\n",
       "      <td>162.104385</td>\n",
       "      <td>297.663574</td>\n",
       "      <td>-220.355331</td>\n",
       "      <td>33.68158</td>\n",
       "      <td>-42.668026</td>\n",
       "      <td>0.0</td>\n",
       "      <td>253.277191</td>\n",
       "      <td>0</td>\n",
       "    </tr>\n",
       "    <tr>\n",
       "      <th>1</th>\n",
       "      <td>162.104385</td>\n",
       "      <td>297.663574</td>\n",
       "      <td>-185.987885</td>\n",
       "      <td>52.38208</td>\n",
       "      <td>-42.863968</td>\n",
       "      <td>0.0</td>\n",
       "      <td>-34.945328</td>\n",
       "      <td>0</td>\n",
       "    </tr>\n",
       "    <tr>\n",
       "      <th>2</th>\n",
       "      <td>162.104385</td>\n",
       "      <td>297.663574</td>\n",
       "      <td>-252.868805</td>\n",
       "      <td>26.32620</td>\n",
       "      <td>-45.438789</td>\n",
       "      <td>0.0</td>\n",
       "      <td>21.909910</td>\n",
       "      <td>0</td>\n",
       "    </tr>\n",
       "  </tbody>\n",
       "</table>\n",
       "</div>"
      ],
      "text/plain": [
       "   RespMuTheta   RespMuPhi  RespMuTrackX  RespMuTrackY  RespMuTrackZ  \\\n",
       "0   162.104385  297.663574   -220.355331      33.68158    -42.668026   \n",
       "1   162.104385  297.663574   -185.987885      52.38208    -42.863968   \n",
       "2   162.104385  297.663574   -252.868805      26.32620    -45.438789   \n",
       "\n",
       "   RespMuDelay    RespMuEn  ev_id  \n",
       "0          0.0  253.277191      0  \n",
       "1          0.0  -34.945328      0  \n",
       "2          0.0   21.909910      0  "
      ]
     },
     "execution_count": 6,
     "metadata": {},
     "output_type": "execute_result"
    }
   ],
   "source": [
    "df_muons.head(3)"
   ]
  },
  {
   "cell_type": "code",
   "execution_count": null,
   "metadata": {},
   "outputs": [],
   "source": []
  }
 ],
 "metadata": {
  "kernelspec": {
   "display_name": "Python 3",
   "language": "python",
   "name": "python3"
  },
  "language_info": {
   "codemirror_mode": {
    "name": "ipython",
    "version": 3
   },
   "file_extension": ".py",
   "mimetype": "text/x-python",
   "name": "python",
   "nbconvert_exporter": "python",
   "pygments_lexer": "ipython3",
   "version": "3.10.15"
  }
 },
 "nbformat": 4,
 "nbformat_minor": 2
}
