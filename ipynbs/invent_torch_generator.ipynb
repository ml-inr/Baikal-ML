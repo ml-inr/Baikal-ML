{
 "cells": [
  {
   "cell_type": "code",
   "execution_count": 1,
   "metadata": {},
   "outputs": [],
   "source": [
    "import os\n",
    "import sys\n",
    "PROJECT_PATH = \"/home/albert/Baikal-ML/\" #insert your project path\n",
    "sys.path.append(f\"{PROJECT_PATH}\")\n",
    "from time import time\n",
    "\n",
    "import numpy as np\n",
    "import uproot as ur\n",
    "import polars as pl\n",
    "import pandas as pd\n",
    "import pyarrow.parquet as pq\n",
    "import pyarrow.dataset as pyarr_ds\n",
    "\n",
    "from data.settings import GeneratorConfig\n",
    "from data.generator import TrainGenertor"
   ]
  },
  {
   "cell_type": "code",
   "execution_count": 2,
   "metadata": {},
   "outputs": [],
   "source": [
    "path_mu = f'/net/62/home3/ivkhar/Baikal/data/initial_data/MC_2020/muatm/root/all/'\n",
    "path_nuatm = f'/net/62/home3/ivkhar/Baikal/data/initial_data/MC_2020/nuatm/root/all/'\n",
    "path_nu2 = f'/net/62/home3/ivkhar/Baikal/data/initial_data/MC_2020/nue2_100pev/root/all/'\n",
    "\n",
    "def explore_paths(p: str):\n",
    "    files = os.listdir(f'{p}')\n",
    "    return sorted([f\"{p}{file}\" for file in files])"
   ]
  },
  {
   "cell_type": "code",
   "execution_count": 3,
   "metadata": {},
   "outputs": [],
   "source": [
    "all_path_mu = explore_paths(path_mu)\n",
    "all_nuatm_paths = explore_paths(path_nuatm)\n",
    "all_nu2_paths = explore_paths(path_nu2)"
   ]
  },
  {
   "cell_type": "code",
   "execution_count": 4,
   "metadata": {},
   "outputs": [],
   "source": [
    "train_sets = GeneratorConfig(\n",
    "    all_path_mu[:800],\n",
    "    all_nuatm_paths[:1000],\n",
    "    all_nu2_paths[:60]\n",
    "    )"
   ]
  },
  {
   "cell_type": "code",
   "execution_count": 5,
   "metadata": {},
   "outputs": [
    {
     "name": "stdout",
     "output_type": "stream",
     "text": [
      "Range is too big for the files. Set start=0 and stop = min_num_of_files\n"
     ]
    }
   ],
   "source": [
    "gen = TrainGenertor(train_sets)"
   ]
  },
  {
   "cell_type": "code",
   "execution_count": 6,
   "metadata": {},
   "outputs": [
    {
     "data": {
      "text/plain": [
       "(10829936.0, 9912860.0, 884944.0)"
      ]
     },
     "execution_count": 6,
     "metadata": {},
     "output_type": "execute_result"
    }
   ],
   "source": [
    "gen.mu_num_estimated, gen.nuatm_num_estimated, gen.nu2_num_estimated"
   ]
  },
  {
   "cell_type": "code",
   "execution_count": 7,
   "metadata": {},
   "outputs": [
    {
     "data": {
      "text/plain": [
       "(1.0029757902625385, 11.201680558317815)"
      ]
     },
     "execution_count": 7,
     "metadata": {},
     "output_type": "execute_result"
    }
   ],
   "source": [
    "gen.mu_nu_ratio, gen.nuatm_nu2_ratio"
   ]
  },
  {
   "cell_type": "code",
   "execution_count": 8,
   "metadata": {},
   "outputs": [
    {
     "data": {
      "text/plain": [
       "(0.4209888967118046, 0.25229468476080913, 0.8293758200562324)"
      ]
     },
     "execution_count": 8,
     "metadata": {},
     "output_type": "execute_result"
    }
   ],
   "source": [
    "gen.mu_filter_koef, gen.nuatm_filter_koef, gen.nu2_filter_koef"
   ]
  },
  {
   "cell_type": "code",
   "execution_count": null,
   "metadata": {},
   "outputs": [],
   "source": []
  },
  {
   "cell_type": "code",
   "execution_count": null,
   "metadata": {},
   "outputs": [],
   "source": []
  },
  {
   "cell_type": "code",
   "execution_count": 10,
   "metadata": {},
   "outputs": [],
   "source": [
    "def get_chunk_of_paths(path_to_roots=f'/net/62/home3/ivkhar/Baikal/data/initial_data/MC_2020/', parti='muatm', num=20):\n",
    "    path_to_roots = f\"{path_to_roots}{parti}/root/all/\"\n",
    "    files = os.listdir(f'{path_to_roots}')[0:num]\n",
    "    return sorted([f\"{path_to_roots}{file}\" for file in files])"
   ]
  },
  {
   "cell_type": "code",
   "execution_count": 11,
   "metadata": {},
   "outputs": [
    {
     "data": {
      "text/plain": [
       "['/net/62/home3/ivkhar/Baikal/data/initial_data/MC_2020/muatm/root/all/10436.root',\n",
       " '/net/62/home3/ivkhar/Baikal/data/initial_data/MC_2020/muatm/root/all/10475.root',\n",
       " '/net/62/home3/ivkhar/Baikal/data/initial_data/MC_2020/muatm/root/all/12586.root',\n",
       " '/net/62/home3/ivkhar/Baikal/data/initial_data/MC_2020/muatm/root/all/12648.root',\n",
       " '/net/62/home3/ivkhar/Baikal/data/initial_data/MC_2020/muatm/root/all/12863.root',\n",
       " '/net/62/home3/ivkhar/Baikal/data/initial_data/MC_2020/muatm/root/all/13628.root',\n",
       " '/net/62/home3/ivkhar/Baikal/data/initial_data/MC_2020/muatm/root/all/24291.root',\n",
       " '/net/62/home3/ivkhar/Baikal/data/initial_data/MC_2020/muatm/root/all/24303.root',\n",
       " '/net/62/home3/ivkhar/Baikal/data/initial_data/MC_2020/muatm/root/all/25314.root',\n",
       " '/net/62/home3/ivkhar/Baikal/data/initial_data/MC_2020/muatm/root/all/25895.root']"
      ]
     },
     "execution_count": 11,
     "metadata": {},
     "output_type": "execute_result"
    }
   ],
   "source": [
    "get_chunk_of_paths()[0:10]"
   ]
  },
  {
   "cell_type": "code",
   "execution_count": null,
   "metadata": {},
   "outputs": [],
   "source": []
  }
 ],
 "metadata": {
  "kernelspec": {
   "display_name": "Python 3",
   "language": "python",
   "name": "python3"
  },
  "language_info": {
   "codemirror_mode": {
    "name": "ipython",
    "version": 3
   },
   "file_extension": ".py",
   "mimetype": "text/x-python",
   "name": "python",
   "nbconvert_exporter": "python",
   "pygments_lexer": "ipython3",
   "version": "3.10.15"
  }
 },
 "nbformat": 4,
 "nbformat_minor": 2
}
