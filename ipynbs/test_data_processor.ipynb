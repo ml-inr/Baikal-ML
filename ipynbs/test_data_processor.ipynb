{
 "cells": [
  {
   "cell_type": "code",
   "execution_count": 5,
   "metadata": {},
   "outputs": [],
   "source": [
    "import os\n",
    "import sys\n",
    "PROJECT_PATH = \"/home/albert/Baikal-ML/\" #insert your project path\n",
    "sys.path.append(f\"{PROJECT_PATH}\")\n",
    "from time import time\n",
    "\n",
    "import numpy as np\n",
    "import uproot as ur\n",
    "import polars as pl\n",
    "\n",
    "from data.root_manager.reader.root_reader import RootReader\n",
    "from data.root_manager.processor import Processor"
   ]
  },
  {
   "cell_type": "markdown",
   "metadata": {},
   "source": [
    "# Load data as dataframe"
   ]
  },
  {
   "cell_type": "markdown",
   "metadata": {},
   "source": [
    "## Muatm"
   ]
  },
  {
   "cell_type": "code",
   "execution_count": 6,
   "metadata": {},
   "outputs": [],
   "source": [
    "path_to_roots = f'/net/62/home3/ivkhar/Baikal/data/initial_data/MC_2020/muatm/root/all/'\n",
    "\n",
    "files = os.listdir(f'{path_to_roots}')[0:100]\n",
    "paths = sorted([f\"{path_to_roots}{file}\" for file in files])\n",
    "proc = Processor(paths)"
   ]
  },
  {
   "cell_type": "code",
   "execution_count": 7,
   "metadata": {},
   "outputs": [
    {
     "data": {
      "text/html": [
       "<div><style>\n",
       ".dataframe > thead > tr,\n",
       ".dataframe > tbody > tr {\n",
       "  text-align: right;\n",
       "  white-space: pre-wrap;\n",
       "}\n",
       "</style>\n",
       "<small>shape: (7, 7)</small><table border=\"1\" class=\"dataframe\"><thead><tr><th>cluster_id</th><th>minX</th><th>maxX</th><th>minY</th><th>maxY</th><th>minZ</th><th>maxZ</th></tr><tr><td>i8</td><td>f64</td><td>f64</td><td>f64</td><td>f64</td><td>f64</td><td>f64</td></tr></thead><tbody><tr><td>3</td><td>-59.523628</td><td>56.783379</td><td>-54.989467</td><td>58.427518</td><td>-262.924357</td><td>263.136678</td></tr><tr><td>0</td><td>-62.23724</td><td>62.309757</td><td>-55.696244</td><td>58.102733</td><td>-263.517937</td><td>267.422096</td></tr><tr><td>6</td><td>-58.665289</td><td>53.101755</td><td>-57.282748</td><td>58.085256</td><td>-263.1386</td><td>263.128398</td></tr><tr><td>1</td><td>-54.699745</td><td>60.010254</td><td>-57.000874</td><td>54.771118</td><td>-264.068582</td><td>265.560385</td></tr><tr><td>5</td><td>-55.225517</td><td>60.158501</td><td>-57.256618</td><td>57.560368</td><td>-263.652494</td><td>263.087466</td></tr><tr><td>4</td><td>-58.35012</td><td>53.961874</td><td>-55.663527</td><td>58.976503</td><td>-263.084486</td><td>263.008531</td></tr><tr><td>2</td><td>-58.110868</td><td>57.154129</td><td>-56.806616</td><td>58.808374</td><td>-263.008005</td><td>262.921042</td></tr></tbody></table></div>"
      ],
      "text/plain": [
       "shape: (7, 7)\n",
       "┌────────────┬────────────┬───────────┬────────────┬───────────┬─────────────┬────────────┐\n",
       "│ cluster_id ┆ minX       ┆ maxX      ┆ minY       ┆ maxY      ┆ minZ        ┆ maxZ       │\n",
       "│ ---        ┆ ---        ┆ ---       ┆ ---        ┆ ---       ┆ ---         ┆ ---        │\n",
       "│ i8         ┆ f64        ┆ f64       ┆ f64        ┆ f64       ┆ f64         ┆ f64        │\n",
       "╞════════════╪════════════╪═══════════╪════════════╪═══════════╪═════════════╪════════════╡\n",
       "│ 3          ┆ -59.523628 ┆ 56.783379 ┆ -54.989467 ┆ 58.427518 ┆ -262.924357 ┆ 263.136678 │\n",
       "│ 0          ┆ -62.23724  ┆ 62.309757 ┆ -55.696244 ┆ 58.102733 ┆ -263.517937 ┆ 267.422096 │\n",
       "│ 6          ┆ -58.665289 ┆ 53.101755 ┆ -57.282748 ┆ 58.085256 ┆ -263.1386   ┆ 263.128398 │\n",
       "│ 1          ┆ -54.699745 ┆ 60.010254 ┆ -57.000874 ┆ 54.771118 ┆ -264.068582 ┆ 265.560385 │\n",
       "│ 5          ┆ -55.225517 ┆ 60.158501 ┆ -57.256618 ┆ 57.560368 ┆ -263.652494 ┆ 263.087466 │\n",
       "│ 4          ┆ -58.35012  ┆ 53.961874 ┆ -55.663527 ┆ 58.976503 ┆ -263.084486 ┆ 263.008531 │\n",
       "│ 2          ┆ -58.110868 ┆ 57.154129 ┆ -56.806616 ┆ 58.808374 ┆ -263.008005 ┆ 262.921042 │\n",
       "└────────────┴────────────┴───────────┴────────────┴───────────┴─────────────┴────────────┘"
      ]
     },
     "execution_count": 7,
     "metadata": {},
     "output_type": "execute_result"
    }
   ],
   "source": [
    "proc.OM_coords[['cluster_id', 'Xrel', 'Yrel', 'Zrel']].group_by('cluster_id').agg(\n",
    "    [\n",
    "        pl.col('Xrel').min().alias('minX'), \n",
    "        pl.col('Xrel').max().alias('maxX'),\n",
    "        pl.col('Yrel').min().alias('minY'), \n",
    "        pl.col('Yrel').max().alias('maxY'),\n",
    "        pl.col('Zrel').min().alias('minZ'), \n",
    "        pl.col('Zrel').max().alias('maxZ')\n",
    "    ]\n",
    ")"
   ]
  },
  {
   "cell_type": "code",
   "execution_count": 8,
   "metadata": {},
   "outputs": [],
   "source": [
    "mean = (264-264)/2\n",
    "std = (264+264)/2"
   ]
  },
  {
   "cell_type": "code",
   "execution_count": 9,
   "metadata": {},
   "outputs": [
    {
     "data": {
      "text/plain": [
       "0.9965434318181818"
      ]
     },
     "execution_count": 9,
     "metadata": {},
     "output_type": "execute_result"
    }
   ],
   "source": [
    "(263.087466-mean)/std"
   ]
  },
  {
   "cell_type": "code",
   "execution_count": 10,
   "metadata": {},
   "outputs": [
    {
     "name": "stdout",
     "output_type": "stream",
     "text": [
      "/net/62/home3/ivkhar/Baikal/data/initial_data/MC_2020/muatm/root/all/\n",
      "Filter koef: 0.38770790340785005\n",
      "Num of events in df: 1098884\n",
      "Num of 1024 batches: 1073.12890625\n",
      "44.63665546276701 140.3691672906672\n",
      "4.825904508155033 38.239646911621094\n",
      "-1.361567397451065e-07 249.28285217285156\n",
      "\n",
      "\n"
     ]
    }
   ],
   "source": [
    "path_to_roots = f'/net/62/home3/ivkhar/Baikal/data/initial_data/MC_2020/muatm/root/all/'\n",
    "\n",
    "for r_path in [f'/net/62/home3/ivkhar/Baikal/data/initial_data/MC_2020/muatm/root/all/', f'/net/62/home3/ivkhar/Baikal/data/initial_data/MC_2020/nuatm/root/all/', f'/net/62/home3/ivkhar/Baikal/data/initial_data/MC_2020/nue2_100pev/root/all/']:\n",
    "    files = os.listdir(f'{r_path}')[0:100]\n",
    "    paths = sorted([f\"{r_path}{file}\" for file in files])\n",
    "    proc = Processor(paths)\n",
    "    df = proc.process()\n",
    "    print(r_path)\n",
    "    print(f\"Filter koef: {proc.filter_koef}\")\n",
    "    print(f\"Num of events in df: {df.shape[0]}\")\n",
    "    print(f\"Num of 1024 batches: {df.shape[0]/1024}\")\n",
    "    print(df['Zrel'].explode().mean(), df['Zrel'].explode().std())\n",
    "    print(df['PulsesAmpl'].explode().mean(), df['PulsesAmpl'].explode().std())\n",
    "    print(df['PulsesTime'].explode().mean(), df['PulsesTime'].explode().std())\n",
    "    print('\\n')\n",
    "    break"
   ]
  },
  {
   "cell_type": "code",
   "execution_count": 18,
   "metadata": {},
   "outputs": [
    {
     "data": {
      "text/html": [
       "<div><style>\n",
       ".dataframe > thead > tr,\n",
       ".dataframe > tbody > tr {\n",
       "  text-align: right;\n",
       "  white-space: pre-wrap;\n",
       "}\n",
       "</style>\n",
       "<small>shape: (1_098_884, 33)</small><table border=\"1\" class=\"dataframe\"><thead><tr><th>PulsesN</th><th>PrimeTheta</th><th>PrimePhi</th><th>PrimeEn</th><th>PrimeNuclN</th><th>ResponseMuN</th><th>BundleEnReg</th><th>EventWeight</th><th>ev_id</th><th>cluster_id</th><th>PulsesChID</th><th>PulsesAmpl</th><th>PulsesTime</th><th>PulsesFlg</th><th>is_signal</th><th>mu_local_id</th><th>X</th><th>Y</th><th>Z</th><th>Xrel</th><th>Yrel</th><th>Zrel</th><th>num_signal_hits</th><th>num_signal_strings</th><th>RespMuTheta</th><th>RespMuPhi</th><th>RespMuTrackX</th><th>RespMuTrackY</th><th>RespMuTrackZ</th><th>RespMuDelay</th><th>RespMuEn</th><th>mu_local_id_for_mu</th><th>nu_induced</th></tr><tr><td>i32</td><td>f32</td><td>f32</td><td>f32</td><td>i32</td><td>i32</td><td>f32</td><td>f32</td><td>str</td><td>i8</td><td>list[i16]</td><td>list[f32]</td><td>list[f32]</td><td>list[i32]</td><td>list[bool]</td><td>list[i16]</td><td>list[f64]</td><td>list[f64]</td><td>list[f64]</td><td>list[f64]</td><td>list[f64]</td><td>list[f64]</td><td>i16</td><td>i8</td><td>list[f32]</td><td>list[f32]</td><td>list[f32]</td><td>list[f32]</td><td>list[f32]</td><td>list[f32]</td><td>list[f32]</td><td>list[i16]</td><td>bool</td></tr></thead><tbody><tr><td>144</td><td>142.48761</td><td>205.069519</td><td>264.505249</td><td>402</td><td>12</td><td>11177.198242</td><td>1.0</td><td>&quot;muatm_10170_0&quot;</td><td>2</td><td>[611, 645, … 785]</td><td>[3.161644, 0.700443, … 8.2391]</td><td>[-237.622498, -197.886414, … 166.245117]</td><td>[-999999, -999998, … 2000011]</td><td>[true, true, … true]</td><td>[0, 1, … 10]</td><td>[-37.112637, 4.859355, … -103.789627]</td><td>[348.33667, 321.206665, … 284.666687]</td><td>[264.033905, 233.863815, … 173.633865]</td><td>[8.566122, 50.538114, … -58.110868]</td><td>[58.808374, 31.67837, … -4.861609]</td><td>[262.921042, 232.750952, … 172.521002]</td><td>19</td><td>5</td><td>[142.48761, 142.48761, … 142.48761]</td><td>[205.069519, 205.069519, … 205.069519]</td><td>[-185.562256, -140.511734, … -193.940186]</td><td>[273.968506, 259.521942, … 239.393097]</td><td>[39.915855, 13.289016, … 56.987972]</td><td>[0.0, 0.0, … 0.0]</td><td>[106.167679, 25.54468, … 992.909485]</td><td>[0, 1, … 11]</td><td>false</td></tr><tr><td>144</td><td>142.48761</td><td>205.069519</td><td>264.505249</td><td>402</td><td>12</td><td>11177.198242</td><td>1.0</td><td>&quot;muatm_10170_0&quot;</td><td>6</td><td>[1782, 1784, … 1916]</td><td>[1.108315, 1.17832, … 1.1898]</td><td>[-358.810791, -352.71582, … 279.519775]</td><td>[-999991, 2000006, … -999994]</td><td>[true, true, … true]</td><td>[8, 5, … 5]</td><td>[-222.545593, -222.545593, … -330.527649]</td><td>[177.842667, 177.842667, … 142.657669]</td><td>[8.645859, 38.677891, … -141.365128]</td><td>[49.316767, 49.316767, … -58.665289]</td><td>[30.902242, 30.902242, … -4.282756]</td><td>[7.457424, 37.489456, … -142.553563]</td><td>12</td><td>4</td><td>[142.48761, 142.48761, … 142.48761]</td><td>[205.069519, 205.069519, … 205.069519]</td><td>[-185.562256, -140.511734, … -193.940186]</td><td>[273.968506, 259.521942, … 239.393097]</td><td>[39.915855, 13.289016, … 56.987972]</td><td>[0.0, 0.0, … 0.0]</td><td>[106.167679, 25.54468, … 992.909485]</td><td>[0, 1, … 11]</td><td>false</td></tr><tr><td>75</td><td>131.766022</td><td>169.785034</td><td>164.788055</td><td>402</td><td>8</td><td>6046.333496</td><td>1.0</td><td>&quot;muatm_10170_4&quot;</td><td>4</td><td>[1222, 1221, … 1400]</td><td>[28.288467, 39.035229, … 0.921796]</td><td>[-198.586182, -154.365112, … 128.508545]</td><td>[-999995, 3000006, … -999998]</td><td>[true, true, … true]</td><td>[4, 5, … 1]</td><td>[113.600372, 113.600372, … 20.216366]</td><td>[-270.246277, -270.246277, … -258.987305]</td><td>[246.2659, 231.263855, … 216.71582]</td><td>[52.391874, 52.391874, … -40.992133]</td><td>[31.345537, 31.345537, … 42.604509]</td><td>[247.516558, 232.514513, … 217.966478]</td><td>10</td><td>4</td><td>[131.766022, 131.766022, … 131.766022]</td><td>[169.785034, 169.785034, … 169.785034]</td><td>[-97.941811, -115.418037, … -91.434341]</td><td>[-235.658493, -229.785095, … -235.184021]</td><td>[61.136772, 81.562347, … 54.059608]</td><td>[0.0, 0.0, … 0.0]</td><td>[148.718048, -16.340019, … 212.316788]</td><td>[0, 1, … 7]</td><td>false</td></tr><tr><td>58</td><td>128.333176</td><td>201.290375</td><td>458.393524</td><td>1608</td><td>9</td><td>10194.357422</td><td>1.0</td><td>&quot;muatm_10170_5&quot;</td><td>5</td><td>[1511, 1508, … 1648]</td><td>[4.191798, 0.845306, … 1.673498]</td><td>[-303.709351, -212.801392, … 269.435303]</td><td>[-999993, -999995, … -999994]</td><td>[true, true, … true]</td><td>[6, 4, … 5]</td><td>[-221.060638, -221.060638, … -312.965637]</td><td>[-93.301323, -93.301323, … -161.272308]</td><td>[262.868866, 217.843903, … 157.95285]</td><td>[36.679482, 36.679482, … -55.225517]</td><td>[44.715374, 44.715374, … -23.255611]</td><td>[262.889498, 217.864535, … 157.973483]</td><td>9</td><td>4</td><td>[128.333176, 128.333176, … 128.333176]</td><td>[201.290375, 201.290375, … 201.290375]</td><td>[-237.817795, -185.393295, … -197.386108]</td><td>[-82.297729, -59.120495, … -80.984665]</td><td>[318.035919, 245.615768, … 269.78833]</td><td>[0.0, 0.0, … 0.0]</td><td>[149.072189, 579.408508, … 220.847931]</td><td>[0, 1, … 8]</td><td>false</td></tr><tr><td>72</td><td>132.546112</td><td>212.479462</td><td>100.837494</td><td>14</td><td>5</td><td>9990.177734</td><td>1.0</td><td>&quot;muatm_10170_6&quot;</td><td>4</td><td>[1212, 1211, … 1316]</td><td>[1.354942, 1.272846, … 2.016235]</td><td>[-163.962158, -116.53125, … 255.936279]</td><td>[-999995, -999995, … -999997]</td><td>[true, true, … true]</td><td>[4, 4, … 2]</td><td>[113.600372, 113.600372, … 30.722363]</td><td>[-270.246277, -270.246277, … -351.562286]</td><td>[96.245857, 81.237846, … 36.293865]</td><td>[52.391874, 52.391874, … -30.486136]</td><td>[31.345537, 31.345537, … -49.970472]</td><td>[97.496515, 82.488504, … 37.544523]</td><td>12</td><td>4</td><td>[132.546112, 132.546112, … 132.546112]</td><td>[212.479462, 212.479462, … 212.479462]</td><td>[116.5373, 91.099106, … 94.215797]</td><td>[-335.362793, -353.112427, … -275.277374]</td><td>[89.102783, 122.868599, … 74.464058]</td><td>[0.0, 0.0, … 0.0]</td><td>[7211.32959, 63.630669, … 13.769205]</td><td>[0, 1, … 4]</td><td>false</td></tr><tr><td>&hellip;</td><td>&hellip;</td><td>&hellip;</td><td>&hellip;</td><td>&hellip;</td><td>&hellip;</td><td>&hellip;</td><td>&hellip;</td><td>&hellip;</td><td>&hellip;</td><td>&hellip;</td><td>&hellip;</td><td>&hellip;</td><td>&hellip;</td><td>&hellip;</td><td>&hellip;</td><td>&hellip;</td><td>&hellip;</td><td>&hellip;</td><td>&hellip;</td><td>&hellip;</td><td>&hellip;</td><td>&hellip;</td><td>&hellip;</td><td>&hellip;</td><td>&hellip;</td><td>&hellip;</td><td>&hellip;</td><td>&hellip;</td><td>&hellip;</td><td>&hellip;</td><td>&hellip;</td><td>&hellip;</td></tr><tr><td>88</td><td>135.732285</td><td>242.884201</td><td>130.024307</td><td>14</td><td>5</td><td>1676.067383</td><td>1.0</td><td>&quot;muatm_66393_26248&quot;</td><td>1</td><td>[539, 537, … 461]</td><td>[1.187848, 0.777215, … 2.381125]</td><td>[-272.263916, -212.440918, … 143.944824]</td><td>[-999995, -999998, … -999997]</td><td>[true, true, … true]</td><td>[4, 1, … 2]</td><td>[-14.888633, -14.888633, … -43.040604]</td><td>[49.188671, 49.188671, … -37.933319]</td><td>[265.559845, 235.163818, … 172.053818]</td><td>[-23.396758, -23.396758, … -51.548729]</td><td>[54.771118, 54.771118, … -32.350873]</td><td>[265.560385, 235.164359, … 172.054358]</td><td>6</td><td>2</td><td>[135.732285, 135.732285, … 135.732285]</td><td>[242.884201, 242.884201, … 242.884201]</td><td>[-54.056206, -68.33007, … -73.457237]</td><td>[-94.642998, -70.406425, … -93.966972]</td><td>[106.130531, 91.444092, … 114.163612]</td><td>[0.0, 0.0, … 0.0]</td><td>[202.975784, -8.028586, … 72.430145]</td><td>[0, 1, … 4]</td><td>false</td></tr><tr><td>97</td><td>138.048492</td><td>295.185181</td><td>737.887512</td><td>402</td><td>12</td><td>9279.583008</td><td>1.0</td><td>&quot;muatm_66393_26251&quot;</td><td>6</td><td>[1750, 1748, … 1846]</td><td>[0.742021, 4.343427, … 2.889861]</td><td>[-314.481934, -298.639282, … 331.978882]</td><td>[-999996, -999996, … -999995]</td><td>[true, true, … true]</td><td>[3, 3, … 4]</td><td>[-261.364624, -261.364624, … -252.443604]</td><td>[205.025681, 205.025681, … 89.657677]</td><td>[69.083824, 39.032852, … -111.693146]</td><td>[10.497736, 10.497736, … 19.418756]</td><td>[58.085256, 58.085256, … -57.282748]</td><td>[67.895389, 37.844417, … -112.881581]</td><td>13</td><td>6</td><td>[138.048492, 138.048492, … 138.048492]</td><td>[295.185181, 295.185181, … 295.185181]</td><td>[-191.079163, -185.198975, … -175.614471]</td><td>[74.127159, 63.42094, … 72.655807]</td><td>[-133.386261, -122.428345, … -126.274033]</td><td>[0.0, 0.0, … 0.0]</td><td>[6.243969, 98.967827, … 488.337708]</td><td>[0, 1, … 11]</td><td>false</td></tr><tr><td>91</td><td>137.736908</td><td>234.710846</td><td>487.749908</td><td>402</td><td>6</td><td>7059.255859</td><td>1.0</td><td>&quot;muatm_66393_26252&quot;</td><td>1</td><td>[307, 344, … 408]</td><td>[1.18957, 0.97877, … 0.794251]</td><td>[-327.007202, -293.919434, … 168.829346]</td><td>[-999999, 1000002, … 2000002]</td><td>[true, true, … true]</td><td>[0, 1, … 1]</td><td>[38.047363, 68.518379, … 5.670371]</td><td>[45.640663, 2.330664, … -62.583321]</td><td>[23.255859, 36.21785, … -82.488144]</td><td>[29.539238, 60.010254, … -2.837754]</td><td>[51.22311, 7.91311, … -57.000874]</td><td>[23.2564, 36.21839, … -82.487604]</td><td>10</td><td>5</td><td>[137.736908, 137.736908, … 137.736908]</td><td>[234.710846, 234.710846, … 234.710846]</td><td>[29.221642, 30.861616, … 20.36664]</td><td>[1.714092, -7.20027, … 2.797728]</td><td>[-16.612511, -10.861115, … -12.767531]</td><td>[0.0, 0.0, … 0.0]</td><td>[1885.892822, 99.879082, … 345.672791]</td><td>[0, 1, … 5]</td><td>false</td></tr><tr><td>112</td><td>129.513168</td><td>11.671997</td><td>23.987101</td><td>14</td><td>1</td><td>2037.391846</td><td>1.0</td><td>&quot;muatm_66393_26255&quot;</td><td>6</td><td>[1929, 1928, … 1777]</td><td>[0.764858, 1.223986, … 1.469671]</td><td>[-296.571411, -286.864502, … 228.251465]</td><td>[-999999, -999999, … 2000001]</td><td>[true, true, … true]</td><td>[0, 0, … 0]</td><td>[-330.527649, -330.527649, … -222.545593]</td><td>[142.657669, 142.657669, … 177.842667]</td><td>[53.969841, 38.946835, … -66.43412]</td><td>[-58.665289, -58.665289, … 49.316767]</td><td>[-4.282756, -4.282756, … 30.902242]</td><td>[52.781406, 37.758399, … -67.622555]</td><td>6</td><td>3</td><td>[129.513168]</td><td>[11.671997]</td><td>[-142.537033]</td><td>[190.291428]</td><td>[-122.576225]</td><td>[0.0]</td><td>[1708.601318]</td><td>[0]</td><td>false</td></tr><tr><td>103</td><td>157.417114</td><td>337.89624</td><td>241.690704</td><td>5626</td><td>8</td><td>4580.995605</td><td>1.0</td><td>&quot;muatm_66393_26258&quot;</td><td>2</td><td>[826, 610, … 626]</td><td>[0.97051, 0.270481, … 1.156041]</td><td>[-463.960571, -364.88208, … 594.235962]</td><td>[-999996, 1000006, … -999992]</td><td>[true, true, … true]</td><td>[3, 5, … 7]</td><td>[-86.556641, -37.112637, … 4.859355]</td><td>[331.085663, 348.33667, … 321.206665]</td><td>[248.877884, 249.029831, … -51.362129]</td><td>[-40.877882, 8.566122, … 50.538114]</td><td>[41.557367, 58.808374, … 31.67837]</td><td>[247.765021, 247.916968, … -52.474992]</td><td>16</td><td>3</td><td>[157.417114, 157.417114, … 157.417114]</td><td>[337.89624, 337.89624, … 337.89624]</td><td>[36.974823, 16.916025, … 28.114208]</td><td>[308.565002, 317.764893, … 313.66214]</td><td>[-34.042854, -43.212124, … -38.254917]</td><td>[0.0, 0.0, … 0.0]</td><td>[12.513337, 85.501404, … 225.291321]</td><td>[0, 1, … 7]</td><td>false</td></tr></tbody></table></div>"
      ],
      "text/plain": [
       "shape: (1_098_884, 33)\n",
       "┌─────────┬────────────┬───────────┬───────────┬───┬───────────┬───────────┬───────────┬───────────┐\n",
       "│ PulsesN ┆ PrimeTheta ┆ PrimePhi  ┆ PrimeEn   ┆ … ┆ RespMuDel ┆ RespMuEn  ┆ mu_local_ ┆ nu_induce │\n",
       "│ ---     ┆ ---        ┆ ---       ┆ ---       ┆   ┆ ay        ┆ ---       ┆ id_for_mu ┆ d         │\n",
       "│ i32     ┆ f32        ┆ f32       ┆ f32       ┆   ┆ ---       ┆ list[f32] ┆ ---       ┆ ---       │\n",
       "│         ┆            ┆           ┆           ┆   ┆ list[f32] ┆           ┆ list[i16] ┆ bool      │\n",
       "╞═════════╪════════════╪═══════════╪═══════════╪═══╪═══════════╪═══════════╪═══════════╪═══════════╡\n",
       "│ 144     ┆ 142.48761  ┆ 205.06951 ┆ 264.50524 ┆ … ┆ [0.0,     ┆ [106.1676 ┆ [0, 1, …  ┆ false     │\n",
       "│         ┆            ┆ 9         ┆ 9         ┆   ┆ 0.0, …    ┆ 79,       ┆ 11]       ┆           │\n",
       "│         ┆            ┆           ┆           ┆   ┆ 0.0]      ┆ 25.54468, ┆           ┆           │\n",
       "│         ┆            ┆           ┆           ┆   ┆           ┆ … 992.9…  ┆           ┆           │\n",
       "│ 144     ┆ 142.48761  ┆ 205.06951 ┆ 264.50524 ┆ … ┆ [0.0,     ┆ [106.1676 ┆ [0, 1, …  ┆ false     │\n",
       "│         ┆            ┆ 9         ┆ 9         ┆   ┆ 0.0, …    ┆ 79,       ┆ 11]       ┆           │\n",
       "│         ┆            ┆           ┆           ┆   ┆ 0.0]      ┆ 25.54468, ┆           ┆           │\n",
       "│         ┆            ┆           ┆           ┆   ┆           ┆ … 992.9…  ┆           ┆           │\n",
       "│ 75      ┆ 131.766022 ┆ 169.78503 ┆ 164.78805 ┆ … ┆ [0.0,     ┆ [148.7180 ┆ [0, 1, …  ┆ false     │\n",
       "│         ┆            ┆ 4         ┆ 5         ┆   ┆ 0.0, …    ┆ 48, -16.3 ┆ 7]        ┆           │\n",
       "│         ┆            ┆           ┆           ┆   ┆ 0.0]      ┆ 40019, …  ┆           ┆           │\n",
       "│         ┆            ┆           ┆           ┆   ┆           ┆ 212…      ┆           ┆           │\n",
       "│ 58      ┆ 128.333176 ┆ 201.29037 ┆ 458.39352 ┆ … ┆ [0.0,     ┆ [149.0721 ┆ [0, 1, …  ┆ false     │\n",
       "│         ┆            ┆ 5         ┆ 4         ┆   ┆ 0.0, …    ┆ 89, 579.4 ┆ 8]        ┆           │\n",
       "│         ┆            ┆           ┆           ┆   ┆ 0.0]      ┆ 08508, …  ┆           ┆           │\n",
       "│         ┆            ┆           ┆           ┆   ┆           ┆ 220…      ┆           ┆           │\n",
       "│ 72      ┆ 132.546112 ┆ 212.47946 ┆ 100.83749 ┆ … ┆ [0.0,     ┆ [7211.329 ┆ [0, 1, …  ┆ false     │\n",
       "│         ┆            ┆ 2         ┆ 4         ┆   ┆ 0.0, …    ┆ 59, 63.63 ┆ 4]        ┆           │\n",
       "│         ┆            ┆           ┆           ┆   ┆ 0.0]      ┆ 0669, …   ┆           ┆           │\n",
       "│         ┆            ┆           ┆           ┆   ┆           ┆ 13.7…     ┆           ┆           │\n",
       "│ …       ┆ …          ┆ …         ┆ …         ┆ … ┆ …         ┆ …         ┆ …         ┆ …         │\n",
       "│ 88      ┆ 135.732285 ┆ 242.88420 ┆ 130.02430 ┆ … ┆ [0.0,     ┆ [202.9757 ┆ [0, 1, …  ┆ false     │\n",
       "│         ┆            ┆ 1         ┆ 7         ┆   ┆ 0.0, …    ┆ 84, -8.02 ┆ 4]        ┆           │\n",
       "│         ┆            ┆           ┆           ┆   ┆ 0.0]      ┆ 8586, …   ┆           ┆           │\n",
       "│         ┆            ┆           ┆           ┆   ┆           ┆ 72.4…     ┆           ┆           │\n",
       "│ 97      ┆ 138.048492 ┆ 295.18518 ┆ 737.88751 ┆ … ┆ [0.0,     ┆ [6.243969 ┆ [0, 1, …  ┆ false     │\n",
       "│         ┆            ┆ 1         ┆ 2         ┆   ┆ 0.0, …    ┆ , 98.9678 ┆ 11]       ┆           │\n",
       "│         ┆            ┆           ┆           ┆   ┆ 0.0]      ┆ 27, …     ┆           ┆           │\n",
       "│         ┆            ┆           ┆           ┆   ┆           ┆ 488.33…   ┆           ┆           │\n",
       "│ 91      ┆ 137.736908 ┆ 234.71084 ┆ 487.74990 ┆ … ┆ [0.0,     ┆ [1885.892 ┆ [0, 1, …  ┆ false     │\n",
       "│         ┆            ┆ 6         ┆ 8         ┆   ┆ 0.0, …    ┆ 822, 99.8 ┆ 5]        ┆           │\n",
       "│         ┆            ┆           ┆           ┆   ┆ 0.0]      ┆ 79082, …  ┆           ┆           │\n",
       "│         ┆            ┆           ┆           ┆   ┆           ┆ 345…      ┆           ┆           │\n",
       "│ 112     ┆ 129.513168 ┆ 11.671997 ┆ 23.987101 ┆ … ┆ [0.0]     ┆ [1708.601 ┆ [0]       ┆ false     │\n",
       "│         ┆            ┆           ┆           ┆   ┆           ┆ 318]      ┆           ┆           │\n",
       "│ 103     ┆ 157.417114 ┆ 337.89624 ┆ 241.69070 ┆ … ┆ [0.0,     ┆ [12.51333 ┆ [0, 1, …  ┆ false     │\n",
       "│         ┆            ┆           ┆ 4         ┆   ┆ 0.0, …    ┆ 7, 85.501 ┆ 7]        ┆           │\n",
       "│         ┆            ┆           ┆           ┆   ┆ 0.0]      ┆ 404, …    ┆           ┆           │\n",
       "│         ┆            ┆           ┆           ┆   ┆           ┆ 225.2…    ┆           ┆           │\n",
       "└─────────┴────────────┴───────────┴───────────┴───┴───────────┴───────────┴───────────┴───────────┘"
      ]
     },
     "execution_count": 18,
     "metadata": {},
     "output_type": "execute_result"
    }
   ],
   "source": [
    "df"
   ]
  },
  {
   "cell_type": "code",
   "execution_count": 19,
   "metadata": {},
   "outputs": [
    {
     "data": {
      "text/plain": [
       "(11474400,)"
      ]
     },
     "execution_count": 19,
     "metadata": {},
     "output_type": "execute_result"
    }
   ],
   "source": [
    "df['PulsesAmpl'].explode().shape"
   ]
  },
  {
   "cell_type": "code",
   "execution_count": 9,
   "metadata": {},
   "outputs": [
    {
     "name": "stdout",
     "output_type": "stream",
     "text": [
      "Filter koef: 0.38588296234273994\n",
      "Num of events in df: 1087642\n",
      "Num of 1024 batches: 1062.150390625\n",
      "44.70951387436444\n",
      "4.825212500622517\n",
      "-1.1883666468660909e-09\n"
     ]
    }
   ],
   "source": [
    "path_to_roots = f'/net/62/home3/ivkhar/Baikal/data/initial_data/MC_2020/muatm/root/all/'\n",
    "\n",
    "files = os.listdir(f'{path_to_roots}')[-100:]\n",
    "paths = sorted([f\"{path_to_roots}{file}\" for file in files])\n",
    "proc = Processor(paths)\n",
    "df = proc.process()\n",
    "print(f\"Filter koef: {proc.filter_koef}\")\n",
    "print(f\"Num of events in df: {df.shape[0]}\")\n",
    "print(f\"Num of 1024 batches: {df.shape[0]/1024}\")\n",
    "print(df['Zrel'].explode().mean())\n",
    "print(df['PulsesAmpl'].explode().mean())\n",
    "print(df['PulsesTime'].explode().mean())"
   ]
  },
  {
   "cell_type": "markdown",
   "metadata": {},
   "source": [
    "## Nuatm"
   ]
  },
  {
   "cell_type": "code",
   "execution_count": 11,
   "metadata": {},
   "outputs": [
    {
     "name": "stdout",
     "output_type": "stream",
     "text": [
      "Filter koef: 0.23939392100216067\n",
      "Num of events in df: 157774\n",
      "Num of 1024 batches: 154.076171875\n",
      "3.527781051079129\n",
      "4.940950549050634\n",
      "2.2721852665498103e-07\n"
     ]
    }
   ],
   "source": [
    "path_to_roots = f'/net/62/home3/ivkhar/Baikal/data/initial_data/MC_2020/nuatm/root/all/'\n",
    "\n",
    "files = os.listdir(f'{path_to_roots}')[0:20]\n",
    "paths = sorted([f\"{path_to_roots}{file}\" for file in files])\n",
    "proc = Processor(paths)\n",
    "df = proc.process()\n",
    "print(f\"Filter koef: {proc.filter_koef}\")\n",
    "print(f\"Num of events in df: {df.shape[0]}\")\n",
    "print(f\"Num of 1024 batches: {df.shape[0]/1024}\")\n",
    "print(df['Zrel'].explode().mean())\n",
    "print(df['PulsesAmpl'].explode().mean())\n",
    "print(df['PulsesTime'].explode().mean())"
   ]
  },
  {
   "cell_type": "code",
   "execution_count": 12,
   "metadata": {},
   "outputs": [
    {
     "name": "stdout",
     "output_type": "stream",
     "text": [
      "Filter koef: 0.24202535651648993\n",
      "Num of events in df: 165184\n",
      "Num of 1024 batches: 161.3125\n",
      "2.3422264499764918\n",
      "4.9862290985862465\n",
      "-2.3818282025672133e-07\n"
     ]
    }
   ],
   "source": [
    "path_to_roots = f'/net/62/home3/ivkhar/Baikal/data/initial_data/MC_2020/nuatm/root/all/'\n",
    "\n",
    "files = os.listdir(f'{path_to_roots}')[-20:]\n",
    "paths = sorted([f\"{path_to_roots}{file}\" for file in files])\n",
    "proc = Processor(paths)\n",
    "df = proc.process()\n",
    "print(f\"Filter koef: {proc.filter_koef}\")\n",
    "print(f\"Num of events in df: {df.shape[0]}\")\n",
    "print(f\"Num of 1024 batches: {df.shape[0]/1024}\")\n",
    "print(df['Zrel'].explode().mean())\n",
    "print(df['PulsesAmpl'].explode().mean())\n",
    "print(df['PulsesTime'].explode().mean())"
   ]
  },
  {
   "cell_type": "markdown",
   "metadata": {},
   "source": [
    "## Nue2"
   ]
  },
  {
   "cell_type": "code",
   "execution_count": 13,
   "metadata": {},
   "outputs": [
    {
     "name": "stdout",
     "output_type": "stream",
     "text": [
      "Filter koef: 0.8060220395986819\n",
      "Num of events in df: 284234\n",
      "Num of 1024 batches: 277.572265625\n",
      "15.174257120789965\n",
      "36.603581156724694\n",
      "9.720201554653871e-07\n"
     ]
    }
   ],
   "source": [
    "path_to_roots = f'/net/62/home3/ivkhar/Baikal/data/initial_data/MC_2020/nue2_100pev/root/all/'\n",
    "\n",
    "files = os.listdir(f'{path_to_roots}')[:20]\n",
    "paths = sorted([f\"{path_to_roots}{file}\" for file in files])\n",
    "proc = Processor(paths)\n",
    "df = proc.process()\n",
    "print(f\"Filter koef: {proc.filter_koef}\")\n",
    "print(f\"Num of events in df: {df.shape[0]}\")\n",
    "print(f\"Num of 1024 batches: {df.shape[0]/1024}\")\n",
    "print(df['Zrel'].explode().mean())\n",
    "print(df['PulsesAmpl'].explode().mean())\n",
    "print(df['PulsesTime'].explode().mean())"
   ]
  },
  {
   "cell_type": "code",
   "execution_count": 14,
   "metadata": {},
   "outputs": [
    {
     "name": "stdout",
     "output_type": "stream",
     "text": [
      "Filter koef: 0.8004531048176646\n",
      "Num of events in df: 274529\n",
      "Num of 1024 batches: 268.0947265625\n",
      "15.468231470703214\n",
      "36.48504322178133\n",
      "1.21064674285206e-08\n"
     ]
    }
   ],
   "source": [
    "path_to_roots = f'/net/62/home3/ivkhar/Baikal/data/initial_data/MC_2020/nue2_100pev/root/all/'\n",
    "\n",
    "files = os.listdir(f'{path_to_roots}')[-20:]\n",
    "paths = sorted([f\"{path_to_roots}{file}\" for file in files])\n",
    "proc = Processor(paths)\n",
    "df = proc.process()\n",
    "print(f\"Filter koef: {proc.filter_koef}\")\n",
    "print(f\"Num of events in df: {df.shape[0]}\")\n",
    "print(f\"Num of 1024 batches: {df.shape[0]/1024}\")\n",
    "print(df['Zrel'].explode().mean())\n",
    "print(df['PulsesAmpl'].explode().mean())\n",
    "print(df['PulsesTime'].explode().mean())"
   ]
  },
  {
   "cell_type": "code",
   "execution_count": null,
   "metadata": {},
   "outputs": [],
   "source": []
  },
  {
   "cell_type": "code",
   "execution_count": 4,
   "metadata": {},
   "outputs": [
    {
     "data": {
      "text/plain": [
       "ProcessorConfig(center_times=True, filter_cfg=FilterParams(only_signal=True, min_hits=5, min_strings=2, min_Q=0, t_threshold=100000.0))"
      ]
     },
     "execution_count": 4,
     "metadata": {},
     "output_type": "execute_result"
    }
   ],
   "source": [
    "proc.cfg"
   ]
  },
  {
   "cell_type": "code",
   "execution_count": null,
   "metadata": {},
   "outputs": [],
   "source": []
  },
  {
   "cell_type": "code",
   "execution_count": 8,
   "metadata": {},
   "outputs": [
    {
     "data": {
      "text/plain": [
       "(225628, 1)"
      ]
     },
     "execution_count": 8,
     "metadata": {},
     "output_type": "execute_result"
    }
   ],
   "source": [
    "labels = df[['nu_induced']].to_numpy()\n",
    "labels.shape"
   ]
  },
  {
   "cell_type": "code",
   "execution_count": 95,
   "metadata": {},
   "outputs": [],
   "source": [
    "data = df[['PulsesAmpl', 'PulsesTime', 'Xrel', 'Yrel', 'Zrel']]\n",
    "arr = data[0:1024].to_numpy()"
   ]
  },
  {
   "cell_type": "code",
   "execution_count": 104,
   "metadata": {},
   "outputs": [
    {
     "data": {
      "text/html": [
       "<div><style>\n",
       ".dataframe > thead > tr,\n",
       ".dataframe > tbody > tr {\n",
       "  text-align: right;\n",
       "  white-space: pre-wrap;\n",
       "}\n",
       "</style>\n",
       "<small>shape: (1, 33)</small><table border=\"1\" class=\"dataframe\"><thead><tr><th>PulsesN</th><th>PrimeTheta</th><th>PrimePhi</th><th>PrimeEn</th><th>PrimeNuclN</th><th>ResponseMuN</th><th>BundleEnReg</th><th>EventWeight</th><th>ev_id</th><th>cluster_id</th><th>PulsesChID</th><th>PulsesAmpl</th><th>PulsesTime</th><th>PulsesFlg</th><th>is_signal</th><th>mu_local_id</th><th>X</th><th>Y</th><th>Z</th><th>Xrel</th><th>Yrel</th><th>Zrel</th><th>t_res</th><th>num_signal_hits</th><th>num_signal_strings</th><th>RespMuTheta</th><th>RespMuPhi</th><th>RespMuTrackX</th><th>RespMuTrackY</th><th>RespMuTrackZ</th><th>RespMuDelay</th><th>RespMuEn</th><th>mu_local_id_for_mu</th></tr><tr><td>i32</td><td>f32</td><td>f32</td><td>f32</td><td>i32</td><td>i32</td><td>f32</td><td>f32</td><td>str</td><td>i8</td><td>list[i16]</td><td>list[f32]</td><td>list[f32]</td><td>list[i32]</td><td>list[bool]</td><td>list[i16]</td><td>list[f64]</td><td>list[f64]</td><td>list[f64]</td><td>list[f64]</td><td>list[f64]</td><td>list[f64]</td><td>list[f64]</td><td>i16</td><td>i8</td><td>list[f32]</td><td>list[f32]</td><td>list[f32]</td><td>list[f32]</td><td>list[f32]</td><td>list[f32]</td><td>list[f32]</td><td>list[i16]</td></tr></thead><tbody><tr><td>139</td><td>128.259247</td><td>187.594223</td><td>1477.901489</td><td>14</td><td>11</td><td>14547.332031</td><td>1.0</td><td>&quot;muatm_10436_1&quot;</td><td>1</td><td>[570, 356, … 356]</td><td>[1.281395, 0.877132, … 0.985141]</td><td>[-2160.090332, -1905.616211, … 2590.600586]</td><td>[0, 0, … 0]</td><td>[false, false, … false]</td><td>[-1, -1, … -1]</td><td>[7.860371, 68.518379, … 68.518379]</td><td>[-6.797305, 2.330664, … 2.330664]</td><td>[185.799881, 216.429871, … 216.429871]</td><td>[-0.647754, 60.010254, … 60.010254]</td><td>[-1.214858, 7.91311, … 7.91311]</td><td>[185.800421, 216.430411, … 216.430411]</td><td>[null, null, … null]</td><td>10</td><td>3</td><td>[128.259247, 128.259247, … 128.259247]</td><td>[187.594223, 187.594223, … 187.594223]</td><td>[-81.698112, -80.568344, … -79.018631]</td><td>[-76.003563, -75.514015, … -77.506683]</td><td>[115.427299, 113.925201, … 112.311226]</td><td>[0.0, 0.0, … 0.0]</td><td>[1591.311279, 1697.567139, … 1943.766602]</td><td>[0, 1, … 10]</td></tr></tbody></table></div>"
      ],
      "text/plain": [
       "shape: (1, 33)\n",
       "┌─────────┬────────────┬───────────┬───────────┬───┬───────────┬───────────┬───────────┬───────────┐\n",
       "│ PulsesN ┆ PrimeTheta ┆ PrimePhi  ┆ PrimeEn   ┆ … ┆ RespMuTra ┆ RespMuDel ┆ RespMuEn  ┆ mu_local_ │\n",
       "│ ---     ┆ ---        ┆ ---       ┆ ---       ┆   ┆ ckZ       ┆ ay        ┆ ---       ┆ id_for_mu │\n",
       "│ i32     ┆ f32        ┆ f32       ┆ f32       ┆   ┆ ---       ┆ ---       ┆ list[f32] ┆ ---       │\n",
       "│         ┆            ┆           ┆           ┆   ┆ list[f32] ┆ list[f32] ┆           ┆ list[i16] │\n",
       "╞═════════╪════════════╪═══════════╪═══════════╪═══╪═══════════╪═══════════╪═══════════╪═══════════╡\n",
       "│ 139     ┆ 128.259247 ┆ 187.59422 ┆ 1477.9014 ┆ … ┆ [115.4272 ┆ [0.0,     ┆ [1591.311 ┆ [0, 1, …  │\n",
       "│         ┆            ┆ 3         ┆ 89        ┆   ┆ 99, 113.9 ┆ 0.0, …    ┆ 279, 1697 ┆ 10]       │\n",
       "│         ┆            ┆           ┆           ┆   ┆ 25201, …  ┆ 0.0]      ┆ .567139,  ┆           │\n",
       "│         ┆            ┆           ┆           ┆   ┆ 112…      ┆           ┆ … 1…      ┆           │\n",
       "└─────────┴────────────┴───────────┴───────────┴───┴───────────┴───────────┴───────────┴───────────┘"
      ]
     },
     "execution_count": 104,
     "metadata": {},
     "output_type": "execute_result"
    }
   ],
   "source": [
    "df[0:1]"
   ]
  },
  {
   "cell_type": "code",
   "execution_count": 96,
   "metadata": {},
   "outputs": [
    {
     "name": "stdout",
     "output_type": "stream",
     "text": [
      "(1024, 5, 135)\n"
     ]
    }
   ],
   "source": [
    "# Step 1: Find the maximum length of the arrays\n",
    "max_length = np.vectorize(len)(arr[:,0]).max()\n",
    "\n",
    "# Step 2: Create an empty array filled with zeros, with the desired shape (225628, 5, max_length)\n",
    "result = np.zeros((arr.shape[0], arr.shape[1], max_length), dtype=np.float64)\n",
    "\n",
    "# Step 3: Vectorized operation to copy the contents of each 1D array into the 3D array\n",
    "for i in range(arr.shape[0]):\n",
    "    for j in range(arr.shape[1]):\n",
    "        sublist = arr[i, j]\n",
    "        result[i, j, :len(sublist)] = sublist  # Fill the result array with the sublist contents\n",
    "\n",
    "# `result` is now a (225628, 5, max_length) array\n",
    "print(result.shape)\n"
   ]
  },
  {
   "cell_type": "code",
   "execution_count": 103,
   "metadata": {},
   "outputs": [
    {
     "data": {
      "text/plain": [
       "array([array([ 1.2813946 ,  0.87713164,  0.6830081 ,  0.7727933 ,  0.39689848,\n",
       "               0.546696  ,  0.95465976,  0.8474809 ,  0.5146515 ,  1.2394272 ,\n",
       "               0.37412274,  0.37023333,  1.2886908 ,  0.8345289 ,  0.73655057,\n",
       "               1.4989797 ,  1.176751  ,  1.6230917 ,  0.3945923 ,  1.2943685 ,\n",
       "               0.13767484,  1.9628075 , 34.212597  ,  2.902126  ,  4.774832  ,\n",
       "               0.20739356,  1.0648601 ,  1.2157098 , 10.341771  ,  0.59962237,\n",
       "               0.6114888 ,  3.904869  ,  1.0353153 ,  0.46222797,  0.5245709 ,\n",
       "               0.727877  ,  0.59123385,  1.1246848 ,  0.57657737,  1.1195915 ,\n",
       "               0.87197757,  0.7615253 ,  0.57505375,  1.369849  ,  0.47266567,\n",
       "               1.0246273 ,  1.6954845 ,  0.35242125,  0.63509005,  0.54434013,\n",
       "               0.85585535,  1.3841871 ,  0.8279468 ,  0.88603634,  1.0140969 ,\n",
       "               0.4002069 ,  1.478011  ,  0.20178056,  1.4975731 ,  0.5695379 ,\n",
       "               1.0130898 ,  0.299836  ,  0.9730767 ,  1.0098217 ,  0.8428638 ,\n",
       "               0.8763763 ,  1.0243553 ,  0.704363  ,  0.9851407 ], dtype=float32),\n",
       "       array([ 0.38179275,  0.554513  ,  0.5895274 ,  2.4875903 ,  1.3659816 ,\n",
       "               0.54031545,  0.05979871,  0.08886239,  0.8986817 ,  0.8158547 ,\n",
       "               0.8723932 ,  0.5377367 ,  1.0925659 ,  1.1754869 ,  1.0330809 ,\n",
       "               0.7034212 ,  1.1088768 ,  0.9584572 ,  1.1609343 ,  1.159186  ,\n",
       "               1.1113484 ,  1.3126714 ,  0.95979404,  0.8316253 ,  0.8961154 ,\n",
       "               1.0869105 ,  1.2085726 ,  0.51225257,  2.967258  ,  0.36735553,\n",
       "               0.45162052, 21.139254  ,  0.30614078,  1.2212721 ,  1.9797828 ,\n",
       "               2.5214508 ,  1.6932051 ,  0.9492571 ,  0.28919676,  0.82503873,\n",
       "              47.097584  ,  3.2800138 ,  0.41928124,  0.43260032,  2.3908968 ,\n",
       "               1.6187259 ,  1.202479  ,  1.193788  ,  0.3693233 ,  0.99687624,\n",
       "               2.2995014 ,  0.71757346,  1.3513895 ,  1.3763772 ,  0.9811278 ,\n",
       "               0.3150324 ,  0.95124084,  0.60368645,  0.3300764 ,  1.0571824 ,\n",
       "               1.0564138 ,  1.5299555 ,  0.50938135,  1.0352285 ,  1.0835147 ,\n",
       "               1.2156773 ,  1.0619684 ,  0.8436627 ,  0.67403287,  1.312429  ],\n",
       "             dtype=float32)                                                    ,\n",
       "       array([ 0.81220555,  1.0097806 ,  1.4024283 ,  0.8260102 ,  0.6934646 ,\n",
       "               0.61372596,  0.6477839 ,  0.48713234,  0.8145555 ,  0.521954  ,\n",
       "               1.2461734 ,  1.0171344 ,  0.85011506,  0.31522086,  0.7939671 ,\n",
       "               0.9567917 ,  1.1244626 ,  0.6695424 ,  1.4436766 ,  0.6217752 ,\n",
       "               1.0779293 ,  1.1437404 ,  0.6415427 ,  3.9821548 ,  3.5798872 ,\n",
       "               0.5827266 ,  0.61755383, 12.721027  ,  6.381974  ,  1.075742  ,\n",
       "               1.4009641 ,  6.9516234 ,  7.9843645 ,  3.9465375 ,  1.4901104 ,\n",
       "               1.4433452 ,  0.23394263,  1.2740645 ,  1.2584025 ,  0.14522296,\n",
       "               1.1328676 ,  1.0406765 ,  1.0826019 ,  1.3370638 ,  1.0301036 ,\n",
       "               0.3152535 ,  1.1907014 ,  1.585798  ,  0.40239343,  1.3436792 ,\n",
       "               0.95095587,  0.34252268,  0.7788512 ,  0.79581493,  0.9106692 ,\n",
       "               1.1085432 ,  1.8070403 ,  1.247531  ,  0.63433105,  1.0793236 ,\n",
       "               0.20704913,  0.37947527,  0.92389417,  0.92560214,  0.88410103,\n",
       "              17.78614   ,  0.04190984,  1.2239041 ,  0.9585212 ,  0.93894374,\n",
       "               0.6421843 ,  0.6114539 ,  0.73841107,  0.4990356 ,  0.47626436,\n",
       "               1.0330118 ,  0.10149156,  1.2472817 ], dtype=float32)          ,\n",
       "       ...,\n",
       "       array([1.4224203 , 0.34188145, 0.63105834, 0.94624454, 0.56962603,\n",
       "              0.51065385, 0.45452997, 1.2818264 , 0.901695  , 0.6620554 ,\n",
       "              0.29691818, 1.1459527 , 0.9488404 , 0.9905077 , 1.1455876 ,\n",
       "              0.9433171 , 0.9853772 , 0.9104356 , 0.13912727, 0.05778102,\n",
       "              1.1869565 , 1.3959398 , 0.82911074, 0.382445  , 0.33884704,\n",
       "              0.6076485 , 0.10063039, 0.9659494 , 0.68476826, 0.6261667 ,\n",
       "              0.8099076 , 0.8449308 , 0.947996  , 1.1882173 , 0.7516297 ,\n",
       "              1.0812206 , 0.37947753, 0.23665059, 0.7108611 , 0.8450966 ,\n",
       "              3.5912004 , 1.0929661 , 1.0977728 , 1.254445  , 1.4247307 ,\n",
       "              1.2281219 , 1.4320482 , 0.82817185, 1.2975364 , 0.7202102 ,\n",
       "              1.3727771 , 0.29339206, 1.2826879 , 1.0796028 , 0.8977332 ,\n",
       "              1.4916329 , 0.8431051 , 3.181614  , 7.551284  , 1.0558224 ,\n",
       "              0.17933175, 0.6023071 , 0.7369238 , 0.44816786, 0.93567276,\n",
       "              0.9719162 , 1.145565  , 0.31153142, 0.9352457 , 0.7897773 ,\n",
       "              1.2813189 , 1.1143999 , 0.84941536, 0.9980125 , 0.8102475 ,\n",
       "              0.6966432 , 1.2259253 , 0.42344707, 0.4025466 , 0.83904684,\n",
       "              0.46267313, 0.03964088, 0.2301222 , 1.1869428 , 0.27206904,\n",
       "              0.8904934 , 1.2450286 , 0.63700473, 1.0266238 , 0.581349  ,\n",
       "              0.28366756, 0.70623535, 0.75531274, 2.43295   , 0.994048  ,\n",
       "              1.3692867 , 0.15675688, 0.30651864, 1.1697235 , 0.28657815,\n",
       "              0.62376034, 0.35333365, 0.82272947, 0.83142966, 0.7236906 ,\n",
       "              0.7213127 , 1.431676  , 0.80413544, 1.4785894 ], dtype=float32),\n",
       "       array([1.1523539 , 0.28334418, 0.20261037, 1.5782778 , 0.87260544,\n",
       "              0.97434646, 4.3536243 , 0.6048761 , 0.86674446, 0.855296  ,\n",
       "              0.57764673, 1.3028893 , 1.1659709 , 1.4976183 , 0.6986784 ,\n",
       "              0.98284537, 0.5317158 , 0.4405155 , 0.7920203 , 0.49884447,\n",
       "              1.044256  , 0.80680144, 0.5725779 , 0.8858083 , 1.323885  ,\n",
       "              0.9597585 , 1.0124838 , 2.7824185 , 0.21254154, 0.76432836,\n",
       "              0.9278265 , 1.1260132 , 0.8787633 , 1.2069302 , 1.0966623 ,\n",
       "              1.1824994 , 8.712833  , 0.8258379 , 1.3892101 , 1.4160854 ,\n",
       "              2.7436318 , 0.6930089 , 0.7984769 , 0.8270486 , 0.9890022 ,\n",
       "              1.2571533 , 1.0890756 , 0.7961964 , 0.79030085, 0.55510694,\n",
       "              0.51446545, 1.0433044 , 1.0913069 , 0.9049132 , 0.936307  ,\n",
       "              0.57979083, 1.0717356 , 0.9973192 , 0.8250655 , 0.6232304 ,\n",
       "              1.49058   , 1.3200762 , 0.3851627 , 0.5288207 , 0.93117344,\n",
       "              0.6792964 , 0.6168399 , 0.4264658 , 0.6887764 , 1.0895452 ,\n",
       "              0.6513368 , 0.66672814, 0.58068335, 1.0177865 , 1.6737669 ,\n",
       "              1.0085156 , 1.1878281 , 0.803717  , 1.3520377 , 0.9648091 ,\n",
       "              1.3072897 ], dtype=float32)                                ,\n",
       "       array([ 0.81562567,  0.564103  ,  1.581006  ,  1.2882841 ,  0.27524188,\n",
       "               1.9845164 ,  0.15310001,  0.81095576,  1.0590665 ,  0.5865675 ,\n",
       "               0.89174795,  0.39761123,  1.0315013 ,  0.46195567,  0.88218176,\n",
       "               0.25482532,  2.4429407 ,  0.67235476,  1.0300086 ,  0.63721895,\n",
       "               0.95377487,  0.33152768,  1.446754  , 15.598227  ,  0.54749835,\n",
       "               0.7148719 ,  1.3251758 ,  1.2885174 ,  0.31471303,  1.1425686 ,\n",
       "               6.291093  ,  0.75898165,  3.5357153 ,  0.24925086,  0.8162244 ,\n",
       "               1.0186479 ,  1.2584943 ,  2.0118537 ,  0.569196  ,  1.1238182 ,\n",
       "               1.1444151 ,  2.1578767 ,  0.60181236,  1.1588994 ,  0.6735151 ,\n",
       "               0.96356046,  0.72841537,  0.92188984,  0.7897308 ,  1.1521316 ,\n",
       "               3.1726403 ,  1.0065933 ,  0.8184485 ,  0.4809186 ,  0.8087677 ,\n",
       "               0.99201137,  1.4183685 ,  1.1476794 ,  1.2008252 ,  0.7853569 ,\n",
       "               1.3808928 ,  1.5969756 ,  0.8945589 ,  1.6026664 ,  0.32708392,\n",
       "               0.8569467 ,  0.89809084,  1.4823709 ,  1.0255399 ,  0.82621104,\n",
       "               0.49056816,  0.639333  ,  0.84192234,  1.0556225 ,  0.55004495,\n",
       "               0.9386568 ,  1.2582524 ,  0.5462974 ,  1.1643095 ,  0.8448456 ,\n",
       "               1.365239  ,  0.20262015,  0.822696  ,  1.3870211 ,  1.0677787 ,\n",
       "               0.52328664,  1.523723  ,  0.7282437 ,  0.7304551 ,  0.89334375,\n",
       "               0.2964331 ,  1.2782936 ,  0.13526239,  1.8524745 ,  1.5214769 ,\n",
       "               1.495123  ,  1.255192  ,  1.0169572 ,  1.1033115 ,  0.5027234 ,\n",
       "               0.50718087,  0.48488137,  1.4575713 ,  0.94501543,  1.142152  ,\n",
       "               0.637274  ,  1.7851464 ,  0.73279446,  0.46104234,  0.6584913 ,\n",
       "               0.7681451 ], dtype=float32)                                    ],\n",
       "      dtype=object)"
      ]
     },
     "execution_count": 103,
     "metadata": {},
     "output_type": "execute_result"
    }
   ],
   "source": [
    "data.to_numpy()[:,0]"
   ]
  },
  {
   "cell_type": "code",
   "execution_count": 21,
   "metadata": {},
   "outputs": [
    {
     "ename": "ValueError",
     "evalue": "operands could not be broadcast together with remapped shapes [original->remapped]: (2,2)  and requested shape (1,2)",
     "output_type": "error",
     "traceback": [
      "\u001b[0;31m---------------------------------------------------------------------------\u001b[0m",
      "\u001b[0;31mValueError\u001b[0m                                Traceback (most recent call last)",
      "Cell \u001b[0;32mIn[21], line 3\u001b[0m\n\u001b[1;32m      1\u001b[0m lens \u001b[38;5;241m=\u001b[39m np\u001b[38;5;241m.\u001b[39mvectorize(\u001b[38;5;28mlen\u001b[39m)(data[:,\u001b[38;5;241m0\u001b[39m])\n\u001b[1;32m      2\u001b[0m delta_lens \u001b[38;5;241m=\u001b[39m np\u001b[38;5;241m.\u001b[39mmax(lens)\u001b[38;5;241m-\u001b[39mlens\n\u001b[0;32m----> 3\u001b[0m data_pad \u001b[38;5;241m=\u001b[39m [np\u001b[38;5;241m.\u001b[39mpad(d, ((\u001b[38;5;241m0\u001b[39m, delta),(\u001b[38;5;241m0\u001b[39m,\u001b[38;5;241m0\u001b[39m))) \u001b[38;5;28;01mfor\u001b[39;00m d, delta \u001b[38;5;129;01min\u001b[39;00m \u001b[38;5;28mzip\u001b[39m(data,delta_lens)]\n\u001b[1;32m      4\u001b[0m data_pad\n",
      "Cell \u001b[0;32mIn[21], line 3\u001b[0m, in \u001b[0;36m<listcomp>\u001b[0;34m(.0)\u001b[0m\n\u001b[1;32m      1\u001b[0m lens \u001b[38;5;241m=\u001b[39m np\u001b[38;5;241m.\u001b[39mvectorize(\u001b[38;5;28mlen\u001b[39m)(data[:,\u001b[38;5;241m0\u001b[39m])\n\u001b[1;32m      2\u001b[0m delta_lens \u001b[38;5;241m=\u001b[39m np\u001b[38;5;241m.\u001b[39mmax(lens)\u001b[38;5;241m-\u001b[39mlens\n\u001b[0;32m----> 3\u001b[0m data_pad \u001b[38;5;241m=\u001b[39m [\u001b[43mnp\u001b[49m\u001b[38;5;241;43m.\u001b[39;49m\u001b[43mpad\u001b[49m\u001b[43m(\u001b[49m\u001b[43md\u001b[49m\u001b[43m,\u001b[49m\u001b[43m \u001b[49m\u001b[43m(\u001b[49m\u001b[43m(\u001b[49m\u001b[38;5;241;43m0\u001b[39;49m\u001b[43m,\u001b[49m\u001b[43m \u001b[49m\u001b[43mdelta\u001b[49m\u001b[43m)\u001b[49m\u001b[43m,\u001b[49m\u001b[43m(\u001b[49m\u001b[38;5;241;43m0\u001b[39;49m\u001b[43m,\u001b[49m\u001b[38;5;241;43m0\u001b[39;49m\u001b[43m)\u001b[49m\u001b[43m)\u001b[49m\u001b[43m)\u001b[49m \u001b[38;5;28;01mfor\u001b[39;00m d, delta \u001b[38;5;129;01min\u001b[39;00m \u001b[38;5;28mzip\u001b[39m(data,delta_lens)]\n\u001b[1;32m      4\u001b[0m data_pad\n",
      "File \u001b[0;32m~/Baikal-ML/venv/lib/python3.10/site-packages/numpy/lib/arraypad.py:748\u001b[0m, in \u001b[0;36mpad\u001b[0;34m(array, pad_width, mode, **kwargs)\u001b[0m\n\u001b[1;32m    745\u001b[0m     \u001b[38;5;28;01mraise\u001b[39;00m \u001b[38;5;167;01mTypeError\u001b[39;00m(\u001b[38;5;124m'\u001b[39m\u001b[38;5;124m`pad_width` must be of integral type.\u001b[39m\u001b[38;5;124m'\u001b[39m)\n\u001b[1;32m    747\u001b[0m \u001b[38;5;66;03m# Broadcast to shape (array.ndim, 2)\u001b[39;00m\n\u001b[0;32m--> 748\u001b[0m pad_width \u001b[38;5;241m=\u001b[39m \u001b[43m_as_pairs\u001b[49m\u001b[43m(\u001b[49m\u001b[43mpad_width\u001b[49m\u001b[43m,\u001b[49m\u001b[43m \u001b[49m\u001b[43marray\u001b[49m\u001b[38;5;241;43m.\u001b[39;49m\u001b[43mndim\u001b[49m\u001b[43m,\u001b[49m\u001b[43m \u001b[49m\u001b[43mas_index\u001b[49m\u001b[38;5;241;43m=\u001b[39;49m\u001b[38;5;28;43;01mTrue\u001b[39;49;00m\u001b[43m)\u001b[49m\n\u001b[1;32m    750\u001b[0m \u001b[38;5;28;01mif\u001b[39;00m \u001b[38;5;28mcallable\u001b[39m(mode):\n\u001b[1;32m    751\u001b[0m     \u001b[38;5;66;03m# Old behavior: Use user-supplied function with np.apply_along_axis\u001b[39;00m\n\u001b[1;32m    752\u001b[0m     function \u001b[38;5;241m=\u001b[39m mode\n",
      "File \u001b[0;32m~/Baikal-ML/venv/lib/python3.10/site-packages/numpy/lib/arraypad.py:522\u001b[0m, in \u001b[0;36m_as_pairs\u001b[0;34m(x, ndim, as_index)\u001b[0m\n\u001b[1;32m    518\u001b[0m     \u001b[38;5;28;01mraise\u001b[39;00m \u001b[38;5;167;01mValueError\u001b[39;00m(\u001b[38;5;124m\"\u001b[39m\u001b[38;5;124mindex can\u001b[39m\u001b[38;5;124m'\u001b[39m\u001b[38;5;124mt contain negative values\u001b[39m\u001b[38;5;124m\"\u001b[39m)\n\u001b[1;32m    520\u001b[0m \u001b[38;5;66;03m# Converting the array with `tolist` seems to improve performance\u001b[39;00m\n\u001b[1;32m    521\u001b[0m \u001b[38;5;66;03m# when iterating and indexing the result (see usage in `pad`)\u001b[39;00m\n\u001b[0;32m--> 522\u001b[0m \u001b[38;5;28;01mreturn\u001b[39;00m \u001b[43mnp\u001b[49m\u001b[38;5;241;43m.\u001b[39;49m\u001b[43mbroadcast_to\u001b[49m\u001b[43m(\u001b[49m\u001b[43mx\u001b[49m\u001b[43m,\u001b[49m\u001b[43m \u001b[49m\u001b[43m(\u001b[49m\u001b[43mndim\u001b[49m\u001b[43m,\u001b[49m\u001b[43m \u001b[49m\u001b[38;5;241;43m2\u001b[39;49m\u001b[43m)\u001b[49m\u001b[43m)\u001b[49m\u001b[38;5;241m.\u001b[39mtolist()\n",
      "File \u001b[0;32m~/Baikal-ML/venv/lib/python3.10/site-packages/numpy/lib/stride_tricks.py:413\u001b[0m, in \u001b[0;36mbroadcast_to\u001b[0;34m(array, shape, subok)\u001b[0m\n\u001b[1;32m    367\u001b[0m \u001b[38;5;129m@array_function_dispatch\u001b[39m(_broadcast_to_dispatcher, module\u001b[38;5;241m=\u001b[39m\u001b[38;5;124m'\u001b[39m\u001b[38;5;124mnumpy\u001b[39m\u001b[38;5;124m'\u001b[39m)\n\u001b[1;32m    368\u001b[0m \u001b[38;5;28;01mdef\u001b[39;00m \u001b[38;5;21mbroadcast_to\u001b[39m(array, shape, subok\u001b[38;5;241m=\u001b[39m\u001b[38;5;28;01mFalse\u001b[39;00m):\n\u001b[1;32m    369\u001b[0m \u001b[38;5;250m    \u001b[39m\u001b[38;5;124;03m\"\"\"Broadcast an array to a new shape.\u001b[39;00m\n\u001b[1;32m    370\u001b[0m \n\u001b[1;32m    371\u001b[0m \u001b[38;5;124;03m    Parameters\u001b[39;00m\n\u001b[0;32m   (...)\u001b[0m\n\u001b[1;32m    411\u001b[0m \u001b[38;5;124;03m           [1, 2, 3]])\u001b[39;00m\n\u001b[1;32m    412\u001b[0m \u001b[38;5;124;03m    \"\"\"\u001b[39;00m\n\u001b[0;32m--> 413\u001b[0m     \u001b[38;5;28;01mreturn\u001b[39;00m \u001b[43m_broadcast_to\u001b[49m\u001b[43m(\u001b[49m\u001b[43marray\u001b[49m\u001b[43m,\u001b[49m\u001b[43m \u001b[49m\u001b[43mshape\u001b[49m\u001b[43m,\u001b[49m\u001b[43m \u001b[49m\u001b[43msubok\u001b[49m\u001b[38;5;241;43m=\u001b[39;49m\u001b[43msubok\u001b[49m\u001b[43m,\u001b[49m\u001b[43m \u001b[49m\u001b[43mreadonly\u001b[49m\u001b[38;5;241;43m=\u001b[39;49m\u001b[38;5;28;43;01mTrue\u001b[39;49;00m\u001b[43m)\u001b[49m\n",
      "File \u001b[0;32m~/Baikal-ML/venv/lib/python3.10/site-packages/numpy/lib/stride_tricks.py:349\u001b[0m, in \u001b[0;36m_broadcast_to\u001b[0;34m(array, shape, subok, readonly)\u001b[0m\n\u001b[1;32m    346\u001b[0m     \u001b[38;5;28;01mraise\u001b[39;00m \u001b[38;5;167;01mValueError\u001b[39;00m(\u001b[38;5;124m'\u001b[39m\u001b[38;5;124mall elements of broadcast shape must be non-\u001b[39m\u001b[38;5;124m'\u001b[39m\n\u001b[1;32m    347\u001b[0m                      \u001b[38;5;124m'\u001b[39m\u001b[38;5;124mnegative\u001b[39m\u001b[38;5;124m'\u001b[39m)\n\u001b[1;32m    348\u001b[0m extras \u001b[38;5;241m=\u001b[39m []\n\u001b[0;32m--> 349\u001b[0m it \u001b[38;5;241m=\u001b[39m \u001b[43mnp\u001b[49m\u001b[38;5;241;43m.\u001b[39;49m\u001b[43mnditer\u001b[49m\u001b[43m(\u001b[49m\n\u001b[1;32m    350\u001b[0m \u001b[43m    \u001b[49m\u001b[43m(\u001b[49m\u001b[43marray\u001b[49m\u001b[43m,\u001b[49m\u001b[43m)\u001b[49m\u001b[43m,\u001b[49m\u001b[43m \u001b[49m\u001b[43mflags\u001b[49m\u001b[38;5;241;43m=\u001b[39;49m\u001b[43m[\u001b[49m\u001b[38;5;124;43m'\u001b[39;49m\u001b[38;5;124;43mmulti_index\u001b[39;49m\u001b[38;5;124;43m'\u001b[39;49m\u001b[43m,\u001b[49m\u001b[43m \u001b[49m\u001b[38;5;124;43m'\u001b[39;49m\u001b[38;5;124;43mrefs_ok\u001b[39;49m\u001b[38;5;124;43m'\u001b[39;49m\u001b[43m,\u001b[49m\u001b[43m \u001b[49m\u001b[38;5;124;43m'\u001b[39;49m\u001b[38;5;124;43mzerosize_ok\u001b[39;49m\u001b[38;5;124;43m'\u001b[39;49m\u001b[43m]\u001b[49m\u001b[43m \u001b[49m\u001b[38;5;241;43m+\u001b[39;49m\u001b[43m \u001b[49m\u001b[43mextras\u001b[49m\u001b[43m,\u001b[49m\n\u001b[1;32m    351\u001b[0m \u001b[43m    \u001b[49m\u001b[43mop_flags\u001b[49m\u001b[38;5;241;43m=\u001b[39;49m\u001b[43m[\u001b[49m\u001b[38;5;124;43m'\u001b[39;49m\u001b[38;5;124;43mreadonly\u001b[39;49m\u001b[38;5;124;43m'\u001b[39;49m\u001b[43m]\u001b[49m\u001b[43m,\u001b[49m\u001b[43m \u001b[49m\u001b[43mitershape\u001b[49m\u001b[38;5;241;43m=\u001b[39;49m\u001b[43mshape\u001b[49m\u001b[43m,\u001b[49m\u001b[43m \u001b[49m\u001b[43morder\u001b[49m\u001b[38;5;241;43m=\u001b[39;49m\u001b[38;5;124;43m'\u001b[39;49m\u001b[38;5;124;43mC\u001b[39;49m\u001b[38;5;124;43m'\u001b[39;49m\u001b[43m)\u001b[49m\n\u001b[1;32m    352\u001b[0m \u001b[38;5;28;01mwith\u001b[39;00m it:\n\u001b[1;32m    353\u001b[0m     \u001b[38;5;66;03m# never really has writebackifcopy semantics\u001b[39;00m\n\u001b[1;32m    354\u001b[0m     broadcast \u001b[38;5;241m=\u001b[39m it\u001b[38;5;241m.\u001b[39mitviews[\u001b[38;5;241m0\u001b[39m]\n",
      "\u001b[0;31mValueError\u001b[0m: operands could not be broadcast together with remapped shapes [original->remapped]: (2,2)  and requested shape (1,2)"
     ]
    }
   ],
   "source": [
    "lens = np.vectorize(len)(data[:,0])\n",
    "delta_lens = np.max(lens)-lens\n",
    "data_pad = [np.pad(d, ((0, delta),(0,0))) for d, delta in zip(data,delta_lens)]\n",
    "data_pad"
   ]
  },
  {
   "cell_type": "code",
   "execution_count": 12,
   "metadata": {},
   "outputs": [
    {
     "data": {
      "text/plain": [
       "(225628, 5)"
      ]
     },
     "execution_count": 12,
     "metadata": {},
     "output_type": "execute_result"
    }
   ],
   "source": [
    "data.shape"
   ]
  },
  {
   "cell_type": "code",
   "execution_count": null,
   "metadata": {},
   "outputs": [],
   "source": []
  },
  {
   "cell_type": "code",
   "execution_count": null,
   "metadata": {},
   "outputs": [],
   "source": []
  },
  {
   "cell_type": "markdown",
   "metadata": {},
   "source": [
    "# Read data from root"
   ]
  },
  {
   "cell_type": "code",
   "execution_count": 7,
   "metadata": {},
   "outputs": [],
   "source": [
    "paths_slice = paths[0:25]\n",
    "dfs = proc.read_chunk_as_dfs(paths_slice, proc._extract_prefixes(paths_slice))\n",
    "df = proc.enrich_and_filter(*dfs)"
   ]
  },
  {
   "cell_type": "code",
   "execution_count": 4,
   "metadata": {},
   "outputs": [
    {
     "name": "stdout",
     "output_type": "stream",
     "text": [
      "path_num=1, loading_time per file: 4.7835 s\n",
      "path_num=3, loading_time per file: 2.1475 s\n",
      "path_num=5, loading_time per file: 1.8320 s\n",
      "path_num=10, loading_time per file: 2.1372 s\n",
      "path_num=15, loading_time per file: 2.0414 s\n",
      "path_num=20, loading_time per file: 1.9907 s\n",
      "path_num=25, loading_time per file: 2.0518 s\n"
     ]
    }
   ],
   "source": [
    "# test parquet format\n",
    "dts = []\n",
    "for i, path_num in enumerate([1, 3, 5,10,15,20, 25]):\n",
    "    t0 = time()\n",
    "    paths_slice = paths[i*path_num:(i+1)*path_num]\n",
    "    dfs = proc.read_chunk_as_dfs(paths_slice, proc._extract_prefixes(paths_slice))\n",
    "    df = proc.enrich_and_filter(*dfs)\n",
    "    #df.write_parquet('./test.parquet')\n",
    "    #pyarr_ds.write_dataset(df.to_arrow(), './test_ds/', format='parquet', existing_data_behavior='overwrite_or_ignore')\n",
    "    #df.write_parquet('./test.parquet')\n",
    "    print(f\"{path_num=}, loading_time per file: {(time()-t0)/path_num:.4f} s\")"
   ]
  },
  {
   "cell_type": "code",
   "execution_count": 10,
   "metadata": {},
   "outputs": [
    {
     "name": "stderr",
     "output_type": "stream",
     "text": [
      "/tmp/ipykernel_3039287/2885806558.py:9: PerformanceWarning: \n",
      "your performance may suffer as PyTables will pickle object types that it cannot\n",
      "map directly to c-types [inferred_type->mixed,key->block2_values] [items->Index(['ev_id', 'PulsesChID', 'PulsesAmpl', 'PulsesTime', 'PulsesFlg',\n",
      "       'is_signal', 'X', 'Y', 'Z', 'Xrel', 'Yrel', 'Zrel', 'RespMuTheta',\n",
      "       'RespMuPhi', 'RespMuTrackX', 'RespMuTrackY', 'RespMuTrackZ',\n",
      "       'RespMuDelay', 'RespMuEn'],\n",
      "      dtype='object')]\n",
      "\n",
      "  df.to_hdf('test.h5', key='data', mode='w', complevel=1)\n"
     ]
    },
    {
     "name": "stdout",
     "output_type": "stream",
     "text": [
      "path_num=5, loading_time per file: 3.6486 s\n",
      "path_num=10, loading_time per file: 2.5984 s\n",
      "path_num=15, loading_time per file: 2.4899 s\n",
      "path_num=20, loading_time per file: 2.4794 s\n",
      "path_num=25, loading_time per file: 2.2836 s\n"
     ]
    }
   ],
   "source": [
    "# test hdf5 format\n",
    "dts = []\n",
    "for i, path_num in enumerate([5,10,15,20, 25]):\n",
    "    t0 = time()\n",
    "    paths_slice = paths[0:path_num]\n",
    "    dfs = proc.read_chunk_as_dfs(paths_slice, proc._extract_prefixes(paths_slice))\n",
    "    df = proc.enrich_and_filter(*dfs)\n",
    "    df = df.to_pandas()\n",
    "    df.to_hdf('test.h5', key='data', mode='w', complevel=1)\n",
    "    #pyarr_ds.write_dataset(df.to_arrow(), './test_ds/', format='parquet', existing_data_behavior='overwrite_or_ignore')\n",
    "    #df.write_parquet('./test.parquet')\n",
    "    print(f\"{path_num=}, loading_time per file: {(time()-t0)/path_num:.4f} s\")"
   ]
  },
  {
   "cell_type": "code",
   "execution_count": 5,
   "metadata": {},
   "outputs": [
    {
     "data": {
      "text/plain": [
       "1711.3256912231445"
      ]
     },
     "execution_count": 5,
     "metadata": {},
     "output_type": "execute_result"
    }
   ],
   "source": [
    "df.estimated_size()/1024/1024"
   ]
  },
  {
   "cell_type": "code",
   "execution_count": 7,
   "metadata": {},
   "outputs": [
    {
     "data": {
      "text/plain": [
       "330.529296875"
      ]
     },
     "execution_count": 7,
     "metadata": {},
     "output_type": "execute_result"
    }
   ],
   "source": [
    "df.shape[0]/1024"
   ]
  },
  {
   "cell_type": "code",
   "execution_count": 22,
   "metadata": {},
   "outputs": [],
   "source": [
    "df.write_parquet('./test.parquet')"
   ]
  },
  {
   "cell_type": "code",
   "execution_count": 23,
   "metadata": {},
   "outputs": [
    {
     "data": {
      "text/html": [
       "<div><style>\n",
       ".dataframe > thead > tr,\n",
       ".dataframe > tbody > tr {\n",
       "  text-align: right;\n",
       "  white-space: pre-wrap;\n",
       "}\n",
       "</style>\n",
       "<small>shape: (40_736, 30)</small><table border=\"1\" class=\"dataframe\"><thead><tr><th>PulsesN</th><th>PrimeTheta</th><th>PrimePhi</th><th>PrimeEn</th><th>PrimeNuclN</th><th>ResponseMuN</th><th>BundleEnReg</th><th>EventWeight</th><th>ev_id</th><th>cluster_id</th><th>PulsesChID</th><th>PulsesAmpl</th><th>PulsesTime</th><th>PulsesFlg</th><th>is_signal</th><th>X</th><th>Y</th><th>Z</th><th>Xrel</th><th>Yrel</th><th>Zrel</th><th>num_signal_hits</th><th>num_signal_strings</th><th>RespMuTheta</th><th>RespMuPhi</th><th>RespMuTrackX</th><th>RespMuTrackY</th><th>RespMuTrackZ</th><th>RespMuDelay</th><th>RespMuEn</th></tr><tr><td>i32</td><td>f32</td><td>f32</td><td>f32</td><td>i32</td><td>i32</td><td>f32</td><td>f32</td><td>str</td><td>i8</td><td>list[i16]</td><td>list[f32]</td><td>list[f32]</td><td>list[i32]</td><td>list[bool]</td><td>list[f64]</td><td>list[f64]</td><td>list[f64]</td><td>list[f64]</td><td>list[f64]</td><td>list[f64]</td><td>i16</td><td>i8</td><td>list[f32]</td><td>list[f32]</td><td>list[f32]</td><td>list[f32]</td><td>list[f32]</td><td>list[f32]</td><td>list[f32]</td></tr></thead><tbody><tr><td>144</td><td>142.48761</td><td>205.069519</td><td>264.505249</td><td>402</td><td>12</td><td>11177.198242</td><td>1.0</td><td>&quot;muatm_10170_0&quot;</td><td>2</td><td>[769, 745, … 742]</td><td>[0.453675, 0.487854, … 1.244507]</td><td>[-636.141846, -625.435974, … 4173.588867]</td><td>[0, 0, … 0]</td><td>[false, false, … false]</td><td>[-103.789627, -76.687614, … -76.687614]</td><td>[284.666687, 240.057663, … 240.057663]</td><td>[-66.488144, 113.498863, … 68.478867]</td><td>[-58.110868, -31.008856, … -31.008856]</td><td>[-4.861609, -49.470633, … -49.470633]</td><td>[-67.601007, 112.386, … 67.366003]</td><td>19</td><td>5</td><td>[142.48761, 142.48761, … 142.48761]</td><td>[205.069519, 205.069519, … 205.069519]</td><td>[-185.562256, -140.511734, … -193.940186]</td><td>[273.968506, 259.521942, … 239.393097]</td><td>[39.915855, 13.289016, … 56.987972]</td><td>[0.0, 0.0, … 0.0]</td><td>[106.167679, 25.54468, … 992.909485]</td></tr><tr><td>144</td><td>142.48761</td><td>205.069519</td><td>264.505249</td><td>402</td><td>12</td><td>11177.198242</td><td>1.0</td><td>&quot;muatm_10170_0&quot;</td><td>6</td><td>[1785, 1979, … 1905]</td><td>[1.322611, 0.339449, … 0.553845]</td><td>[-489.384003, -344.830444, … 4265.375]</td><td>[0, 0, … 0]</td><td>[false, false, … false]</td><td>[-222.545593, -313.487579, … -305.115631]</td><td>[177.842667, 191.241669, … 97.512672]</td><td>[53.693867, 264.288818, … 234.093903]</td><td>[49.316767, -41.625219, … -33.253271]</td><td>[30.902242, 44.301244, … -49.427752]</td><td>[52.505432, 263.100383, … 232.905468]</td><td>12</td><td>4</td><td>[142.48761, 142.48761, … 142.48761]</td><td>[205.069519, 205.069519, … 205.069519]</td><td>[-185.562256, -140.511734, … -193.940186]</td><td>[273.968506, 259.521942, … 239.393097]</td><td>[39.915855, 13.289016, … 56.987972]</td><td>[0.0, 0.0, … 0.0]</td><td>[106.167679, 25.54468, … 992.909485]</td></tr><tr><td>75</td><td>131.766022</td><td>169.785034</td><td>164.788055</td><td>402</td><td>8</td><td>6046.333496</td><td>1.0</td><td>&quot;muatm_10170_4&quot;</td><td>4</td><td>[1394, 1247, … 1220]</td><td>[2.583993, 0.963218, … 0.938019]</td><td>[-539.138916, -503.128479, … 4432.605469]</td><td>[0, 0, … 0]</td><td>[false, false, … false]</td><td>[20.216366, 115.170372, … 113.600372]</td><td>[-258.987305, -321.128326, … -270.246277]</td><td>[126.630859, 81.320854, … 216.261871]</td><td>[-40.992133, 53.961874, … 52.391874]</td><td>[42.604509, -19.536512, … 31.345537]</td><td>[127.881517, 82.571512, … 217.512529]</td><td>10</td><td>4</td><td>[131.766022, 131.766022, … 131.766022]</td><td>[169.785034, 169.785034, … 169.785034]</td><td>[-97.941811, -115.418037, … -91.434341]</td><td>[-235.658493, -229.785095, … -235.184021]</td><td>[61.136772, 81.562347, … 54.059608]</td><td>[0.0, 0.0, … 0.0]</td><td>[148.718048, -16.340019, … 212.316788]</td></tr><tr><td>58</td><td>128.333176</td><td>201.290375</td><td>458.393524</td><td>1608</td><td>9</td><td>10194.357422</td><td>1.0</td><td>&quot;muatm_10170_5&quot;</td><td>5</td><td>[1540, 1622, … 1650]</td><td>[0.852532, 0.678877, … 0.901192]</td><td>[-593.951416, -537.635864, … 4323.832031]</td><td>[0, 0, … 0]</td><td>[false, false, … false]</td><td>[-197.581619, -312.965637, … -312.965637]</td><td>[-140.047302, -161.272308, … -161.272308]</td><td>[157.6409, -232.697144, … 187.985855]</td><td>[60.158501, -55.225517, … -55.225517]</td><td>[-2.030605, -23.255611, … -23.255611]</td><td>[157.661532, -232.676511, … 188.006487]</td><td>9</td><td>4</td><td>[128.333176, 128.333176, … 128.333176]</td><td>[201.290375, 201.290375, … 201.290375]</td><td>[-237.817795, -185.393295, … -197.386108]</td><td>[-82.297729, -59.120495, … -80.984665]</td><td>[318.035919, 245.615768, … 269.78833]</td><td>[0.0, 0.0, … 0.0]</td><td>[149.072189, 579.408508, … 220.847931]</td></tr><tr><td>72</td><td>132.546112</td><td>212.479462</td><td>100.837494</td><td>14</td><td>5</td><td>9990.177734</td><td>1.0</td><td>&quot;muatm_10170_6&quot;</td><td>4</td><td>[1437, 1193, … 1394]</td><td>[1.307053, 1.014979, … 0.821642]</td><td>[-736.324097, -445.252319, … 4105.505859]</td><td>[0, 0, … 0]</td><td>[false, false, … false]</td><td>[60.813377, 113.600372, … 20.216366]</td><td>[-303.27533, -270.246277, … -258.987305]</td><td>[231.318863, -189.075134, … 126.630859]</td><td>[-0.395121, 52.391874, … -40.992133]</td><td>[-1.683516, 31.345537, … 42.604509]</td><td>[232.569521, -187.824476, … 127.881517]</td><td>12</td><td>4</td><td>[132.546112, 132.546112, … 132.546112]</td><td>[212.479462, 212.479462, … 212.479462]</td><td>[116.5373, 91.099106, … 94.215797]</td><td>[-335.362793, -353.112427, … -275.277374]</td><td>[89.102783, 122.868599, … 74.464058]</td><td>[0.0, 0.0, … 0.0]</td><td>[7211.32959, 63.630669, … 13.769205]</td></tr><tr><td>&hellip;</td><td>&hellip;</td><td>&hellip;</td><td>&hellip;</td><td>&hellip;</td><td>&hellip;</td><td>&hellip;</td><td>&hellip;</td><td>&hellip;</td><td>&hellip;</td><td>&hellip;</td><td>&hellip;</td><td>&hellip;</td><td>&hellip;</td><td>&hellip;</td><td>&hellip;</td><td>&hellip;</td><td>&hellip;</td><td>&hellip;</td><td>&hellip;</td><td>&hellip;</td><td>&hellip;</td><td>&hellip;</td><td>&hellip;</td><td>&hellip;</td><td>&hellip;</td><td>&hellip;</td><td>&hellip;</td><td>&hellip;</td><td>&hellip;</td></tr><tr><td>58</td><td>149.354065</td><td>100.547913</td><td>299.719971</td><td>1608</td><td>9</td><td>4181.981445</td><td>1.0</td><td>&quot;muatm_10558_32148&quot;</td><td>5</td><td>[1558, 1690, … 1440]</td><td>[0.798407, 0.782037, … 1.001926]</td><td>[-970.612122, -665.352478, … 3942.422363]</td><td>[0, 0, … 0]</td><td>[false, false, … false]</td><td>[-223.040604, -311.404663, … -266.676605]</td><td>[-184.825348, -110.176323, … -80.456329]</td><td>[-112.781151, 248.044876, … -262.644135]</td><td>[34.699516, -53.664543, … -8.936485]</td><td>[-46.808651, 27.840374, … 57.560368]</td><td>[-112.760518, 248.065508, … -262.623502]</td><td>14</td><td>3</td><td>[149.354065, 149.354065, … 149.354065]</td><td>[100.547913, 100.547913, … 100.547913]</td><td>[-328.764832, -335.390839, … -322.057465]</td><td>[-54.712063, -46.211323, … -52.901794]</td><td>[3.789326, 9.459392, … 4.116277]</td><td>[0.0, 0.0, … 0.0]</td><td>[255.747757, -57.58873, … 85.772522]</td></tr><tr><td>79</td><td>155.355652</td><td>244.117218</td><td>2893.328613</td><td>1608</td><td>59</td><td>45375.875</td><td>1.0</td><td>&quot;muatm_10558_32151&quot;</td><td>3</td><td>[1041, 942, … 963]</td><td>[0.827441, 0.348405, … 0.061407]</td><td>[-681.994446, -664.877625, … 4085.672607]</td><td>[0, 0, … 0]</td><td>[false, false, … false]</td><td>[258.36438, 346.962372, … 346.962372]</td><td>[-157.580353, -128.291321, … -128.291321]</td><td>[231.262802, -174.051147, … 140.691833]</td><td>[-31.814613, 56.783379, … 56.783379]</td><td>[-50.050532, -20.7615, … -20.7615]</td><td>[232.740575, -172.573375, … 142.169606]</td><td>30</td><td>4</td><td>[155.355652, 155.355652, … 155.355652]</td><td>[244.117218, 244.117218, … 244.117218]</td><td>[332.563782, 318.990723, … 331.245117]</td><td>[-162.026016, -148.585541, … -152.427094]</td><td>[0.274393, -2.554931, … -3.423481]</td><td>[0.0, 0.0, … 0.0]</td><td>[21.917046, 6.329486, … 41.537399]</td></tr><tr><td>64</td><td>137.130219</td><td>217.982971</td><td>100.274712</td><td>14</td><td>3</td><td>4025.435791</td><td>1.0</td><td>&quot;muatm_10558_32152&quot;</td><td>3</td><td>[994, 898, … 976]</td><td>[0.561318, 1.197565, … 1.023141]</td><td>[-734.382019, -568.5849, … 3876.204346]</td><td>[0, 0, … 0]</td><td>[false, false, … false]</td><td>[304.089355, 298.988342, … 304.089355]</td><td>[-162.519287, -49.102303, … -162.519287]</td><td>[65.557854, 245.96582, … -204.402145]</td><td>[13.910362, 8.809349, … 13.910362]</td><td>[-54.989467, 58.427518, … -54.989467]</td><td>[67.035626, 247.443593, … -202.924373]</td><td>9</td><td>3</td><td>[137.130219, 137.130219, 137.130219]</td><td>[217.982971, 217.982971, 217.982971]</td><td>[254.024017, 227.378708, 261.731323]</td><td>[-136.876312, -124.596306, -141.072601]</td><td>[-107.663849, -95.183922, -110.905693]</td><td>[0.0, 0.0, 0.0]</td><td>[1826.043091, 249.896271, 256.695251]</td></tr><tr><td>61</td><td>152.393433</td><td>203.509232</td><td>283.896301</td><td>402</td><td>6</td><td>5232.370605</td><td>1.0</td><td>&quot;muatm_10558_32154&quot;</td><td>5</td><td>[1688, 1723, … 1719]</td><td>[1.055329, 0.366394, … 0.500499]</td><td>[-333.057037, -318.445953, … 4575.517578]</td><td>[0, 0, … 0]</td><td>[false, false, … false]</td><td>[-311.404663, -255.562592, … -255.562592]</td><td>[-110.176323, -138.781326, … -138.781326]</td><td>[218.023865, 202.353821, … 142.362854]</td><td>[-53.664543, 2.177528, … 2.177528]</td><td>[27.840374, -0.764629, … -0.764629]</td><td>[218.044497, 202.374453, … 142.383486]</td><td>16</td><td>5</td><td>[152.393433, 152.393433, … 152.393433]</td><td>[203.509232, 203.509232, … 203.509232]</td><td>[-197.534393, -196.642685, … -198.107849]</td><td>[-105.426933, -115.197792, … -105.142563]</td><td>[116.714722, 118.325302, … 116.930397]</td><td>[0.0, 0.0, … 0.0]</td><td>[174.589508, 753.1828, … 2442.804199]</td></tr><tr><td>125</td><td>124.936432</td><td>170.050293</td><td>481.125061</td><td>402</td><td>8</td><td>4655.402344</td><td>1.0</td><td>&quot;muatm_10558_32157&quot;</td><td>0</td><td>[249, 251, … 70]</td><td>[0.813126, 0.276731, … 0.696602]</td><td>[-810.033752, -767.790833, … 3976.253662]</td><td>[0, 0, … 0]</td><td>[false, false, … false]</td><td>[173.346359, 173.346359, … 264.082367]</td><td>[154.712677, 154.712677, … 150.414688]</td><td>[232.54187, 262.549866, … 247.968903]</td><td>[-42.039257, -42.039257, … 48.696751]</td><td>[38.46075, 38.46075, … 34.162761]</td><td>[232.096077, 262.104072, … 247.523109]</td><td>11</td><td>3</td><td>[124.936432, 124.936432, … 124.936432]</td><td>[170.050293, 170.050293, … 170.050293]</td><td>[3.254832, -11.773073, … -7.31771]</td><td>[211.813858, 201.23172, … 206.335541]</td><td>[47.801746, 66.373535, … 61.35392]</td><td>[0.0, 0.0, … 0.0]</td><td>[65.625237, 174.729446, … 172.929565]</td></tr></tbody></table></div>"
      ],
      "text/plain": [
       "shape: (40_736, 30)\n",
       "┌─────────┬────────────┬───────────┬───────────┬───┬───────────┬───────────┬───────────┬───────────┐\n",
       "│ PulsesN ┆ PrimeTheta ┆ PrimePhi  ┆ PrimeEn   ┆ … ┆ RespMuTra ┆ RespMuTra ┆ RespMuDel ┆ RespMuEn  │\n",
       "│ ---     ┆ ---        ┆ ---       ┆ ---       ┆   ┆ ckY       ┆ ckZ       ┆ ay        ┆ ---       │\n",
       "│ i32     ┆ f32        ┆ f32       ┆ f32       ┆   ┆ ---       ┆ ---       ┆ ---       ┆ list[f32] │\n",
       "│         ┆            ┆           ┆           ┆   ┆ list[f32] ┆ list[f32] ┆ list[f32] ┆           │\n",
       "╞═════════╪════════════╪═══════════╪═══════════╪═══╪═══════════╪═══════════╪═══════════╪═══════════╡\n",
       "│ 144     ┆ 142.48761  ┆ 205.06951 ┆ 264.50524 ┆ … ┆ [273.9685 ┆ [39.91585 ┆ [0.0,     ┆ [106.1676 │\n",
       "│         ┆            ┆ 9         ┆ 9         ┆   ┆ 06, 259.5 ┆ 5, 13.289 ┆ 0.0, …    ┆ 79,       │\n",
       "│         ┆            ┆           ┆           ┆   ┆ 21942, …  ┆ 016, …    ┆ 0.0]      ┆ 25.54468, │\n",
       "│         ┆            ┆           ┆           ┆   ┆ 239…      ┆ 56.98…    ┆           ┆ … 992.9…  │\n",
       "│ 144     ┆ 142.48761  ┆ 205.06951 ┆ 264.50524 ┆ … ┆ [273.9685 ┆ [39.91585 ┆ [0.0,     ┆ [106.1676 │\n",
       "│         ┆            ┆ 9         ┆ 9         ┆   ┆ 06, 259.5 ┆ 5, 13.289 ┆ 0.0, …    ┆ 79,       │\n",
       "│         ┆            ┆           ┆           ┆   ┆ 21942, …  ┆ 016, …    ┆ 0.0]      ┆ 25.54468, │\n",
       "│         ┆            ┆           ┆           ┆   ┆ 239…      ┆ 56.98…    ┆           ┆ … 992.9…  │\n",
       "│ 75      ┆ 131.766022 ┆ 169.78503 ┆ 164.78805 ┆ … ┆ [-235.658 ┆ [61.13677 ┆ [0.0,     ┆ [148.7180 │\n",
       "│         ┆            ┆ 4         ┆ 5         ┆   ┆ 493, -229 ┆ 2, 81.562 ┆ 0.0, …    ┆ 48, -16.3 │\n",
       "│         ┆            ┆           ┆           ┆   ┆ .785095,  ┆ 347, …    ┆ 0.0]      ┆ 40019, …  │\n",
       "│         ┆            ┆           ┆           ┆   ┆ … -…      ┆ 54.05…    ┆           ┆ 212…      │\n",
       "│ 58      ┆ 128.333176 ┆ 201.29037 ┆ 458.39352 ┆ … ┆ [-82.2977 ┆ [318.0359 ┆ [0.0,     ┆ [149.0721 │\n",
       "│         ┆            ┆ 5         ┆ 4         ┆   ┆ 29, -59.1 ┆ 19, 245.6 ┆ 0.0, …    ┆ 89, 579.4 │\n",
       "│         ┆            ┆           ┆           ┆   ┆ 20495, …  ┆ 15768, …  ┆ 0.0]      ┆ 08508, …  │\n",
       "│         ┆            ┆           ┆           ┆   ┆ -80…      ┆ 269…      ┆           ┆ 220…      │\n",
       "│ 72      ┆ 132.546112 ┆ 212.47946 ┆ 100.83749 ┆ … ┆ [-335.362 ┆ [89.10278 ┆ [0.0,     ┆ [7211.329 │\n",
       "│         ┆            ┆ 2         ┆ 4         ┆   ┆ 793, -353 ┆ 3, 122.86 ┆ 0.0, …    ┆ 59, 63.63 │\n",
       "│         ┆            ┆           ┆           ┆   ┆ .112427,  ┆ 8599, …   ┆ 0.0]      ┆ 0669, …   │\n",
       "│         ┆            ┆           ┆           ┆   ┆ … -…      ┆ 74.4…     ┆           ┆ 13.7…     │\n",
       "│ …       ┆ …          ┆ …         ┆ …         ┆ … ┆ …         ┆ …         ┆ …         ┆ …         │\n",
       "│ 58      ┆ 149.354065 ┆ 100.54791 ┆ 299.71997 ┆ … ┆ [-54.7120 ┆ [3.789326 ┆ [0.0,     ┆ [255.7477 │\n",
       "│         ┆            ┆ 3         ┆ 1         ┆   ┆ 63, -46.2 ┆ ,         ┆ 0.0, …    ┆ 57, -57.5 │\n",
       "│         ┆            ┆           ┆           ┆   ┆ 11323, …  ┆ 9.459392, ┆ 0.0]      ┆ 8873, …   │\n",
       "│         ┆            ┆           ┆           ┆   ┆ -52…      ┆ …         ┆           ┆ 85.7…     │\n",
       "│         ┆            ┆           ┆           ┆   ┆           ┆ 4.11627…  ┆           ┆           │\n",
       "│ 79      ┆ 155.355652 ┆ 244.11721 ┆ 2893.3286 ┆ … ┆ [-162.026 ┆ [0.274393 ┆ [0.0,     ┆ [21.91704 │\n",
       "│         ┆            ┆ 8         ┆ 13        ┆   ┆ 016, -148 ┆ , -2.5549 ┆ 0.0, …    ┆ 6,        │\n",
       "│         ┆            ┆           ┆           ┆   ┆ .585541,  ┆ 31, …     ┆ 0.0]      ┆ 6.329486, │\n",
       "│         ┆            ┆           ┆           ┆   ┆ … -…      ┆ -3.423…   ┆           ┆ … 41.537… │\n",
       "│ 64      ┆ 137.130219 ┆ 217.98297 ┆ 100.27471 ┆ … ┆ [-136.876 ┆ [-107.663 ┆ [0.0,     ┆ [1826.043 │\n",
       "│         ┆            ┆ 1         ┆ 2         ┆   ┆ 312, -124 ┆ 849, -95. ┆ 0.0, 0.0] ┆ 091, 249. │\n",
       "│         ┆            ┆           ┆           ┆   ┆ .596306,  ┆ 183922,   ┆           ┆ 896271,   │\n",
       "│         ┆            ┆           ┆           ┆   ┆ -14…      ┆ -110…     ┆           ┆ 256.…     │\n",
       "│ 61      ┆ 152.393433 ┆ 203.50923 ┆ 283.89630 ┆ … ┆ [-105.426 ┆ [116.7147 ┆ [0.0,     ┆ [174.5895 │\n",
       "│         ┆            ┆ 2         ┆ 1         ┆   ┆ 933, -115 ┆ 22, 118.3 ┆ 0.0, …    ┆ 08,       │\n",
       "│         ┆            ┆           ┆           ┆   ┆ .197792,  ┆ 25302, …  ┆ 0.0]      ┆ 753.1828, │\n",
       "│         ┆            ┆           ┆           ┆   ┆ … -…      ┆ 116…      ┆           ┆ … 2442.…  │\n",
       "│ 125     ┆ 124.936432 ┆ 170.05029 ┆ 481.12506 ┆ … ┆ [211.8138 ┆ [47.80174 ┆ [0.0,     ┆ [65.62523 │\n",
       "│         ┆            ┆ 3         ┆ 1         ┆   ┆ 58, 201.2 ┆ 6, 66.373 ┆ 0.0, …    ┆ 7, 174.72 │\n",
       "│         ┆            ┆           ┆           ┆   ┆ 3172, …   ┆ 535, …    ┆ 0.0]      ┆ 9446, …   │\n",
       "│         ┆            ┆           ┆           ┆   ┆ 206.…     ┆ 61.35…    ┆           ┆ 172.…     │\n",
       "└─────────┴────────────┴───────────┴───────────┴───┴───────────┴───────────┴───────────┴───────────┘"
      ]
     },
     "execution_count": 23,
     "metadata": {},
     "output_type": "execute_result"
    }
   ],
   "source": [
    "df: pd.DataFrame\n",
    "df.to_hdf"
   ]
  },
  {
   "cell_type": "code",
   "execution_count": null,
   "metadata": {},
   "outputs": [],
   "source": []
  },
  {
   "cell_type": "code",
   "execution_count": null,
   "metadata": {},
   "outputs": [],
   "source": []
  },
  {
   "cell_type": "code",
   "execution_count": null,
   "metadata": {},
   "outputs": [],
   "source": []
  },
  {
   "cell_type": "code",
   "execution_count": null,
   "metadata": {},
   "outputs": [],
   "source": []
  },
  {
   "cell_type": "code",
   "execution_count": 48,
   "metadata": {},
   "outputs": [],
   "source": [
    "df_load = pl.read_parquet('./test.parquet', n_rows=10_000, row_index_name='#', row_index_offset=10_001)"
   ]
  },
  {
   "cell_type": "code",
   "execution_count": null,
   "metadata": {},
   "outputs": [],
   "source": [
    "import pyarrow.parquet as pq\n",
    "\n",
    "parquet_file = pq.ParquetFile('./test.parquet')\n",
    "\n",
    "for batch in parquet_file.iter_batches(1024):\n",
    "    print(\"RecordBatch\")\n",
    "    t0=time()\n",
    "    batch_load = pl.DataFrame(batch)\n",
    "    train_arr = batch_load['PulsesAmpl', 'PulsesTime', 'Xrel', 'Yrel', 'Zrel']\n",
    "    train_arr = train_arr.to_numpy()\n",
    "    print(f\"Loading_time: {time()-t0:.4f} s\")\n",
    "    break"
   ]
  },
  {
   "cell_type": "code",
   "execution_count": null,
   "metadata": {},
   "outputs": [],
   "source": [
    "batch_load"
   ]
  },
  {
   "cell_type": "code",
   "execution_count": null,
   "metadata": {},
   "outputs": [],
   "source": [
    "train_arr[100,0].shape"
   ]
  },
  {
   "cell_type": "code",
   "execution_count": 6,
   "metadata": {},
   "outputs": [],
   "source": [
    "events, pulses, muons = dfs[0:3]"
   ]
  },
  {
   "cell_type": "code",
   "execution_count": 40,
   "metadata": {},
   "outputs": [],
   "source": [
    "df_pulses_flat = pulses.explode([c for c in pulses.columns if c not in ['ev_id']])"
   ]
  },
  {
   "cell_type": "code",
   "execution_count": null,
   "metadata": {},
   "outputs": [],
   "source": [
    "df_pulses_flat = df_pulses_flat.with_columns(\n",
    "            is_signal=(pl.col('PulsesFlg')!=0),\n",
    "            cluster_id=(pl.col('PulsesChID')//288).cast(pl.Int8),\n",
    "            string_id=(pl.col('PulsesChID')//36)\n",
    "            )"
   ]
  },
  {
   "cell_type": "code",
   "execution_count": null,
   "metadata": {},
   "outputs": [],
   "source": [
    "df_pulses_flat"
   ]
  },
  {
   "cell_type": "code",
   "execution_count": 67,
   "metadata": {},
   "outputs": [],
   "source": [
    "df_pulses_enr = df_pulses_flat.join(\n",
    "        proc.OM_coords[['PulsesChID', 'Xrel','Yrel','Zrel']], on='PulsesChID', how='left'\n",
    "    ).sort(\n",
    "        ['ev_id', 'PulsesTime']\n",
    "    )\n",
    "\n",
    "query = [\n",
    "        pl.col(c_name) for c_name in df_pulses_enr.columns \n",
    "        if c_name not in ['ev_id', 'cluster_id', 'string_id']\n",
    "    ] + [\n",
    "        pl.col('is_signal').alias('num_signal_hits').sum().cast(pl.Int16),\n",
    "        pl.col('string_id').filter(pl.col('is_signal')).alias('num_signal_strings').n_unique().cast(pl.Int8)\n",
    "    ]\n",
    "df_out = df_pulses_enr.group_by(\n",
    "        ['ev_id', 'cluster_id'], maintain_order=True\n",
    "    ).agg(query)\n"
   ]
  },
  {
   "cell_type": "code",
   "execution_count": null,
   "metadata": {},
   "outputs": [],
   "source": [
    "df_out"
   ]
  },
  {
   "cell_type": "code",
   "execution_count": null,
   "metadata": {},
   "outputs": [],
   "source": [
    "len(df_out['num_signal_strings'][2])"
   ]
  },
  {
   "cell_type": "code",
   "execution_count": null,
   "metadata": {},
   "outputs": [],
   "source": [
    "pulses.memory_usage()/1024/1024"
   ]
  },
  {
   "cell_type": "code",
   "execution_count": null,
   "metadata": {},
   "outputs": [],
   "source": [
    "muons"
   ]
  },
  {
   "cell_type": "markdown",
   "metadata": {},
   "source": [
    "# Test Filtering"
   ]
  },
  {
   "cell_type": "code",
   "execution_count": 12,
   "metadata": {},
   "outputs": [],
   "source": [
    "events_f, pulses_f, muons_f = proc.enrich_and_filter(events, pulses, muons)"
   ]
  },
  {
   "cell_type": "code",
   "execution_count": null,
   "metadata": {},
   "outputs": [],
   "source": [
    "pulses_f"
   ]
  },
  {
   "cell_type": "markdown",
   "metadata": {},
   "source": [
    "# Invent Saving"
   ]
  },
  {
   "cell_type": "code",
   "execution_count": null,
   "metadata": {},
   "outputs": [],
   "source": [
    "pulses_f_f = pulses_f[['PulsesChID', 'PulsesAmpl',\t'PulsesTime', 'PulsesFlg']]\n",
    "pulses_f_f.memory_usage()/1024/1024, pulses_f_f.dtypes"
   ]
  },
  {
   "cell_type": "code",
   "execution_count": null,
   "metadata": {},
   "outputs": [],
   "source": [
    "pulses_f_f.dtypes"
   ]
  },
  {
   "cell_type": "code",
   "execution_count": null,
   "metadata": {},
   "outputs": [],
   "source": [
    "#pd.concat([pulses_f]*10).to_hdf('pulses_test.h5', key='pulses_f', mode='w', complevel=9)\n",
    "\n",
    "0.192/10*20_000*1.3"
   ]
  },
  {
   "cell_type": "code",
   "execution_count": 25,
   "metadata": {},
   "outputs": [],
   "source": [
    "#pd.concat([pulses_f]*10).to_hdf('events_test.h5', key='pulses_f', mode='w', complevel=9)"
   ]
  },
  {
   "cell_type": "code",
   "execution_count": null,
   "metadata": {},
   "outputs": [],
   "source": [
    "pulses_f"
   ]
  },
  {
   "cell_type": "code",
   "execution_count": 67,
   "metadata": {},
   "outputs": [],
   "source": [
    "pulses_fn = pulses_f.convert_dtypes()"
   ]
  },
  {
   "cell_type": "code",
   "execution_count": null,
   "metadata": {},
   "outputs": [],
   "source": [
    "pulses_f.index"
   ]
  },
  {
   "cell_type": "code",
   "execution_count": null,
   "metadata": {},
   "outputs": [],
   "source": [
    "#TODO fix dtypes in reader"
   ]
  },
  {
   "cell_type": "code",
   "execution_count": null,
   "metadata": {},
   "outputs": [],
   "source": [
    "pulses_f.dtypes, pulses_fn.dtypes"
   ]
  },
  {
   "cell_type": "code",
   "execution_count": null,
   "metadata": {},
   "outputs": [],
   "source": [
    "pulses_fn.memory_usage()/1024/1024"
   ]
  },
  {
   "cell_type": "code",
   "execution_count": null,
   "metadata": {},
   "outputs": [],
   "source": [
    "pulses_f.memory_usage()/1024/1024"
   ]
  },
  {
   "cell_type": "code",
   "execution_count": null,
   "metadata": {},
   "outputs": [],
   "source": [
    "pulses_f_f.to_hdf('pulses_test.h5', key='pulses_f', mode='w', complevel=1)"
   ]
  },
  {
   "cell_type": "code",
   "execution_count": 24,
   "metadata": {},
   "outputs": [],
   "source": [
    "muons_f.to_hdf('muons_f.h5', key='pulses_f', mode='w', complevel=1)"
   ]
  },
  {
   "cell_type": "code",
   "execution_count": null,
   "metadata": {},
   "outputs": [],
   "source": [
    "pd.read_hdf('/home/albert/Baikal-ML/ipynb_tests/pulses_test.h5')#, start=0, stop=100_000)#, key='pulses_f')"
   ]
  },
  {
   "cell_type": "code",
   "execution_count": null,
   "metadata": {},
   "outputs": [],
   "source": [
    "np.int16(8000), np.array(['muatm_1000_12'], dtype=type(b'str'))"
   ]
  },
  {
   "cell_type": "code",
   "execution_count": null,
   "metadata": {},
   "outputs": [],
   "source": [
    "sys.getsizeof('muatm_1000_12_6'), sys.getsizeof(b'muatm_1000_12_6')"
   ]
  },
  {
   "cell_type": "code",
   "execution_count": null,
   "metadata": {},
   "outputs": [],
   "source": [
    "import h5py as h5\n",
    "\n",
    "with h5.File(\"/home/albert/Baikal-ML/ipynb_tests/muons_f.h5\") as hf:\n",
    "   #print(hf['pulses_f'].keys())\n",
    "    print(hf['pulses_f/block0_items'][:])"
   ]
  },
  {
   "cell_type": "markdown",
   "metadata": {},
   "source": [
    "# Invent Filtering"
   ]
  },
  {
   "cell_type": "code",
   "execution_count": 13,
   "metadata": {},
   "outputs": [],
   "source": [
    "signal_hits_per_cluster = pulses[['is_signal']].groupby(['ev_id','cluster_id']).sum().rename(columns={'is_signal': 'signal_hits_num'})"
   ]
  },
  {
   "cell_type": "code",
   "execution_count": null,
   "metadata": {},
   "outputs": [],
   "source": [
    "signal_hits_per_cluster"
   ]
  },
  {
   "cell_type": "code",
   "execution_count": 15,
   "metadata": {},
   "outputs": [],
   "source": [
    "string_nums = pulses[pulses['is_signal']][['string_id']].groupby(['ev_id','cluster_id']\n",
    "    ).nunique(\n",
    "    ).rename(columns={'string_id': 'unique_signal_strings_num'})"
   ]
  },
  {
   "cell_type": "code",
   "execution_count": 16,
   "metadata": {},
   "outputs": [],
   "source": [
    "events_enrich = events.join(signal_hits_per_cluster, how='left').join(string_nums, how='left')\n",
    "events_filter = events_enrich[(events_enrich['signal_hits_num']>=5) & (events_enrich['unique_signal_strings_num']>=2)]"
   ]
  },
  {
   "cell_type": "code",
   "execution_count": null,
   "metadata": {},
   "outputs": [],
   "source": [
    "events_filter"
   ]
  },
  {
   "cell_type": "code",
   "execution_count": null,
   "metadata": {},
   "outputs": [],
   "source": [
    "bad_idxs = signal_hits_per_cluster.index[signal_hits_per_cluster['signal_hits_num']<10000].union(string_nums.index[string_nums['unique_signal_strings_num']<2])\n",
    "pulses_filter = pulses.drop(bad_idxs)"
   ]
  },
  {
   "cell_type": "code",
   "execution_count": null,
   "metadata": {},
   "outputs": [],
   "source": [
    "pulses_filter[pulses_filter['is_signal']]"
   ]
  },
  {
   "cell_type": "code",
   "execution_count": 20,
   "metadata": {},
   "outputs": [],
   "source": [
    "muons_filter = muons.loc[events_filter.reset_index()['ev_id']]"
   ]
  },
  {
   "cell_type": "code",
   "execution_count": null,
   "metadata": {},
   "outputs": [],
   "source": [
    "muons_filter"
   ]
  },
  {
   "cell_type": "code",
   "execution_count": null,
   "metadata": {},
   "outputs": [],
   "source": []
  }
 ],
 "metadata": {
  "kernelspec": {
   "display_name": "Python 3",
   "language": "python",
   "name": "python3"
  },
  "language_info": {
   "codemirror_mode": {
    "name": "ipython",
    "version": 3
   },
   "file_extension": ".py",
   "mimetype": "text/x-python",
   "name": "python",
   "nbconvert_exporter": "python",
   "pygments_lexer": "ipython3",
   "version": "3.10.15"
  }
 },
 "nbformat": 4,
 "nbformat_minor": 2
}
